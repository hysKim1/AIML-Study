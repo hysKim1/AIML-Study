{
  "nbformat": 4,
  "nbformat_minor": 0,
  "metadata": {
    "accelerator": "GPU",
    "colab": {
      "name": "Exercise 5 - DogvsCat CNN",
      "provenance": [],
      "collapsed_sections": [],
      "toc_visible": true
    },
    "kernelspec": {
      "display_name": "Python 3",
      "name": "python3"
    }
  },
  {
  "cells": [
  {
      "cell_type": "markdown",
      "metadata": {
        "colab_type": "text",
        "id": "rX8mhOLljYeM"
      },
      "source": [
        "##### Copyright 2019 The TensorFlow Authors."
      ]
    },
    {
      "cell_type": "code",
      "metadata": {
        "cellView": "form",
        "colab_type": "code",
        "id": "BZSlp3DAjdYf",
        "colab": {}
      },
      "source": [
        "#@title Licensed under the Apache License, Version 2.0 (the \"License\");\n",
        "# you may not use this file except in compliance with the License.\n",
        "# You may obtain a copy of the License at\n",
        "#\n",
        "# https://www.apache.org/licenses/LICENSE-2.0\n",
        "#\n",
        "# Unless required by applicable law or agreed to in writing, software\n",
        "# distributed under the License is distributed on an \"AS IS\" BASIS,\n",
        "# WITHOUT WARRANTIES OR CONDITIONS OF ANY KIND, either express or implied.\n",
        "# See the License for the specific language governing permissions and\n",
        "# limitations under the License."
      ],
      "execution_count": 0,
      "outputs": []
    },
    {
      "cell_type": "code",
      "metadata": {
        "id": "dn-6c02VmqiN"
      },
      "source": [        
        "# Train a CNN on the FULL Cats-v-dogs dataset- directory이용해서 데이터셋 구성 방법 \n",
        "import os\n",
        "import zipfile\n",
        "import random\n",
        "import tensorflow as tf\n",
        "from tensorflow.keras.optimizers import RMSprop\n",
        "from tensorflow.keras.preprocessing.image import ImageDataGenerator\n",
        "from shutil import copyfile"
      ],
      "execution_count": null,
      "outputs": []
    },
    {
      "cell_type": "code",
      "metadata": {
        "id": "3sd9dQWa23aj",
        "outputId": "7439dc50-fac1-4a72-98a5-29ef34dae548",
        "colab": {
          "base_uri": "https://localhost:8080/",
          "height": 224
        }
      },
      "source": [
        "\n",
        "# 1. downloads the full Cats-v-Dogs dataset& stores it as  cats-and-dogs.zip. \n",
        "# 2. unzips it to /tmp,  which will create a tmp/PetImages directory containing subdirectories called 'Cat' and 'Dog' (that's how the original researchers structured it)\n",
        "# If the URL doesn't work, visit https://www.microsoft.com/en-us/download/confirmation.aspx?id=54765\n",
        "# And right click on the 'Download Manually' link to get a new URL\n",
        "\n",
        "!wget --no-check-certificate \\\n",
        "    \"https://download.microsoft.com/download/3/E/1/3E1C3F21-ECDB-4869-8368-6DEBA77B919F/kagglecatsanddogs_3367a.zip\" \\\n",
        "    -O \"/tmp/cats-and-dogs.zip\"\n",
        "\n",
        "local_zip = '/tmp/cats-and-dogs.zip'\n",
        "zip_ref = zipfile.ZipFile(local_zip, 'r')\n",
        "zip_ref.extractall('/tmp')\n",
        "zip_ref.close()\n"
      ],
      "execution_count": null,
      "outputs": [
        {
          "output_type": "stream",
          "text": [
            "--2020-10-01 16:14:44--  https://download.microsoft.com/download/3/E/1/3E1C3F21-ECDB-4869-8368-6DEBA77B919F/kagglecatsanddogs_3367a.zip\n",
            "Resolving download.microsoft.com (download.microsoft.com)... 23.44.0.79, 2600:1417:3f:8a0::e59, 2600:1417:3f:898::e59\n",
            "Connecting to download.microsoft.com (download.microsoft.com)|23.44.0.79|:443... connected.\n",
            "HTTP request sent, awaiting response... 200 OK\n",
            "Length: 824894548 (787M) [application/octet-stream]\n",
            "Saving to: ‘/tmp/cats-and-dogs.zip’\n",
            "\n",
            "/tmp/cats-and-dogs. 100%[===================>] 786.68M   179MB/s    in 4.4s    \n",
            "\n",
            "2020-10-01 16:14:49 (179 MB/s) - ‘/tmp/cats-and-dogs.zip’ saved [824894548/824894548]\n",
            "\n"
          ],
          "name": "stdout"
        }
      ]
    },
    {
      "cell_type": "code",
      "metadata": {
        "id": "gi3yD62a6X3S",
        "outputId": "5f90fff1-457f-4ed4-ebcc-b9b3fe322217",
        "colab": {
          "base_uri": "https://localhost:8080/",
          "height": 51
        }
      },
      "source": [
        "#cats 12501, dogs 12501개\n",
        "print(len(os.listdir('/tmp/PetImages/Cat/')))\n",
        "print(len(os.listdir('/tmp/PetImages/Dog/')))"
      ],
      "execution_count": null,
      "outputs": [
        {
          "output_type": "stream",
          "text": [
            "12501\n",
            "12501\n"
          ],
          "name": "stdout"
        }
      ]
    },
    {
      "cell_type": "code",
      "metadata": {
        "id": "F-QkLjxpmyK2"
      },
      "source": [
        "#data preprocessing : split the dataset into training and validation \n",
        "# Use `os.mkdir` to create your directories\n",
        "# directory : cats-v-dogs/training or testing/cats or dogs \n",
        "try:\n",
        "    #YOUR CODE GOES HERE\n",
        "    os.mkdir('/tmp/cats-v-dogs')\n",
        "    os.mkdir('/tmp/cats-v-dogs/training')\n",
        "    os.mkdir('/tmp/cats-v-dogs/testing')\n",
        "    os.mkdir('/tmp/cats-v-dogs/training/cats')\n",
        "    os.mkdir('/tmp/cats-v-dogs/training/dogs')\n",
        "    os.mkdir('/tmp/cats-v-dogs/testing/cats')\n",
        "    os.mkdir('/tmp/cats-v-dogs/testing/dogs')\n",
        "except OSError:\n",
        "    pass"
      ],
      "execution_count": null,
      "outputs": []
    },
    {
      "cell_type": "code",
      "metadata": {
        "id": "zvSODo0f9LaU",
        "outputId": "f4ffd700-134c-43d2-adb5-d331d5724598",
        "colab": {
          "base_uri": "https://localhost:8080/",
          "height": 85
        }
      },
      "source": [
        "# A. a SOURCE directory containing the files\n",
        "# B. a TRAINING directory that a portion of the files will be copied to\n",
        "# C. a TESTING directory that a portion of the files will be copie to\n",
        "# D. a SPLIT SIZE to determine the portion\n",
        "# The files should also be randomized, so that the training set is a random\n",
        "# X% of the files, and the test set is the remaining files\n",
        "# SO, for example, if SOURCE is PetImages/Cat, and SPLIT SIZE is .9\n",
        "# Then 90% of the images in PetImages/Cat will be copied to the TRAINING dir\n",
        "# and 10% of the images will be copied to the TESTING dir\n",
        "# Also -- All images should be checked, and if they have a zero file length,\n",
        "# they will not be copied over\n",
        "#\n",
        "# os.listdir(DIRECTORY) gives you a listing of the contents of that directory\n",
        "# os.path.getsize(PATH) gives you the size of the file\n",
        "# copyfile(source, destination) copies a file from source to destination\n",
        "# random.sample(list, len(list)) shuffles a list\n",
        "def split_data(SOURCE, TRAINING, TESTING, SPLIT_SIZE):\n",
        "# YOUR CODE STARTS HERE\n",
        "    dataset = []\n",
        "    \n",
        "    for unitData in os.listdir(SOURCE):\n",
        "        data = SOURCE + unitData\n",
        "        if (os.path.getsize(data) > 0):\n",
        "            dataset.append(unitData)\n",
        "        else:\n",
        "            print('Skipped ' + unitData)\n",
        "            print('Invalid file size! i.e Zero length.')\n",
        "    \n",
        "    train_data_length = int(len(dataset) * SPLIT_SIZE)\n",
        "    test_data_length = int(len(dataset) - train_data_length)\n",
        "\n",
        "    shuffled_set = random.sample(dataset, len(dataset))\n",
        "    \n",
        "    train_set = shuffled_set[0:train_data_length]\n",
        "    test_set = shuffled_set[-test_data_length:]\n",
        "    \n",
        "    for unitData in train_set:\n",
        "        temp_train_data = SOURCE + unitData\n",
        "        final_train_data = TRAINING + unitData\n",
        "        copyfile(temp_train_data, final_train_data)\n",
        "    \n",
        "    for unitData in test_set:\n",
        "        temp_test_data = SOURCE + unitData\n",
        "        final_test_data = TESTING + unitData\n",
        "        copyfile(temp_train_data, final_test_data)\n",
        "\n",
        "# YOUR CODE ENDS HERE\n",
        "\n",
        "\n",
        "CAT_SOURCE_DIR = \"/tmp/PetImages/Cat/\"\n",
        "TRAINING_CATS_DIR = \"/tmp/cats-v-dogs/training/cats/\"\n",
        "TESTING_CATS_DIR = \"/tmp/cats-v-dogs/testing/cats/\"\n",
        "DOG_SOURCE_DIR = \"/tmp/PetImages/Dog/\"\n",
        "TRAINING_DOGS_DIR = \"/tmp/cats-v-dogs/training/dogs/\"\n",
        "TESTING_DOGS_DIR = \"/tmp/cats-v-dogs/testing/dogs/\"\n",
        "\n",
        "split_size = .9\n",
        "split_data(CAT_SOURCE_DIR, TRAINING_CATS_DIR, TESTING_CATS_DIR, split_size)\n",
        "split_data(DOG_SOURCE_DIR, TRAINING_DOGS_DIR, TESTING_DOGS_DIR, split_size)\n",
        "\n",
        "# Expected output\n",
        "# 666.jpg & 11702.jpg  are  zero length, so ignoring"
      ],
      "execution_count": null,
      "outputs": [
        {
          "output_type": "stream",
          "text": [
            "Skipped 666.jpg\n",
            "Invalid file size! i.e Zero length.\n",
            "Skipped 11702.jpg\n",
            "Invalid file size! i.e Zero length.\n"
          ],
          "name": "stdout"
        }
      ]
    },
    {
      "cell_type": "code",
      "metadata": {
        "id": "luthalB76ufC",
        "outputId": "6902aa16-05f1-49b9-ceb6-4a788ea3df5b",
        "colab": {
          "base_uri": "https://localhost:8080/",
          "height": 85
        }
      },
      "source": [
        "#각 클래스 12501 -> (11250, 1250) \n",
        "print(len(os.listdir('/tmp/cats-v-dogs/training/cats/')))\n",
        "print(len(os.listdir('/tmp/cats-v-dogs/training/dogs/')))\n",
        "print(len(os.listdir('/tmp/cats-v-dogs/testing/cats/')))\n",
        "print(len(os.listdir('/tmp/cats-v-dogs/testing/dogs/')))\n"
      ],
      "execution_count": null,
      "outputs": [
        {
          "output_type": "stream",
          "text": [
            "11250\n",
            "11250\n",
            "1250\n",
            "1250\n"
          ],
          "name": "stdout"
        }
      ]
    },
    {
      "cell_type": "code",
      "metadata": {
        "id": "-BQrav4anTmj"
      },
      "source": [
        "# DEFINE A KERAS MODEL TO CLASSIFY CATS V DOGS\n",
        "# CNN\n",
        "model = tf.keras.models.Sequential([\n",
        " tf.keras.layers.Conv2D(16, (3,3), activation='relu', input_shape=(150, 150, 3)),\n",
        "    tf.keras.layers.MaxPooling2D(2,2),\n",
        "    \n",
        "    tf.keras.layers.Conv2D(32, (3,3), activation='relu'),\n",
        "    tf.keras.layers.MaxPooling2D(2,2), \n",
        "    \n",
        "    tf.keras.layers.Conv2D(64, (3,3), activation='relu'), \n",
        "    tf.keras.layers.MaxPooling2D(2,2),\n",
        "\n",
        "    tf.keras.layers.Flatten(), \n",
        "    tf.keras.layers.Dense(512, activation='relu'), \n",
        "    # Only 1 output neuron. It will contain a value from 0-1 where 0 for 1 class ('cats') and 1 for the other ('dogs')\n",
        "    tf.keras.layers.Dense(1, activation='sigmoid')  \n",
        "])\n",
        "\n",
        "model.compile(optimizer=RMSprop(lr=0.001), loss='binary_crossentropy', metrics=['acc'])"
      ],
      "execution_count": null,
      "outputs": []
    },
    {
      "cell_type": "code",
      "metadata": {
        "id": "mlNjoJ5D61N6",
        "outputId": "cc23ddfe-9acd-4a40-af4f-1f096cd1af9a",
        "colab": {
          "base_uri": "https://localhost:8080/",
          "height": 51
        }
      },
      "source": [
        "TRAINING_DIR = \"/tmp/cats-v-dogs/training\"\n",
        "#Data Augmentation\n",
        "train_datagen =ImageDataGenerator(rescale=1.0/255,\n",
        "                                   rotation_range=40,\n",
        "                                   width_shift_range=0.2,\n",
        "                                   height_shift_range=0.2,\n",
        "                                   shear_range=0.2,\n",
        "                                   zoom_range=0.2,\n",
        "                                   horizontal_flip=True,\n",
        "                                   fill_mode='nearest')\n",
        "\n",
        "# NOTE: YOU MUST USE A BATCH SIZE OF 10 (batch_size=10) FOR THE \n",
        "# TRAIN GENERATOR.\n",
        "train_generator = train_datagen.flow_from_directory(TRAINING_DIR,\n",
        "                                                    batch_size=10,\n",
        "                                                    class_mode='binary',\n",
        "                                                    target_size=(150, 150))  \n",
        "VALIDATION_DIR = VALIDATION_DIR = \"/tmp/cats-v-dogs/testing\"\n",
        "validation_datagen = ImageDataGenerator( rescale = 1.0/255. )\n",
        "\n",
        "\n",
        "# NOTE: YOU MUST USE A BACTH SIZE OF 10 (batch_size=10) FOR THE \n",
        "# VALIDATION GENERATOR.\n",
        "validation_generator = validation_datagen.flow_from_directory(VALIDATION_DIR,\n",
        "                                                         batch_size=10,\n",
        "                                                         class_mode  = 'binary',\n",
        "                                                         target_size = (150, 150))\n",
        "\n"
      ],
      "execution_count": null,
      "outputs": [
        {
          "output_type": "stream",
          "text": [
            "Found 22498 images belonging to 2 classes.\n",
            "Found 2500 images belonging to 2 classes.\n"
          ],
          "name": "stdout"
        }
      ]
    },
    {
      "cell_type": "code",
      "metadata": {
        "id": "KyS4n53w7DxC",
        "outputId": "cdf74557-423b-46fc-bc1e-a8b60b137617",
        "colab": {
          "base_uri": "https://localhost:8080/",
          "height": 377
        }
      },
      "source": [
        "history = model.fit(train_generator,\n",
        "                              epochs=2,\n",
        "                              verbose=1,\n",
        "                              validation_data=validation_generator)\n",
        "\n",
        "# The expectation here is that the model will train, and that accuracy will be > 95% on both training and validation\n",
        "# i.e. acc:A1 and val_acc:A2 will be visible, and both A1 and A2 will be > .9"
      ],
      "execution_count": null,
      "outputs": [
        {
          "output_type": "stream",
          "text": [
            "Epoch 1/2\n",
            "1311/2250 [================>.............] - ETA: 1:11 - loss: 0.6849 - acc: 0.6005"
          ],
          "name": "stdout"
        },
        {
          "output_type": "stream",
          "text": [
            "/usr/local/lib/python3.6/dist-packages/PIL/TiffImagePlugin.py:770: UserWarning: Possibly corrupt EXIF data.  Expecting to read 32 bytes but only got 0. Skipping tag 270\n",
            "  \" Skipping tag %s\" % (size, len(data), tag)\n",
            "/usr/local/lib/python3.6/dist-packages/PIL/TiffImagePlugin.py:770: UserWarning: Possibly corrupt EXIF data.  Expecting to read 5 bytes but only got 0. Skipping tag 271\n",
            "  \" Skipping tag %s\" % (size, len(data), tag)\n",
            "/usr/local/lib/python3.6/dist-packages/PIL/TiffImagePlugin.py:770: UserWarning: Possibly corrupt EXIF data.  Expecting to read 8 bytes but only got 0. Skipping tag 272\n",
            "  \" Skipping tag %s\" % (size, len(data), tag)\n",
            "/usr/local/lib/python3.6/dist-packages/PIL/TiffImagePlugin.py:770: UserWarning: Possibly corrupt EXIF data.  Expecting to read 8 bytes but only got 0. Skipping tag 282\n",
            "  \" Skipping tag %s\" % (size, len(data), tag)\n",
            "/usr/local/lib/python3.6/dist-packages/PIL/TiffImagePlugin.py:770: UserWarning: Possibly corrupt EXIF data.  Expecting to read 8 bytes but only got 0. Skipping tag 283\n",
            "  \" Skipping tag %s\" % (size, len(data), tag)\n",
            "/usr/local/lib/python3.6/dist-packages/PIL/TiffImagePlugin.py:770: UserWarning: Possibly corrupt EXIF data.  Expecting to read 20 bytes but only got 0. Skipping tag 306\n",
            "  \" Skipping tag %s\" % (size, len(data), tag)\n",
            "/usr/local/lib/python3.6/dist-packages/PIL/TiffImagePlugin.py:770: UserWarning: Possibly corrupt EXIF data.  Expecting to read 48 bytes but only got 0. Skipping tag 532\n",
            "  \" Skipping tag %s\" % (size, len(data), tag)\n",
            "/usr/local/lib/python3.6/dist-packages/PIL/TiffImagePlugin.py:788: UserWarning: Corrupt EXIF data.  Expecting to read 2 bytes but only got 0. \n",
            "  warnings.warn(str(msg))\n"
          ],
          "name": "stderr"
        },
        {
          "output_type": "stream",
          "text": [
            "2250/2250 [==============================] - 178s 79ms/step - loss: 0.6598 - acc: 0.6273 - val_loss: 0.8349 - val_acc: 0.5000\n",
            "Epoch 2/2\n",
            "2250/2250 [==============================] - 183s 81ms/step - loss: 0.5975 - acc: 0.6876 - val_loss: 0.5383 - val_acc: 0.5000\n"
          ],
          "name": "stdout"
        }
      ]
    },
    {
      "cell_type": "code",
      "metadata": {
        "id": "MWZrJN4-65RC",
        "outputId": "02e598f0-6615-4532-db95-e836830ae815",
        "colab": {
          "base_uri": "https://localhost:8080/",
          "height": 562
        }
      },
      "source": [
        "# PLOT LOSS AND ACCURACY\n",
        "%matplotlib inline\n",
        "\n",
        "import matplotlib.image  as mpimg\n",
        "import matplotlib.pyplot as plt\n",
        "\n",
        "#-----------------------------------------------------------\n",
        "# Retrieve a list of list results on training and test data\n",
        "# sets for each training epoch\n",
        "#-----------------------------------------------------------\n",
        "acc=history.history['acc']\n",
        "val_acc=history.history['val_acc']\n",
        "loss=history.history['loss']\n",
        "val_loss=history.history['val_loss']\n",
        "\n",
        "epochs=range(len(acc)) # Get number of epochs\n",
        "\n",
        "#------------------------------------------------\n",
        "# Plot training and validation accuracy per epoch\n",
        "#------------------------------------------------\n",
        "plt.plot(epochs, acc, 'r', \"Training Accuracy\")\n",
        "plt.plot(epochs, val_acc, 'b', \"Validation Accuracy\")\n",
        "plt.title('Training and validation accuracy')\n",
        "plt.figure()\n",
        "\n",
        "#------------------------------------------------\n",
        "# Plot training and validation loss per epoch\n",
        "#------------------------------------------------\n",
        "plt.plot(epochs, loss, 'r', \"Training Loss\")\n",
        "plt.plot(epochs, val_loss, 'b', \"Validation Loss\")\n",
        "\n",
        "\n",
        "plt.title('Training and validation loss')\n",
        "\n",
        "# Desired output. Charts with training and validation metrics. No crash :)"
      ],
      "execution_count": null,
      "outputs": [
        {
          "output_type": "execute_result",
          "data": {
            "text/plain": [
              "Text(0.5, 1.0, 'Training and validation loss')"
            ]
          },
          "metadata": {
            "tags": []
          },
          "execution_count": 11
        },
        {
          "output_type": "display_data",
          "data": {
            "image/png": "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\n",
            "text/plain": [
              "<Figure size 432x288 with 1 Axes>"
            ]
          },
          "metadata": {
            "tags": [],
            "needs_background": "light"
          }
        },
        {
          "output_type": "display_data",
          "data": {
            "image/png": "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\n",
            "text/plain": [
              "<Figure size 432x288 with 1 Axes>"
            ]
          },
          "metadata": {
            "tags": [],
            "needs_background": "light"
          }
        }
      ]
    },
    {
      "cell_type": "code",
      "metadata": {
        "id": "LqL6FYUrtXpf",
        "outputId": "c2e3b788-146a-45e7-f86d-8f16f1cbf664",
        "colab": {
          "resources": {
            "http://localhost:8080/nbextensions/google.colab/files.js": {
              "data": "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",
              "ok": true,
              "headers": [
                [
                  "content-type",
                  "application/javascript"
                ]
              ],
              "status": 200,
              "status_text": ""
            }
          },
          "base_uri": "https://localhost:8080/",
          "height": 107
        }
      },
      "source": [
        "# upload an image here and have it classified without crashing\n",
        "\n",
        "import numpy as np\n",
        "from google.colab import files\n",
        "from keras.preprocessing import image\n",
        "\n",
        "uploaded = files.upload()\n",
        "\n",
        "for fn in uploaded.keys():\n",
        " \n",
        "  # predicting images\n",
        "  path = '/content/' + fn\n",
        "  img = image.load_img(path, target_size=(150,150))\n",
        "  x = image.img_to_array(img)\n",
        "  x = np.expand_dims(x, axis=0)\n",
        "\n",
        "  images = np.vstack([x])\n",
        "  classes = model.predict(images, batch_size=10)\n",
        "  print(classes[0])\n",
        "  if classes[0]>0.5:\n",
        "    print(fn + \" is a dog\")\n",
        "  else:\n",
        "    print(fn + \" is a cat\")"
      ],
      "execution_count": null,
      "outputs": [
        {
          "output_type": "display_data",
          "data": {
            "text/html": [
              "\n",
              "     <input type=\"file\" id=\"files-562f6fa7-cbb4-49e5-a45e-e7e34613974f\" name=\"files[]\" multiple disabled\n",
              "        style=\"border:none\" />\n",
              "     <output id=\"result-562f6fa7-cbb4-49e5-a45e-e7e34613974f\">\n",
              "      Upload widget is only available when the cell has been executed in the\n",
              "      current browser session. Please rerun this cell to enable.\n",
              "      </output>\n",
              "      <script src=\"/nbextensions/google.colab/files.js\"></script> "
            ],
            "text/plain": [
              "<IPython.core.display.HTML object>"
            ]
          },
          "metadata": {
            "tags": []
          }
        },
        {
          "output_type": "stream",
          "text": [
            "Saving 2.jpg to 2.jpg\n",
            "[0.679262]\n",
            "2.jpg is a dog\n"
          ],
          "name": "stdout"
        }
      ]
    }
  ]
}
