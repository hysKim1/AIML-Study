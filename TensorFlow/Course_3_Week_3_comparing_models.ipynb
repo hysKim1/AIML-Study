{
  "nbformat": 4,
  "nbformat_minor": 0,
  "metadata": {
    "accelerator": "GPU",
    "colab": {
      "name": "Course 3 - Week 3 - comparing models",
      "provenance": [],
      "collapsed_sections": [],
      "toc_visible": true
    },
    "kernelspec": {
      "display_name": "Python 3",
      "name": "python3"
    },
    "widgets": {
      "application/vnd.jupyter.widget-state+json": {
        "477d79a2094c4bb396ade3598721f3d4": {
          "model_module": "@jupyter-widgets/controls",
          "model_name": "HBoxModel",
          "state": {
            "_view_name": "HBoxView",
            "_dom_classes": [],
            "_model_name": "HBoxModel",
            "_view_module": "@jupyter-widgets/controls",
            "_model_module_version": "1.5.0",
            "_view_count": null,
            "_view_module_version": "1.5.0",
            "box_style": "",
            "layout": "IPY_MODEL_264564dae7be46de9c4e529f56dd342f",
            "_model_module": "@jupyter-widgets/controls",
            "children": [
              "IPY_MODEL_5f6c28cfad4c4e1b9941d895b139d09b",
              "IPY_MODEL_c930955a296e4ff999c49f2c94e9e1ff"
            ]
          }
        },
        "264564dae7be46de9c4e529f56dd342f": {
          "model_module": "@jupyter-widgets/base",
          "model_name": "LayoutModel",
          "state": {
            "_view_name": "LayoutView",
            "grid_template_rows": null,
            "right": null,
            "justify_content": null,
            "_view_module": "@jupyter-widgets/base",
            "overflow": null,
            "_model_module_version": "1.2.0",
            "_view_count": null,
            "flex_flow": null,
            "width": null,
            "min_width": null,
            "border": null,
            "align_items": null,
            "bottom": null,
            "_model_module": "@jupyter-widgets/base",
            "top": null,
            "grid_column": null,
            "overflow_y": null,
            "overflow_x": null,
            "grid_auto_flow": null,
            "grid_area": null,
            "grid_template_columns": null,
            "flex": null,
            "_model_name": "LayoutModel",
            "justify_items": null,
            "grid_row": null,
            "max_height": null,
            "align_content": null,
            "visibility": null,
            "align_self": null,
            "height": null,
            "min_height": null,
            "padding": null,
            "grid_auto_rows": null,
            "grid_gap": null,
            "max_width": null,
            "order": null,
            "_view_module_version": "1.2.0",
            "grid_template_areas": null,
            "object_position": null,
            "object_fit": null,
            "grid_auto_columns": null,
            "margin": null,
            "display": null,
            "left": null
          }
        },
        "5f6c28cfad4c4e1b9941d895b139d09b": {
          "model_module": "@jupyter-widgets/controls",
          "model_name": "FloatProgressModel",
          "state": {
            "_view_name": "ProgressView",
            "style": "IPY_MODEL_4a057dc0e1f945319b9d05e98299419e",
            "_dom_classes": [],
            "description": "Dl Completed...: 100%",
            "_model_name": "FloatProgressModel",
            "bar_style": "success",
            "max": 1,
            "_view_module": "@jupyter-widgets/controls",
            "_model_module_version": "1.5.0",
            "value": 1,
            "_view_count": null,
            "_view_module_version": "1.5.0",
            "orientation": "horizontal",
            "min": 0,
            "description_tooltip": null,
            "_model_module": "@jupyter-widgets/controls",
            "layout": "IPY_MODEL_a641abd3373d4e77b0d6f11938512302"
          }
        },
        "c930955a296e4ff999c49f2c94e9e1ff": {
          "model_module": "@jupyter-widgets/controls",
          "model_name": "HTMLModel",
          "state": {
            "_view_name": "HTMLView",
            "style": "IPY_MODEL_f3f8ace991794f53bd73c9be2dfd78a4",
            "_dom_classes": [],
            "description": "",
            "_model_name": "HTMLModel",
            "placeholder": "​",
            "_view_module": "@jupyter-widgets/controls",
            "_model_module_version": "1.5.0",
            "value": " 1/1 [00:09&lt;00:00,  9.96s/ url]",
            "_view_count": null,
            "_view_module_version": "1.5.0",
            "description_tooltip": null,
            "_model_module": "@jupyter-widgets/controls",
            "layout": "IPY_MODEL_9845f5a3499d46ccae2baf98db09b870"
          }
        },
        "4a057dc0e1f945319b9d05e98299419e": {
          "model_module": "@jupyter-widgets/controls",
          "model_name": "ProgressStyleModel",
          "state": {
            "_view_name": "StyleView",
            "_model_name": "ProgressStyleModel",
            "description_width": "initial",
            "_view_module": "@jupyter-widgets/base",
            "_model_module_version": "1.5.0",
            "_view_count": null,
            "_view_module_version": "1.2.0",
            "bar_color": null,
            "_model_module": "@jupyter-widgets/controls"
          }
        },
        "a641abd3373d4e77b0d6f11938512302": {
          "model_module": "@jupyter-widgets/base",
          "model_name": "LayoutModel",
          "state": {
            "_view_name": "LayoutView",
            "grid_template_rows": null,
            "right": null,
            "justify_content": null,
            "_view_module": "@jupyter-widgets/base",
            "overflow": null,
            "_model_module_version": "1.2.0",
            "_view_count": null,
            "flex_flow": null,
            "width": null,
            "min_width": null,
            "border": null,
            "align_items": null,
            "bottom": null,
            "_model_module": "@jupyter-widgets/base",
            "top": null,
            "grid_column": null,
            "overflow_y": null,
            "overflow_x": null,
            "grid_auto_flow": null,
            "grid_area": null,
            "grid_template_columns": null,
            "flex": null,
            "_model_name": "LayoutModel",
            "justify_items": null,
            "grid_row": null,
            "max_height": null,
            "align_content": null,
            "visibility": null,
            "align_self": null,
            "height": null,
            "min_height": null,
            "padding": null,
            "grid_auto_rows": null,
            "grid_gap": null,
            "max_width": null,
            "order": null,
            "_view_module_version": "1.2.0",
            "grid_template_areas": null,
            "object_position": null,
            "object_fit": null,
            "grid_auto_columns": null,
            "margin": null,
            "display": null,
            "left": null
          }
        },
        "f3f8ace991794f53bd73c9be2dfd78a4": {
          "model_module": "@jupyter-widgets/controls",
          "model_name": "DescriptionStyleModel",
          "state": {
            "_view_name": "StyleView",
            "_model_name": "DescriptionStyleModel",
            "description_width": "",
            "_view_module": "@jupyter-widgets/base",
            "_model_module_version": "1.5.0",
            "_view_count": null,
            "_view_module_version": "1.2.0",
            "_model_module": "@jupyter-widgets/controls"
          }
        },
        "9845f5a3499d46ccae2baf98db09b870": {
          "model_module": "@jupyter-widgets/base",
          "model_name": "LayoutModel",
          "state": {
            "_view_name": "LayoutView",
            "grid_template_rows": null,
            "right": null,
            "justify_content": null,
            "_view_module": "@jupyter-widgets/base",
            "overflow": null,
            "_model_module_version": "1.2.0",
            "_view_count": null,
            "flex_flow": null,
            "width": null,
            "min_width": null,
            "border": null,
            "align_items": null,
            "bottom": null,
            "_model_module": "@jupyter-widgets/base",
            "top": null,
            "grid_column": null,
            "overflow_y": null,
            "overflow_x": null,
            "grid_auto_flow": null,
            "grid_area": null,
            "grid_template_columns": null,
            "flex": null,
            "_model_name": "LayoutModel",
            "justify_items": null,
            "grid_row": null,
            "max_height": null,
            "align_content": null,
            "visibility": null,
            "align_self": null,
            "height": null,
            "min_height": null,
            "padding": null,
            "grid_auto_rows": null,
            "grid_gap": null,
            "max_width": null,
            "order": null,
            "_view_module_version": "1.2.0",
            "grid_template_areas": null,
            "object_position": null,
            "object_fit": null,
            "grid_auto_columns": null,
            "margin": null,
            "display": null,
            "left": null
          }
        },
        "cc387a6075a3461ca19c64f9abee6e26": {
          "model_module": "@jupyter-widgets/controls",
          "model_name": "HBoxModel",
          "state": {
            "_view_name": "HBoxView",
            "_dom_classes": [],
            "_model_name": "HBoxModel",
            "_view_module": "@jupyter-widgets/controls",
            "_model_module_version": "1.5.0",
            "_view_count": null,
            "_view_module_version": "1.5.0",
            "box_style": "",
            "layout": "IPY_MODEL_62fa26259fe84e42aa1bc0598b744921",
            "_model_module": "@jupyter-widgets/controls",
            "children": [
              "IPY_MODEL_dd24f2569e624e518f04f8b1b562a455",
              "IPY_MODEL_657fe184b9504e3681f9b236845e047d"
            ]
          }
        },
        "62fa26259fe84e42aa1bc0598b744921": {
          "model_module": "@jupyter-widgets/base",
          "model_name": "LayoutModel",
          "state": {
            "_view_name": "LayoutView",
            "grid_template_rows": null,
            "right": null,
            "justify_content": null,
            "_view_module": "@jupyter-widgets/base",
            "overflow": null,
            "_model_module_version": "1.2.0",
            "_view_count": null,
            "flex_flow": null,
            "width": null,
            "min_width": null,
            "border": null,
            "align_items": null,
            "bottom": null,
            "_model_module": "@jupyter-widgets/base",
            "top": null,
            "grid_column": null,
            "overflow_y": null,
            "overflow_x": null,
            "grid_auto_flow": null,
            "grid_area": null,
            "grid_template_columns": null,
            "flex": null,
            "_model_name": "LayoutModel",
            "justify_items": null,
            "grid_row": null,
            "max_height": null,
            "align_content": null,
            "visibility": null,
            "align_self": null,
            "height": null,
            "min_height": null,
            "padding": null,
            "grid_auto_rows": null,
            "grid_gap": null,
            "max_width": null,
            "order": null,
            "_view_module_version": "1.2.0",
            "grid_template_areas": null,
            "object_position": null,
            "object_fit": null,
            "grid_auto_columns": null,
            "margin": null,
            "display": null,
            "left": null
          }
        },
        "dd24f2569e624e518f04f8b1b562a455": {
          "model_module": "@jupyter-widgets/controls",
          "model_name": "FloatProgressModel",
          "state": {
            "_view_name": "ProgressView",
            "style": "IPY_MODEL_c85e8319b4894b63b31ec5f76c8cb744",
            "_dom_classes": [],
            "description": "Dl Size...: 100%",
            "_model_name": "FloatProgressModel",
            "bar_style": "success",
            "max": 1,
            "_view_module": "@jupyter-widgets/controls",
            "_model_module_version": "1.5.0",
            "value": 1,
            "_view_count": null,
            "_view_module_version": "1.5.0",
            "orientation": "horizontal",
            "min": 0,
            "description_tooltip": null,
            "_model_module": "@jupyter-widgets/controls",
            "layout": "IPY_MODEL_74e862225bb04f3ead099fd3d58481d8"
          }
        },
        "657fe184b9504e3681f9b236845e047d": {
          "model_module": "@jupyter-widgets/controls",
          "model_name": "HTMLModel",
          "state": {
            "_view_name": "HTMLView",
            "style": "IPY_MODEL_c5487a878f374b9a9e40e6389a6886f5",
            "_dom_classes": [],
            "description": "",
            "_model_name": "HTMLModel",
            "placeholder": "​",
            "_view_module": "@jupyter-widgets/controls",
            "_model_module_version": "1.5.0",
            "value": " 80/80 [00:09&lt;00:00,  8.05 MiB/s]",
            "_view_count": null,
            "_view_module_version": "1.5.0",
            "description_tooltip": null,
            "_model_module": "@jupyter-widgets/controls",
            "layout": "IPY_MODEL_5a8ec35079994e98b81b3fe0c2798182"
          }
        },
        "c85e8319b4894b63b31ec5f76c8cb744": {
          "model_module": "@jupyter-widgets/controls",
          "model_name": "ProgressStyleModel",
          "state": {
            "_view_name": "StyleView",
            "_model_name": "ProgressStyleModel",
            "description_width": "initial",
            "_view_module": "@jupyter-widgets/base",
            "_model_module_version": "1.5.0",
            "_view_count": null,
            "_view_module_version": "1.2.0",
            "bar_color": null,
            "_model_module": "@jupyter-widgets/controls"
          }
        },
        "74e862225bb04f3ead099fd3d58481d8": {
          "model_module": "@jupyter-widgets/base",
          "model_name": "LayoutModel",
          "state": {
            "_view_name": "LayoutView",
            "grid_template_rows": null,
            "right": null,
            "justify_content": null,
            "_view_module": "@jupyter-widgets/base",
            "overflow": null,
            "_model_module_version": "1.2.0",
            "_view_count": null,
            "flex_flow": null,
            "width": null,
            "min_width": null,
            "border": null,
            "align_items": null,
            "bottom": null,
            "_model_module": "@jupyter-widgets/base",
            "top": null,
            "grid_column": null,
            "overflow_y": null,
            "overflow_x": null,
            "grid_auto_flow": null,
            "grid_area": null,
            "grid_template_columns": null,
            "flex": null,
            "_model_name": "LayoutModel",
            "justify_items": null,
            "grid_row": null,
            "max_height": null,
            "align_content": null,
            "visibility": null,
            "align_self": null,
            "height": null,
            "min_height": null,
            "padding": null,
            "grid_auto_rows": null,
            "grid_gap": null,
            "max_width": null,
            "order": null,
            "_view_module_version": "1.2.0",
            "grid_template_areas": null,
            "object_position": null,
            "object_fit": null,
            "grid_auto_columns": null,
            "margin": null,
            "display": null,
            "left": null
          }
        },
        "c5487a878f374b9a9e40e6389a6886f5": {
          "model_module": "@jupyter-widgets/controls",
          "model_name": "DescriptionStyleModel",
          "state": {
            "_view_name": "StyleView",
            "_model_name": "DescriptionStyleModel",
            "description_width": "",
            "_view_module": "@jupyter-widgets/base",
            "_model_module_version": "1.5.0",
            "_view_count": null,
            "_view_module_version": "1.2.0",
            "_model_module": "@jupyter-widgets/controls"
          }
        },
        "5a8ec35079994e98b81b3fe0c2798182": {
          "model_module": "@jupyter-widgets/base",
          "model_name": "LayoutModel",
          "state": {
            "_view_name": "LayoutView",
            "grid_template_rows": null,
            "right": null,
            "justify_content": null,
            "_view_module": "@jupyter-widgets/base",
            "overflow": null,
            "_model_module_version": "1.2.0",
            "_view_count": null,
            "flex_flow": null,
            "width": null,
            "min_width": null,
            "border": null,
            "align_items": null,
            "bottom": null,
            "_model_module": "@jupyter-widgets/base",
            "top": null,
            "grid_column": null,
            "overflow_y": null,
            "overflow_x": null,
            "grid_auto_flow": null,
            "grid_area": null,
            "grid_template_columns": null,
            "flex": null,
            "_model_name": "LayoutModel",
            "justify_items": null,
            "grid_row": null,
            "max_height": null,
            "align_content": null,
            "visibility": null,
            "align_self": null,
            "height": null,
            "min_height": null,
            "padding": null,
            "grid_auto_rows": null,
            "grid_gap": null,
            "max_width": null,
            "order": null,
            "_view_module_version": "1.2.0",
            "grid_template_areas": null,
            "object_position": null,
            "object_fit": null,
            "grid_auto_columns": null,
            "margin": null,
            "display": null,
            "left": null
          }
        },
        "e3f5e18224244a438296c0c9b06a2df9": {
          "model_module": "@jupyter-widgets/controls",
          "model_name": "HBoxModel",
          "state": {
            "_view_name": "HBoxView",
            "_dom_classes": [],
            "_model_name": "HBoxModel",
            "_view_module": "@jupyter-widgets/controls",
            "_model_module_version": "1.5.0",
            "_view_count": null,
            "_view_module_version": "1.5.0",
            "box_style": "",
            "layout": "IPY_MODEL_0ed14bca851244ff862e9a1fce7de637",
            "_model_module": "@jupyter-widgets/controls",
            "children": [
              "IPY_MODEL_63ab5a82b68449cfa1f25011ee2e7628",
              "IPY_MODEL_6a4abaedcfd04041a2670acce3a4a44c"
            ]
          }
        },
        "0ed14bca851244ff862e9a1fce7de637": {
          "model_module": "@jupyter-widgets/base",
          "model_name": "LayoutModel",
          "state": {
            "_view_name": "LayoutView",
            "grid_template_rows": null,
            "right": null,
            "justify_content": null,
            "_view_module": "@jupyter-widgets/base",
            "overflow": null,
            "_model_module_version": "1.2.0",
            "_view_count": null,
            "flex_flow": null,
            "width": null,
            "min_width": null,
            "border": null,
            "align_items": null,
            "bottom": null,
            "_model_module": "@jupyter-widgets/base",
            "top": null,
            "grid_column": null,
            "overflow_y": null,
            "overflow_x": null,
            "grid_auto_flow": null,
            "grid_area": null,
            "grid_template_columns": null,
            "flex": null,
            "_model_name": "LayoutModel",
            "justify_items": null,
            "grid_row": null,
            "max_height": null,
            "align_content": null,
            "visibility": null,
            "align_self": null,
            "height": null,
            "min_height": null,
            "padding": null,
            "grid_auto_rows": null,
            "grid_gap": null,
            "max_width": null,
            "order": null,
            "_view_module_version": "1.2.0",
            "grid_template_areas": null,
            "object_position": null,
            "object_fit": null,
            "grid_auto_columns": null,
            "margin": null,
            "display": null,
            "left": null
          }
        },
        "63ab5a82b68449cfa1f25011ee2e7628": {
          "model_module": "@jupyter-widgets/controls",
          "model_name": "FloatProgressModel",
          "state": {
            "_view_name": "ProgressView",
            "style": "IPY_MODEL_d4f70a4fd1474bd5999b55ebd65aa5d7",
            "_dom_classes": [],
            "description": "",
            "_model_name": "FloatProgressModel",
            "bar_style": "info",
            "max": 1,
            "_view_module": "@jupyter-widgets/controls",
            "_model_module_version": "1.5.0",
            "value": 1,
            "_view_count": null,
            "_view_module_version": "1.5.0",
            "orientation": "horizontal",
            "min": 0,
            "description_tooltip": null,
            "_model_module": "@jupyter-widgets/controls",
            "layout": "IPY_MODEL_07a82e97981c49a8ae089f8f4389a42d"
          }
        },
        "6a4abaedcfd04041a2670acce3a4a44c": {
          "model_module": "@jupyter-widgets/controls",
          "model_name": "HTMLModel",
          "state": {
            "_view_name": "HTMLView",
            "style": "IPY_MODEL_22618b4480374059995bdb953d30901b",
            "_dom_classes": [],
            "description": "",
            "_model_name": "HTMLModel",
            "placeholder": "​",
            "_view_module": "@jupyter-widgets/controls",
            "_model_module_version": "1.5.0",
            "value": " 25000/0 [00:12&lt;00:00, 3633.16 examples/s]",
            "_view_count": null,
            "_view_module_version": "1.5.0",
            "description_tooltip": null,
            "_model_module": "@jupyter-widgets/controls",
            "layout": "IPY_MODEL_e2b59fbdf16d4ff09bb1b13df696122a"
          }
        },
        "d4f70a4fd1474bd5999b55ebd65aa5d7": {
          "model_module": "@jupyter-widgets/controls",
          "model_name": "ProgressStyleModel",
          "state": {
            "_view_name": "StyleView",
            "_model_name": "ProgressStyleModel",
            "description_width": "initial",
            "_view_module": "@jupyter-widgets/base",
            "_model_module_version": "1.5.0",
            "_view_count": null,
            "_view_module_version": "1.2.0",
            "bar_color": null,
            "_model_module": "@jupyter-widgets/controls"
          }
        },
        "07a82e97981c49a8ae089f8f4389a42d": {
          "model_module": "@jupyter-widgets/base",
          "model_name": "LayoutModel",
          "state": {
            "_view_name": "LayoutView",
            "grid_template_rows": null,
            "right": null,
            "justify_content": null,
            "_view_module": "@jupyter-widgets/base",
            "overflow": null,
            "_model_module_version": "1.2.0",
            "_view_count": null,
            "flex_flow": null,
            "width": null,
            "min_width": null,
            "border": null,
            "align_items": null,
            "bottom": null,
            "_model_module": "@jupyter-widgets/base",
            "top": null,
            "grid_column": null,
            "overflow_y": null,
            "overflow_x": null,
            "grid_auto_flow": null,
            "grid_area": null,
            "grid_template_columns": null,
            "flex": null,
            "_model_name": "LayoutModel",
            "justify_items": null,
            "grid_row": null,
            "max_height": null,
            "align_content": null,
            "visibility": null,
            "align_self": null,
            "height": null,
            "min_height": null,
            "padding": null,
            "grid_auto_rows": null,
            "grid_gap": null,
            "max_width": null,
            "order": null,
            "_view_module_version": "1.2.0",
            "grid_template_areas": null,
            "object_position": null,
            "object_fit": null,
            "grid_auto_columns": null,
            "margin": null,
            "display": null,
            "left": null
          }
        },
        "22618b4480374059995bdb953d30901b": {
          "model_module": "@jupyter-widgets/controls",
          "model_name": "DescriptionStyleModel",
          "state": {
            "_view_name": "StyleView",
            "_model_name": "DescriptionStyleModel",
            "description_width": "",
            "_view_module": "@jupyter-widgets/base",
            "_model_module_version": "1.5.0",
            "_view_count": null,
            "_view_module_version": "1.2.0",
            "_model_module": "@jupyter-widgets/controls"
          }
        },
        "e2b59fbdf16d4ff09bb1b13df696122a": {
          "model_module": "@jupyter-widgets/base",
          "model_name": "LayoutModel",
          "state": {
            "_view_name": "LayoutView",
            "grid_template_rows": null,
            "right": null,
            "justify_content": null,
            "_view_module": "@jupyter-widgets/base",
            "overflow": null,
            "_model_module_version": "1.2.0",
            "_view_count": null,
            "flex_flow": null,
            "width": null,
            "min_width": null,
            "border": null,
            "align_items": null,
            "bottom": null,
            "_model_module": "@jupyter-widgets/base",
            "top": null,
            "grid_column": null,
            "overflow_y": null,
            "overflow_x": null,
            "grid_auto_flow": null,
            "grid_area": null,
            "grid_template_columns": null,
            "flex": null,
            "_model_name": "LayoutModel",
            "justify_items": null,
            "grid_row": null,
            "max_height": null,
            "align_content": null,
            "visibility": null,
            "align_self": null,
            "height": null,
            "min_height": null,
            "padding": null,
            "grid_auto_rows": null,
            "grid_gap": null,
            "max_width": null,
            "order": null,
            "_view_module_version": "1.2.0",
            "grid_template_areas": null,
            "object_position": null,
            "object_fit": null,
            "grid_auto_columns": null,
            "margin": null,
            "display": null,
            "left": null
          }
        },
        "80488b63ff984d7fa129ad152811dbb3": {
          "model_module": "@jupyter-widgets/controls",
          "model_name": "HBoxModel",
          "state": {
            "_view_name": "HBoxView",
            "_dom_classes": [],
            "_model_name": "HBoxModel",
            "_view_module": "@jupyter-widgets/controls",
            "_model_module_version": "1.5.0",
            "_view_count": null,
            "_view_module_version": "1.5.0",
            "box_style": "",
            "layout": "IPY_MODEL_d06ea37c8fc042c89c8b8f5b0cf31516",
            "_model_module": "@jupyter-widgets/controls",
            "children": [
              "IPY_MODEL_d9d7504ed26543c9aafada7af96d482b",
              "IPY_MODEL_0288f54bdb264ae18b45b1d848af9cdc"
            ]
          }
        },
        "d06ea37c8fc042c89c8b8f5b0cf31516": {
          "model_module": "@jupyter-widgets/base",
          "model_name": "LayoutModel",
          "state": {
            "_view_name": "LayoutView",
            "grid_template_rows": null,
            "right": null,
            "justify_content": null,
            "_view_module": "@jupyter-widgets/base",
            "overflow": null,
            "_model_module_version": "1.2.0",
            "_view_count": null,
            "flex_flow": null,
            "width": null,
            "min_width": null,
            "border": null,
            "align_items": null,
            "bottom": null,
            "_model_module": "@jupyter-widgets/base",
            "top": null,
            "grid_column": null,
            "overflow_y": null,
            "overflow_x": null,
            "grid_auto_flow": null,
            "grid_area": null,
            "grid_template_columns": null,
            "flex": null,
            "_model_name": "LayoutModel",
            "justify_items": null,
            "grid_row": null,
            "max_height": null,
            "align_content": null,
            "visibility": null,
            "align_self": null,
            "height": null,
            "min_height": null,
            "padding": null,
            "grid_auto_rows": null,
            "grid_gap": null,
            "max_width": null,
            "order": null,
            "_view_module_version": "1.2.0",
            "grid_template_areas": null,
            "object_position": null,
            "object_fit": null,
            "grid_auto_columns": null,
            "margin": null,
            "display": null,
            "left": null
          }
        },
        "d9d7504ed26543c9aafada7af96d482b": {
          "model_module": "@jupyter-widgets/controls",
          "model_name": "FloatProgressModel",
          "state": {
            "_view_name": "ProgressView",
            "style": "IPY_MODEL_d424b0ec8bbc40f09fdaf090bb4f18b9",
            "_dom_classes": [],
            "description": " 57%",
            "_model_name": "FloatProgressModel",
            "bar_style": "danger",
            "max": 25000,
            "_view_module": "@jupyter-widgets/controls",
            "_model_module_version": "1.5.0",
            "value": 14162,
            "_view_count": null,
            "_view_module_version": "1.5.0",
            "orientation": "horizontal",
            "min": 0,
            "description_tooltip": null,
            "_model_module": "@jupyter-widgets/controls",
            "layout": "IPY_MODEL_abf6532f4cac44218b4c96aebab49b95"
          }
        },
        "0288f54bdb264ae18b45b1d848af9cdc": {
          "model_module": "@jupyter-widgets/controls",
          "model_name": "HTMLModel",
          "state": {
            "_view_name": "HTMLView",
            "style": "IPY_MODEL_f493f732e378449ca144d1c3b7694f45",
            "_dom_classes": [],
            "description": "",
            "_model_name": "HTMLModel",
            "placeholder": "​",
            "_view_module": "@jupyter-widgets/controls",
            "_model_module_version": "1.5.0",
            "value": " 14162/25000 [00:00&lt;00:00, 141619.46 examples/s]",
            "_view_count": null,
            "_view_module_version": "1.5.0",
            "description_tooltip": null,
            "_model_module": "@jupyter-widgets/controls",
            "layout": "IPY_MODEL_d1e901bb3e094338b65276515761a8bb"
          }
        },
        "d424b0ec8bbc40f09fdaf090bb4f18b9": {
          "model_module": "@jupyter-widgets/controls",
          "model_name": "ProgressStyleModel",
          "state": {
            "_view_name": "StyleView",
            "_model_name": "ProgressStyleModel",
            "description_width": "initial",
            "_view_module": "@jupyter-widgets/base",
            "_model_module_version": "1.5.0",
            "_view_count": null,
            "_view_module_version": "1.2.0",
            "bar_color": null,
            "_model_module": "@jupyter-widgets/controls"
          }
        },
        "abf6532f4cac44218b4c96aebab49b95": {
          "model_module": "@jupyter-widgets/base",
          "model_name": "LayoutModel",
          "state": {
            "_view_name": "LayoutView",
            "grid_template_rows": null,
            "right": null,
            "justify_content": null,
            "_view_module": "@jupyter-widgets/base",
            "overflow": null,
            "_model_module_version": "1.2.0",
            "_view_count": null,
            "flex_flow": null,
            "width": null,
            "min_width": null,
            "border": null,
            "align_items": null,
            "bottom": null,
            "_model_module": "@jupyter-widgets/base",
            "top": null,
            "grid_column": null,
            "overflow_y": null,
            "overflow_x": null,
            "grid_auto_flow": null,
            "grid_area": null,
            "grid_template_columns": null,
            "flex": null,
            "_model_name": "LayoutModel",
            "justify_items": null,
            "grid_row": null,
            "max_height": null,
            "align_content": null,
            "visibility": null,
            "align_self": null,
            "height": null,
            "min_height": null,
            "padding": null,
            "grid_auto_rows": null,
            "grid_gap": null,
            "max_width": null,
            "order": null,
            "_view_module_version": "1.2.0",
            "grid_template_areas": null,
            "object_position": null,
            "object_fit": null,
            "grid_auto_columns": null,
            "margin": null,
            "display": null,
            "left": null
          }
        },
        "f493f732e378449ca144d1c3b7694f45": {
          "model_module": "@jupyter-widgets/controls",
          "model_name": "DescriptionStyleModel",
          "state": {
            "_view_name": "StyleView",
            "_model_name": "DescriptionStyleModel",
            "description_width": "",
            "_view_module": "@jupyter-widgets/base",
            "_model_module_version": "1.5.0",
            "_view_count": null,
            "_view_module_version": "1.2.0",
            "_model_module": "@jupyter-widgets/controls"
          }
        },
        "d1e901bb3e094338b65276515761a8bb": {
          "model_module": "@jupyter-widgets/base",
          "model_name": "LayoutModel",
          "state": {
            "_view_name": "LayoutView",
            "grid_template_rows": null,
            "right": null,
            "justify_content": null,
            "_view_module": "@jupyter-widgets/base",
            "overflow": null,
            "_model_module_version": "1.2.0",
            "_view_count": null,
            "flex_flow": null,
            "width": null,
            "min_width": null,
            "border": null,
            "align_items": null,
            "bottom": null,
            "_model_module": "@jupyter-widgets/base",
            "top": null,
            "grid_column": null,
            "overflow_y": null,
            "overflow_x": null,
            "grid_auto_flow": null,
            "grid_area": null,
            "grid_template_columns": null,
            "flex": null,
            "_model_name": "LayoutModel",
            "justify_items": null,
            "grid_row": null,
            "max_height": null,
            "align_content": null,
            "visibility": null,
            "align_self": null,
            "height": null,
            "min_height": null,
            "padding": null,
            "grid_auto_rows": null,
            "grid_gap": null,
            "max_width": null,
            "order": null,
            "_view_module_version": "1.2.0",
            "grid_template_areas": null,
            "object_position": null,
            "object_fit": null,
            "grid_auto_columns": null,
            "margin": null,
            "display": null,
            "left": null
          }
        },
        "80a8caa2560c4d5f95897122ee4c038a": {
          "model_module": "@jupyter-widgets/controls",
          "model_name": "HBoxModel",
          "state": {
            "_view_name": "HBoxView",
            "_dom_classes": [],
            "_model_name": "HBoxModel",
            "_view_module": "@jupyter-widgets/controls",
            "_model_module_version": "1.5.0",
            "_view_count": null,
            "_view_module_version": "1.5.0",
            "box_style": "",
            "layout": "IPY_MODEL_8c091274762f4cee871a0b65cbf3140e",
            "_model_module": "@jupyter-widgets/controls",
            "children": [
              "IPY_MODEL_44cb5a1b5fd1464abc4573caa9ae918d",
              "IPY_MODEL_37b13a186901437eaa6760cd97ea991d"
            ]
          }
        },
        "8c091274762f4cee871a0b65cbf3140e": {
          "model_module": "@jupyter-widgets/base",
          "model_name": "LayoutModel",
          "state": {
            "_view_name": "LayoutView",
            "grid_template_rows": null,
            "right": null,
            "justify_content": null,
            "_view_module": "@jupyter-widgets/base",
            "overflow": null,
            "_model_module_version": "1.2.0",
            "_view_count": null,
            "flex_flow": null,
            "width": null,
            "min_width": null,
            "border": null,
            "align_items": null,
            "bottom": null,
            "_model_module": "@jupyter-widgets/base",
            "top": null,
            "grid_column": null,
            "overflow_y": null,
            "overflow_x": null,
            "grid_auto_flow": null,
            "grid_area": null,
            "grid_template_columns": null,
            "flex": null,
            "_model_name": "LayoutModel",
            "justify_items": null,
            "grid_row": null,
            "max_height": null,
            "align_content": null,
            "visibility": null,
            "align_self": null,
            "height": null,
            "min_height": null,
            "padding": null,
            "grid_auto_rows": null,
            "grid_gap": null,
            "max_width": null,
            "order": null,
            "_view_module_version": "1.2.0",
            "grid_template_areas": null,
            "object_position": null,
            "object_fit": null,
            "grid_auto_columns": null,
            "margin": null,
            "display": null,
            "left": null
          }
        },
        "44cb5a1b5fd1464abc4573caa9ae918d": {
          "model_module": "@jupyter-widgets/controls",
          "model_name": "FloatProgressModel",
          "state": {
            "_view_name": "ProgressView",
            "style": "IPY_MODEL_e477170430434985bfa9b1673e7f0799",
            "_dom_classes": [],
            "description": "",
            "_model_name": "FloatProgressModel",
            "bar_style": "info",
            "max": 1,
            "_view_module": "@jupyter-widgets/controls",
            "_model_module_version": "1.5.0",
            "value": 1,
            "_view_count": null,
            "_view_module_version": "1.5.0",
            "orientation": "horizontal",
            "min": 0,
            "description_tooltip": null,
            "_model_module": "@jupyter-widgets/controls",
            "layout": "IPY_MODEL_760fee0c53494cfbbebe3906f8deda61"
          }
        },
        "37b13a186901437eaa6760cd97ea991d": {
          "model_module": "@jupyter-widgets/controls",
          "model_name": "HTMLModel",
          "state": {
            "_view_name": "HTMLView",
            "style": "IPY_MODEL_438c8d56c43a458bb7dc8b8fb626cb2f",
            "_dom_classes": [],
            "description": "",
            "_model_name": "HTMLModel",
            "placeholder": "​",
            "_view_module": "@jupyter-widgets/controls",
            "_model_module_version": "1.5.0",
            "value": " 25000/0 [00:11&lt;00:00, 3705.80 examples/s]",
            "_view_count": null,
            "_view_module_version": "1.5.0",
            "description_tooltip": null,
            "_model_module": "@jupyter-widgets/controls",
            "layout": "IPY_MODEL_07212b481e1247d682f88b8b9ae255b5"
          }
        },
        "e477170430434985bfa9b1673e7f0799": {
          "model_module": "@jupyter-widgets/controls",
          "model_name": "ProgressStyleModel",
          "state": {
            "_view_name": "StyleView",
            "_model_name": "ProgressStyleModel",
            "description_width": "initial",
            "_view_module": "@jupyter-widgets/base",
            "_model_module_version": "1.5.0",
            "_view_count": null,
            "_view_module_version": "1.2.0",
            "bar_color": null,
            "_model_module": "@jupyter-widgets/controls"
          }
        },
        "760fee0c53494cfbbebe3906f8deda61": {
          "model_module": "@jupyter-widgets/base",
          "model_name": "LayoutModel",
          "state": {
            "_view_name": "LayoutView",
            "grid_template_rows": null,
            "right": null,
            "justify_content": null,
            "_view_module": "@jupyter-widgets/base",
            "overflow": null,
            "_model_module_version": "1.2.0",
            "_view_count": null,
            "flex_flow": null,
            "width": null,
            "min_width": null,
            "border": null,
            "align_items": null,
            "bottom": null,
            "_model_module": "@jupyter-widgets/base",
            "top": null,
            "grid_column": null,
            "overflow_y": null,
            "overflow_x": null,
            "grid_auto_flow": null,
            "grid_area": null,
            "grid_template_columns": null,
            "flex": null,
            "_model_name": "LayoutModel",
            "justify_items": null,
            "grid_row": null,
            "max_height": null,
            "align_content": null,
            "visibility": null,
            "align_self": null,
            "height": null,
            "min_height": null,
            "padding": null,
            "grid_auto_rows": null,
            "grid_gap": null,
            "max_width": null,
            "order": null,
            "_view_module_version": "1.2.0",
            "grid_template_areas": null,
            "object_position": null,
            "object_fit": null,
            "grid_auto_columns": null,
            "margin": null,
            "display": null,
            "left": null
          }
        },
        "438c8d56c43a458bb7dc8b8fb626cb2f": {
          "model_module": "@jupyter-widgets/controls",
          "model_name": "DescriptionStyleModel",
          "state": {
            "_view_name": "StyleView",
            "_model_name": "DescriptionStyleModel",
            "description_width": "",
            "_view_module": "@jupyter-widgets/base",
            "_model_module_version": "1.5.0",
            "_view_count": null,
            "_view_module_version": "1.2.0",
            "_model_module": "@jupyter-widgets/controls"
          }
        },
        "07212b481e1247d682f88b8b9ae255b5": {
          "model_module": "@jupyter-widgets/base",
          "model_name": "LayoutModel",
          "state": {
            "_view_name": "LayoutView",
            "grid_template_rows": null,
            "right": null,
            "justify_content": null,
            "_view_module": "@jupyter-widgets/base",
            "overflow": null,
            "_model_module_version": "1.2.0",
            "_view_count": null,
            "flex_flow": null,
            "width": null,
            "min_width": null,
            "border": null,
            "align_items": null,
            "bottom": null,
            "_model_module": "@jupyter-widgets/base",
            "top": null,
            "grid_column": null,
            "overflow_y": null,
            "overflow_x": null,
            "grid_auto_flow": null,
            "grid_area": null,
            "grid_template_columns": null,
            "flex": null,
            "_model_name": "LayoutModel",
            "justify_items": null,
            "grid_row": null,
            "max_height": null,
            "align_content": null,
            "visibility": null,
            "align_self": null,
            "height": null,
            "min_height": null,
            "padding": null,
            "grid_auto_rows": null,
            "grid_gap": null,
            "max_width": null,
            "order": null,
            "_view_module_version": "1.2.0",
            "grid_template_areas": null,
            "object_position": null,
            "object_fit": null,
            "grid_auto_columns": null,
            "margin": null,
            "display": null,
            "left": null
          }
        },
        "c0319282d0364be5a82cc26ca28a900a": {
          "model_module": "@jupyter-widgets/controls",
          "model_name": "HBoxModel",
          "state": {
            "_view_name": "HBoxView",
            "_dom_classes": [],
            "_model_name": "HBoxModel",
            "_view_module": "@jupyter-widgets/controls",
            "_model_module_version": "1.5.0",
            "_view_count": null,
            "_view_module_version": "1.5.0",
            "box_style": "",
            "layout": "IPY_MODEL_2240963dea234f7797587eb446682d6e",
            "_model_module": "@jupyter-widgets/controls",
            "children": [
              "IPY_MODEL_0b43e334572a490bb07ae7b5cbe8ee33",
              "IPY_MODEL_6e5d8c75d1594a1698be24a8668f800f"
            ]
          }
        },
        "2240963dea234f7797587eb446682d6e": {
          "model_module": "@jupyter-widgets/base",
          "model_name": "LayoutModel",
          "state": {
            "_view_name": "LayoutView",
            "grid_template_rows": null,
            "right": null,
            "justify_content": null,
            "_view_module": "@jupyter-widgets/base",
            "overflow": null,
            "_model_module_version": "1.2.0",
            "_view_count": null,
            "flex_flow": null,
            "width": null,
            "min_width": null,
            "border": null,
            "align_items": null,
            "bottom": null,
            "_model_module": "@jupyter-widgets/base",
            "top": null,
            "grid_column": null,
            "overflow_y": null,
            "overflow_x": null,
            "grid_auto_flow": null,
            "grid_area": null,
            "grid_template_columns": null,
            "flex": null,
            "_model_name": "LayoutModel",
            "justify_items": null,
            "grid_row": null,
            "max_height": null,
            "align_content": null,
            "visibility": null,
            "align_self": null,
            "height": null,
            "min_height": null,
            "padding": null,
            "grid_auto_rows": null,
            "grid_gap": null,
            "max_width": null,
            "order": null,
            "_view_module_version": "1.2.0",
            "grid_template_areas": null,
            "object_position": null,
            "object_fit": null,
            "grid_auto_columns": null,
            "margin": null,
            "display": null,
            "left": null
          }
        },
        "0b43e334572a490bb07ae7b5cbe8ee33": {
          "model_module": "@jupyter-widgets/controls",
          "model_name": "FloatProgressModel",
          "state": {
            "_view_name": "ProgressView",
            "style": "IPY_MODEL_81a7b3277247456a8f7dfbfeffc5465c",
            "_dom_classes": [],
            "description": " 63%",
            "_model_name": "FloatProgressModel",
            "bar_style": "danger",
            "max": 25000,
            "_view_module": "@jupyter-widgets/controls",
            "_model_module_version": "1.5.0",
            "value": 15673,
            "_view_count": null,
            "_view_module_version": "1.5.0",
            "orientation": "horizontal",
            "min": 0,
            "description_tooltip": null,
            "_model_module": "@jupyter-widgets/controls",
            "layout": "IPY_MODEL_ad6b3150675c4d5c8bacbd1f6c6fa40f"
          }
        },
        "6e5d8c75d1594a1698be24a8668f800f": {
          "model_module": "@jupyter-widgets/controls",
          "model_name": "HTMLModel",
          "state": {
            "_view_name": "HTMLView",
            "style": "IPY_MODEL_5a94c1456975421a8bb72d31965703f5",
            "_dom_classes": [],
            "description": "",
            "_model_name": "HTMLModel",
            "placeholder": "​",
            "_view_module": "@jupyter-widgets/controls",
            "_model_module_version": "1.5.0",
            "value": " 15673/25000 [00:00&lt;00:00, 156729.78 examples/s]",
            "_view_count": null,
            "_view_module_version": "1.5.0",
            "description_tooltip": null,
            "_model_module": "@jupyter-widgets/controls",
            "layout": "IPY_MODEL_fbd8f877a4864372bf43f54609544589"
          }
        },
        "81a7b3277247456a8f7dfbfeffc5465c": {
          "model_module": "@jupyter-widgets/controls",
          "model_name": "ProgressStyleModel",
          "state": {
            "_view_name": "StyleView",
            "_model_name": "ProgressStyleModel",
            "description_width": "initial",
            "_view_module": "@jupyter-widgets/base",
            "_model_module_version": "1.5.0",
            "_view_count": null,
            "_view_module_version": "1.2.0",
            "bar_color": null,
            "_model_module": "@jupyter-widgets/controls"
          }
        },
        "ad6b3150675c4d5c8bacbd1f6c6fa40f": {
          "model_module": "@jupyter-widgets/base",
          "model_name": "LayoutModel",
          "state": {
            "_view_name": "LayoutView",
            "grid_template_rows": null,
            "right": null,
            "justify_content": null,
            "_view_module": "@jupyter-widgets/base",
            "overflow": null,
            "_model_module_version": "1.2.0",
            "_view_count": null,
            "flex_flow": null,
            "width": null,
            "min_width": null,
            "border": null,
            "align_items": null,
            "bottom": null,
            "_model_module": "@jupyter-widgets/base",
            "top": null,
            "grid_column": null,
            "overflow_y": null,
            "overflow_x": null,
            "grid_auto_flow": null,
            "grid_area": null,
            "grid_template_columns": null,
            "flex": null,
            "_model_name": "LayoutModel",
            "justify_items": null,
            "grid_row": null,
            "max_height": null,
            "align_content": null,
            "visibility": null,
            "align_self": null,
            "height": null,
            "min_height": null,
            "padding": null,
            "grid_auto_rows": null,
            "grid_gap": null,
            "max_width": null,
            "order": null,
            "_view_module_version": "1.2.0",
            "grid_template_areas": null,
            "object_position": null,
            "object_fit": null,
            "grid_auto_columns": null,
            "margin": null,
            "display": null,
            "left": null
          }
        },
        "5a94c1456975421a8bb72d31965703f5": {
          "model_module": "@jupyter-widgets/controls",
          "model_name": "DescriptionStyleModel",
          "state": {
            "_view_name": "StyleView",
            "_model_name": "DescriptionStyleModel",
            "description_width": "",
            "_view_module": "@jupyter-widgets/base",
            "_model_module_version": "1.5.0",
            "_view_count": null,
            "_view_module_version": "1.2.0",
            "_model_module": "@jupyter-widgets/controls"
          }
        },
        "fbd8f877a4864372bf43f54609544589": {
          "model_module": "@jupyter-widgets/base",
          "model_name": "LayoutModel",
          "state": {
            "_view_name": "LayoutView",
            "grid_template_rows": null,
            "right": null,
            "justify_content": null,
            "_view_module": "@jupyter-widgets/base",
            "overflow": null,
            "_model_module_version": "1.2.0",
            "_view_count": null,
            "flex_flow": null,
            "width": null,
            "min_width": null,
            "border": null,
            "align_items": null,
            "bottom": null,
            "_model_module": "@jupyter-widgets/base",
            "top": null,
            "grid_column": null,
            "overflow_y": null,
            "overflow_x": null,
            "grid_auto_flow": null,
            "grid_area": null,
            "grid_template_columns": null,
            "flex": null,
            "_model_name": "LayoutModel",
            "justify_items": null,
            "grid_row": null,
            "max_height": null,
            "align_content": null,
            "visibility": null,
            "align_self": null,
            "height": null,
            "min_height": null,
            "padding": null,
            "grid_auto_rows": null,
            "grid_gap": null,
            "max_width": null,
            "order": null,
            "_view_module_version": "1.2.0",
            "grid_template_areas": null,
            "object_position": null,
            "object_fit": null,
            "grid_auto_columns": null,
            "margin": null,
            "display": null,
            "left": null
          }
        },
        "d70cec1ab88f47809e5e2332235dd654": {
          "model_module": "@jupyter-widgets/controls",
          "model_name": "HBoxModel",
          "state": {
            "_view_name": "HBoxView",
            "_dom_classes": [],
            "_model_name": "HBoxModel",
            "_view_module": "@jupyter-widgets/controls",
            "_model_module_version": "1.5.0",
            "_view_count": null,
            "_view_module_version": "1.5.0",
            "box_style": "",
            "layout": "IPY_MODEL_17a038ca396048b088ed56aae9e859ba",
            "_model_module": "@jupyter-widgets/controls",
            "children": [
              "IPY_MODEL_6c77afb81bab4ce9bcd5ac672695afbd",
              "IPY_MODEL_3a0c9310eb6c47bb9b76d9f9cd8b97e2"
            ]
          }
        },
        "17a038ca396048b088ed56aae9e859ba": {
          "model_module": "@jupyter-widgets/base",
          "model_name": "LayoutModel",
          "state": {
            "_view_name": "LayoutView",
            "grid_template_rows": null,
            "right": null,
            "justify_content": null,
            "_view_module": "@jupyter-widgets/base",
            "overflow": null,
            "_model_module_version": "1.2.0",
            "_view_count": null,
            "flex_flow": null,
            "width": null,
            "min_width": null,
            "border": null,
            "align_items": null,
            "bottom": null,
            "_model_module": "@jupyter-widgets/base",
            "top": null,
            "grid_column": null,
            "overflow_y": null,
            "overflow_x": null,
            "grid_auto_flow": null,
            "grid_area": null,
            "grid_template_columns": null,
            "flex": null,
            "_model_name": "LayoutModel",
            "justify_items": null,
            "grid_row": null,
            "max_height": null,
            "align_content": null,
            "visibility": null,
            "align_self": null,
            "height": null,
            "min_height": null,
            "padding": null,
            "grid_auto_rows": null,
            "grid_gap": null,
            "max_width": null,
            "order": null,
            "_view_module_version": "1.2.0",
            "grid_template_areas": null,
            "object_position": null,
            "object_fit": null,
            "grid_auto_columns": null,
            "margin": null,
            "display": null,
            "left": null
          }
        },
        "6c77afb81bab4ce9bcd5ac672695afbd": {
          "model_module": "@jupyter-widgets/controls",
          "model_name": "FloatProgressModel",
          "state": {
            "_view_name": "ProgressView",
            "style": "IPY_MODEL_1a28821b6df9468fbbfa74b26e1adf89",
            "_dom_classes": [],
            "description": "",
            "_model_name": "FloatProgressModel",
            "bar_style": "info",
            "max": 1,
            "_view_module": "@jupyter-widgets/controls",
            "_model_module_version": "1.5.0",
            "value": 1,
            "_view_count": null,
            "_view_module_version": "1.5.0",
            "orientation": "horizontal",
            "min": 0,
            "description_tooltip": null,
            "_model_module": "@jupyter-widgets/controls",
            "layout": "IPY_MODEL_82158ce873914f29a66f1b31c6946d8a"
          }
        },
        "3a0c9310eb6c47bb9b76d9f9cd8b97e2": {
          "model_module": "@jupyter-widgets/controls",
          "model_name": "HTMLModel",
          "state": {
            "_view_name": "HTMLView",
            "style": "IPY_MODEL_a0e3ed682c234a148a8db0d4e95262c7",
            "_dom_classes": [],
            "description": "",
            "_model_name": "HTMLModel",
            "placeholder": "​",
            "_view_module": "@jupyter-widgets/controls",
            "_model_module_version": "1.5.0",
            "value": " 50000/0 [00:17&lt;00:00, 3798.78 examples/s]",
            "_view_count": null,
            "_view_module_version": "1.5.0",
            "description_tooltip": null,
            "_model_module": "@jupyter-widgets/controls",
            "layout": "IPY_MODEL_1dee31d009b0487989213f858bd7467a"
          }
        },
        "1a28821b6df9468fbbfa74b26e1adf89": {
          "model_module": "@jupyter-widgets/controls",
          "model_name": "ProgressStyleModel",
          "state": {
            "_view_name": "StyleView",
            "_model_name": "ProgressStyleModel",
            "description_width": "initial",
            "_view_module": "@jupyter-widgets/base",
            "_model_module_version": "1.5.0",
            "_view_count": null,
            "_view_module_version": "1.2.0",
            "bar_color": null,
            "_model_module": "@jupyter-widgets/controls"
          }
        },
        "82158ce873914f29a66f1b31c6946d8a": {
          "model_module": "@jupyter-widgets/base",
          "model_name": "LayoutModel",
          "state": {
            "_view_name": "LayoutView",
            "grid_template_rows": null,
            "right": null,
            "justify_content": null,
            "_view_module": "@jupyter-widgets/base",
            "overflow": null,
            "_model_module_version": "1.2.0",
            "_view_count": null,
            "flex_flow": null,
            "width": null,
            "min_width": null,
            "border": null,
            "align_items": null,
            "bottom": null,
            "_model_module": "@jupyter-widgets/base",
            "top": null,
            "grid_column": null,
            "overflow_y": null,
            "overflow_x": null,
            "grid_auto_flow": null,
            "grid_area": null,
            "grid_template_columns": null,
            "flex": null,
            "_model_name": "LayoutModel",
            "justify_items": null,
            "grid_row": null,
            "max_height": null,
            "align_content": null,
            "visibility": null,
            "align_self": null,
            "height": null,
            "min_height": null,
            "padding": null,
            "grid_auto_rows": null,
            "grid_gap": null,
            "max_width": null,
            "order": null,
            "_view_module_version": "1.2.0",
            "grid_template_areas": null,
            "object_position": null,
            "object_fit": null,
            "grid_auto_columns": null,
            "margin": null,
            "display": null,
            "left": null
          }
        },
        "a0e3ed682c234a148a8db0d4e95262c7": {
          "model_module": "@jupyter-widgets/controls",
          "model_name": "DescriptionStyleModel",
          "state": {
            "_view_name": "StyleView",
            "_model_name": "DescriptionStyleModel",
            "description_width": "",
            "_view_module": "@jupyter-widgets/base",
            "_model_module_version": "1.5.0",
            "_view_count": null,
            "_view_module_version": "1.2.0",
            "_model_module": "@jupyter-widgets/controls"
          }
        },
        "1dee31d009b0487989213f858bd7467a": {
          "model_module": "@jupyter-widgets/base",
          "model_name": "LayoutModel",
          "state": {
            "_view_name": "LayoutView",
            "grid_template_rows": null,
            "right": null,
            "justify_content": null,
            "_view_module": "@jupyter-widgets/base",
            "overflow": null,
            "_model_module_version": "1.2.0",
            "_view_count": null,
            "flex_flow": null,
            "width": null,
            "min_width": null,
            "border": null,
            "align_items": null,
            "bottom": null,
            "_model_module": "@jupyter-widgets/base",
            "top": null,
            "grid_column": null,
            "overflow_y": null,
            "overflow_x": null,
            "grid_auto_flow": null,
            "grid_area": null,
            "grid_template_columns": null,
            "flex": null,
            "_model_name": "LayoutModel",
            "justify_items": null,
            "grid_row": null,
            "max_height": null,
            "align_content": null,
            "visibility": null,
            "align_self": null,
            "height": null,
            "min_height": null,
            "padding": null,
            "grid_auto_rows": null,
            "grid_gap": null,
            "max_width": null,
            "order": null,
            "_view_module_version": "1.2.0",
            "grid_template_areas": null,
            "object_position": null,
            "object_fit": null,
            "grid_auto_columns": null,
            "margin": null,
            "display": null,
            "left": null
          }
        },
        "1c4b22b099f34789bd3c54829aa8fd29": {
          "model_module": "@jupyter-widgets/controls",
          "model_name": "HBoxModel",
          "state": {
            "_view_name": "HBoxView",
            "_dom_classes": [],
            "_model_name": "HBoxModel",
            "_view_module": "@jupyter-widgets/controls",
            "_model_module_version": "1.5.0",
            "_view_count": null,
            "_view_module_version": "1.5.0",
            "box_style": "",
            "layout": "IPY_MODEL_c02fef63023c42b98a324576b3bf783b",
            "_model_module": "@jupyter-widgets/controls",
            "children": [
              "IPY_MODEL_c9802c414a9245129a7944fa504cd206",
              "IPY_MODEL_5e342d3bb2bc4bbf9af3e73323bd0f62"
            ]
          }
        },
        "c02fef63023c42b98a324576b3bf783b": {
          "model_module": "@jupyter-widgets/base",
          "model_name": "LayoutModel",
          "state": {
            "_view_name": "LayoutView",
            "grid_template_rows": null,
            "right": null,
            "justify_content": null,
            "_view_module": "@jupyter-widgets/base",
            "overflow": null,
            "_model_module_version": "1.2.0",
            "_view_count": null,
            "flex_flow": null,
            "width": null,
            "min_width": null,
            "border": null,
            "align_items": null,
            "bottom": null,
            "_model_module": "@jupyter-widgets/base",
            "top": null,
            "grid_column": null,
            "overflow_y": null,
            "overflow_x": null,
            "grid_auto_flow": null,
            "grid_area": null,
            "grid_template_columns": null,
            "flex": null,
            "_model_name": "LayoutModel",
            "justify_items": null,
            "grid_row": null,
            "max_height": null,
            "align_content": null,
            "visibility": null,
            "align_self": null,
            "height": null,
            "min_height": null,
            "padding": null,
            "grid_auto_rows": null,
            "grid_gap": null,
            "max_width": null,
            "order": null,
            "_view_module_version": "1.2.0",
            "grid_template_areas": null,
            "object_position": null,
            "object_fit": null,
            "grid_auto_columns": null,
            "margin": null,
            "display": null,
            "left": null
          }
        },
        "c9802c414a9245129a7944fa504cd206": {
          "model_module": "@jupyter-widgets/controls",
          "model_name": "FloatProgressModel",
          "state": {
            "_view_name": "ProgressView",
            "style": "IPY_MODEL_db4bcf5bafde42fe8197c3da994755ce",
            "_dom_classes": [],
            "description": " 78%",
            "_model_name": "FloatProgressModel",
            "bar_style": "danger",
            "max": 50000,
            "_view_module": "@jupyter-widgets/controls",
            "_model_module_version": "1.5.0",
            "value": 39220,
            "_view_count": null,
            "_view_module_version": "1.5.0",
            "orientation": "horizontal",
            "min": 0,
            "description_tooltip": null,
            "_model_module": "@jupyter-widgets/controls",
            "layout": "IPY_MODEL_03dbb988025c41e6bbd7211cbe7e507d"
          }
        },
        "5e342d3bb2bc4bbf9af3e73323bd0f62": {
          "model_module": "@jupyter-widgets/controls",
          "model_name": "HTMLModel",
          "state": {
            "_view_name": "HTMLView",
            "style": "IPY_MODEL_98604f5903c843d78ba4738db7494cc5",
            "_dom_classes": [],
            "description": "",
            "_model_name": "HTMLModel",
            "placeholder": "​",
            "_view_module": "@jupyter-widgets/controls",
            "_model_module_version": "1.5.0",
            "value": " 39220/50000 [00:00&lt;00:00, 119645.10 examples/s]",
            "_view_count": null,
            "_view_module_version": "1.5.0",
            "description_tooltip": null,
            "_model_module": "@jupyter-widgets/controls",
            "layout": "IPY_MODEL_f91ba35f55754de68c089fee0a02758d"
          }
        },
        "db4bcf5bafde42fe8197c3da994755ce": {
          "model_module": "@jupyter-widgets/controls",
          "model_name": "ProgressStyleModel",
          "state": {
            "_view_name": "StyleView",
            "_model_name": "ProgressStyleModel",
            "description_width": "initial",
            "_view_module": "@jupyter-widgets/base",
            "_model_module_version": "1.5.0",
            "_view_count": null,
            "_view_module_version": "1.2.0",
            "bar_color": null,
            "_model_module": "@jupyter-widgets/controls"
          }
        },
        "03dbb988025c41e6bbd7211cbe7e507d": {
          "model_module": "@jupyter-widgets/base",
          "model_name": "LayoutModel",
          "state": {
            "_view_name": "LayoutView",
            "grid_template_rows": null,
            "right": null,
            "justify_content": null,
            "_view_module": "@jupyter-widgets/base",
            "overflow": null,
            "_model_module_version": "1.2.0",
            "_view_count": null,
            "flex_flow": null,
            "width": null,
            "min_width": null,
            "border": null,
            "align_items": null,
            "bottom": null,
            "_model_module": "@jupyter-widgets/base",
            "top": null,
            "grid_column": null,
            "overflow_y": null,
            "overflow_x": null,
            "grid_auto_flow": null,
            "grid_area": null,
            "grid_template_columns": null,
            "flex": null,
            "_model_name": "LayoutModel",
            "justify_items": null,
            "grid_row": null,
            "max_height": null,
            "align_content": null,
            "visibility": null,
            "align_self": null,
            "height": null,
            "min_height": null,
            "padding": null,
            "grid_auto_rows": null,
            "grid_gap": null,
            "max_width": null,
            "order": null,
            "_view_module_version": "1.2.0",
            "grid_template_areas": null,
            "object_position": null,
            "object_fit": null,
            "grid_auto_columns": null,
            "margin": null,
            "display": null,
            "left": null
          }
        },
        "98604f5903c843d78ba4738db7494cc5": {
          "model_module": "@jupyter-widgets/controls",
          "model_name": "DescriptionStyleModel",
          "state": {
            "_view_name": "StyleView",
            "_model_name": "DescriptionStyleModel",
            "description_width": "",
            "_view_module": "@jupyter-widgets/base",
            "_model_module_version": "1.5.0",
            "_view_count": null,
            "_view_module_version": "1.2.0",
            "_model_module": "@jupyter-widgets/controls"
          }
        },
        "f91ba35f55754de68c089fee0a02758d": {
          "model_module": "@jupyter-widgets/base",
          "model_name": "LayoutModel",
          "state": {
            "_view_name": "LayoutView",
            "grid_template_rows": null,
            "right": null,
            "justify_content": null,
            "_view_module": "@jupyter-widgets/base",
            "overflow": null,
            "_model_module_version": "1.2.0",
            "_view_count": null,
            "flex_flow": null,
            "width": null,
            "min_width": null,
            "border": null,
            "align_items": null,
            "bottom": null,
            "_model_module": "@jupyter-widgets/base",
            "top": null,
            "grid_column": null,
            "overflow_y": null,
            "overflow_x": null,
            "grid_auto_flow": null,
            "grid_area": null,
            "grid_template_columns": null,
            "flex": null,
            "_model_name": "LayoutModel",
            "justify_items": null,
            "grid_row": null,
            "max_height": null,
            "align_content": null,
            "visibility": null,
            "align_self": null,
            "height": null,
            "min_height": null,
            "padding": null,
            "grid_auto_rows": null,
            "grid_gap": null,
            "max_width": null,
            "order": null,
            "_view_module_version": "1.2.0",
            "grid_template_areas": null,
            "object_position": null,
            "object_fit": null,
            "grid_auto_columns": null,
            "margin": null,
            "display": null,
            "left": null
          }
        }
      }
    }
  },
  "cells": [
    {
      "cell_type": "code",
      "metadata": {
        "id": "zX4Kg8DUTKWO"
      },
      "source": [
        "#@title Licensed under the Apache License, Version 2.0 (the \"License\");\n",
        "# you may not use this file except in compliance with the License.\n",
        "# You may obtain a copy of the License at\n",
        "#\n",
        "# https://www.apache.org/licenses/LICENSE-2.0\n",
        "#\n",
        "# Unless required by applicable law or agreed to in writing, software\n",
        "# distributed under the License is distributed on an \"AS IS\" BASIS,\n",
        "# WITHOUT WARRANTIES OR CONDITIONS OF ANY KIND, either express or implied.\n",
        "# See the License for the specific language governing permissions and\n",
        "# limitations under the License."
      ],
      "execution_count": null,
      "outputs": []
    },
    {
      "cell_type": "code",
      "metadata": {
        "id": "P-AhVYeBWgQ3",
        "outputId": "4b7e4c5a-a919-46c1-da58-0d1bf72644dc",
        "colab": {
          "base_uri": "https://localhost:8080/",
          "height": 34
        }
      },
      "source": [
        "import tensorflow as tf\n",
        "print(tf.__version__)\n",
        "\n",
        "# !pip install -q tensorflow-datasets"
      ],
      "execution_count": 1,
      "outputs": [
        {
          "output_type": "stream",
          "text": [
            "2.3.0\n"
          ],
          "name": "stdout"
        }
      ]
    },
    {
      "cell_type": "code",
      "metadata": {
        "id": "_IoM4VFxWpMR",
        "outputId": "7e4df36d-cbff-4c52-abf0-4a62e7c9073b",
        "colab": {
          "base_uri": "https://localhost:8080/",
          "height": 350,
          "referenced_widgets": [
            "477d79a2094c4bb396ade3598721f3d4",
            "264564dae7be46de9c4e529f56dd342f",
            "5f6c28cfad4c4e1b9941d895b139d09b",
            "c930955a296e4ff999c49f2c94e9e1ff",
            "4a057dc0e1f945319b9d05e98299419e",
            "a641abd3373d4e77b0d6f11938512302",
            "f3f8ace991794f53bd73c9be2dfd78a4",
            "9845f5a3499d46ccae2baf98db09b870",
            "cc387a6075a3461ca19c64f9abee6e26",
            "62fa26259fe84e42aa1bc0598b744921",
            "dd24f2569e624e518f04f8b1b562a455",
            "657fe184b9504e3681f9b236845e047d",
            "c85e8319b4894b63b31ec5f76c8cb744",
            "74e862225bb04f3ead099fd3d58481d8",
            "c5487a878f374b9a9e40e6389a6886f5",
            "5a8ec35079994e98b81b3fe0c2798182",
            "e3f5e18224244a438296c0c9b06a2df9",
            "0ed14bca851244ff862e9a1fce7de637",
            "63ab5a82b68449cfa1f25011ee2e7628",
            "6a4abaedcfd04041a2670acce3a4a44c",
            "d4f70a4fd1474bd5999b55ebd65aa5d7",
            "07a82e97981c49a8ae089f8f4389a42d",
            "22618b4480374059995bdb953d30901b",
            "e2b59fbdf16d4ff09bb1b13df696122a",
            "80488b63ff984d7fa129ad152811dbb3",
            "d06ea37c8fc042c89c8b8f5b0cf31516",
            "d9d7504ed26543c9aafada7af96d482b",
            "0288f54bdb264ae18b45b1d848af9cdc",
            "d424b0ec8bbc40f09fdaf090bb4f18b9",
            "abf6532f4cac44218b4c96aebab49b95",
            "f493f732e378449ca144d1c3b7694f45",
            "d1e901bb3e094338b65276515761a8bb",
            "80a8caa2560c4d5f95897122ee4c038a",
            "8c091274762f4cee871a0b65cbf3140e",
            "44cb5a1b5fd1464abc4573caa9ae918d",
            "37b13a186901437eaa6760cd97ea991d",
            "e477170430434985bfa9b1673e7f0799",
            "760fee0c53494cfbbebe3906f8deda61",
            "438c8d56c43a458bb7dc8b8fb626cb2f",
            "07212b481e1247d682f88b8b9ae255b5",
            "c0319282d0364be5a82cc26ca28a900a",
            "2240963dea234f7797587eb446682d6e",
            "0b43e334572a490bb07ae7b5cbe8ee33",
            "6e5d8c75d1594a1698be24a8668f800f",
            "81a7b3277247456a8f7dfbfeffc5465c",
            "ad6b3150675c4d5c8bacbd1f6c6fa40f",
            "5a94c1456975421a8bb72d31965703f5",
            "fbd8f877a4864372bf43f54609544589",
            "d70cec1ab88f47809e5e2332235dd654",
            "17a038ca396048b088ed56aae9e859ba",
            "6c77afb81bab4ce9bcd5ac672695afbd",
            "3a0c9310eb6c47bb9b76d9f9cd8b97e2",
            "1a28821b6df9468fbbfa74b26e1adf89",
            "82158ce873914f29a66f1b31c6946d8a",
            "a0e3ed682c234a148a8db0d4e95262c7",
            "1dee31d009b0487989213f858bd7467a",
            "1c4b22b099f34789bd3c54829aa8fd29",
            "c02fef63023c42b98a324576b3bf783b",
            "c9802c414a9245129a7944fa504cd206",
            "5e342d3bb2bc4bbf9af3e73323bd0f62",
            "db4bcf5bafde42fe8197c3da994755ce",
            "03dbb988025c41e6bbd7211cbe7e507d",
            "98604f5903c843d78ba4738db7494cc5",
            "f91ba35f55754de68c089fee0a02758d"
          ]
        }
      },
      "source": [
        "import tensorflow_datasets as tfds\n",
        "imdb, info = tfds.load(\"imdb_reviews\", with_info=True, as_supervised=True)\n"
      ],
      "execution_count": 2,
      "outputs": [
        {
          "output_type": "stream",
          "text": [
            "\u001b[1mDownloading and preparing dataset imdb_reviews/plain_text/1.0.0 (download: 80.23 MiB, generated: Unknown size, total: 80.23 MiB) to /root/tensorflow_datasets/imdb_reviews/plain_text/1.0.0...\u001b[0m\n"
          ],
          "name": "stdout"
        },
        {
          "output_type": "display_data",
          "data": {
            "application/vnd.jupyter.widget-view+json": {
              "model_id": "477d79a2094c4bb396ade3598721f3d4",
              "version_minor": 0,
              "version_major": 2
            },
            "text/plain": [
              "HBox(children=(FloatProgress(value=1.0, bar_style='info', description='Dl Completed...', max=1.0, style=Progre…"
            ]
          },
          "metadata": {
            "tags": []
          }
        },
        {
          "output_type": "display_data",
          "data": {
            "application/vnd.jupyter.widget-view+json": {
              "model_id": "cc387a6075a3461ca19c64f9abee6e26",
              "version_minor": 0,
              "version_major": 2
            },
            "text/plain": [
              "HBox(children=(FloatProgress(value=1.0, bar_style='info', description='Dl Size...', max=1.0, style=ProgressSty…"
            ]
          },
          "metadata": {
            "tags": []
          }
        },
        {
          "output_type": "stream",
          "text": [
            "\n",
            "\n",
            "\n",
            "\n"
          ],
          "name": "stdout"
        },
        {
          "output_type": "display_data",
          "data": {
            "application/vnd.jupyter.widget-view+json": {
              "model_id": "e3f5e18224244a438296c0c9b06a2df9",
              "version_minor": 0,
              "version_major": 2
            },
            "text/plain": [
              "HBox(children=(FloatProgress(value=1.0, bar_style='info', max=1.0), HTML(value='')))"
            ]
          },
          "metadata": {
            "tags": []
          }
        },
        {
          "output_type": "stream",
          "text": [
            "\rShuffling and writing examples to /root/tensorflow_datasets/imdb_reviews/plain_text/1.0.0.incompletePJXGIZ/imdb_reviews-train.tfrecord\n"
          ],
          "name": "stdout"
        },
        {
          "output_type": "display_data",
          "data": {
            "application/vnd.jupyter.widget-view+json": {
              "model_id": "80488b63ff984d7fa129ad152811dbb3",
              "version_minor": 0,
              "version_major": 2
            },
            "text/plain": [
              "HBox(children=(FloatProgress(value=0.0, max=25000.0), HTML(value='')))"
            ]
          },
          "metadata": {
            "tags": []
          }
        },
        {
          "output_type": "stream",
          "text": [
            "\r"
          ],
          "name": "stdout"
        },
        {
          "output_type": "display_data",
          "data": {
            "application/vnd.jupyter.widget-view+json": {
              "model_id": "80a8caa2560c4d5f95897122ee4c038a",
              "version_minor": 0,
              "version_major": 2
            },
            "text/plain": [
              "HBox(children=(FloatProgress(value=1.0, bar_style='info', max=1.0), HTML(value='')))"
            ]
          },
          "metadata": {
            "tags": []
          }
        },
        {
          "output_type": "stream",
          "text": [
            "\rShuffling and writing examples to /root/tensorflow_datasets/imdb_reviews/plain_text/1.0.0.incompletePJXGIZ/imdb_reviews-test.tfrecord\n"
          ],
          "name": "stdout"
        },
        {
          "output_type": "display_data",
          "data": {
            "application/vnd.jupyter.widget-view+json": {
              "model_id": "c0319282d0364be5a82cc26ca28a900a",
              "version_minor": 0,
              "version_major": 2
            },
            "text/plain": [
              "HBox(children=(FloatProgress(value=0.0, max=25000.0), HTML(value='')))"
            ]
          },
          "metadata": {
            "tags": []
          }
        },
        {
          "output_type": "stream",
          "text": [
            "\r"
          ],
          "name": "stdout"
        },
        {
          "output_type": "display_data",
          "data": {
            "application/vnd.jupyter.widget-view+json": {
              "model_id": "d70cec1ab88f47809e5e2332235dd654",
              "version_minor": 0,
              "version_major": 2
            },
            "text/plain": [
              "HBox(children=(FloatProgress(value=1.0, bar_style='info', max=1.0), HTML(value='')))"
            ]
          },
          "metadata": {
            "tags": []
          }
        },
        {
          "output_type": "stream",
          "text": [
            "\rShuffling and writing examples to /root/tensorflow_datasets/imdb_reviews/plain_text/1.0.0.incompletePJXGIZ/imdb_reviews-unsupervised.tfrecord\n"
          ],
          "name": "stdout"
        },
        {
          "output_type": "display_data",
          "data": {
            "application/vnd.jupyter.widget-view+json": {
              "model_id": "1c4b22b099f34789bd3c54829aa8fd29",
              "version_minor": 0,
              "version_major": 2
            },
            "text/plain": [
              "HBox(children=(FloatProgress(value=0.0, max=50000.0), HTML(value='')))"
            ]
          },
          "metadata": {
            "tags": []
          }
        },
        {
          "output_type": "stream",
          "text": [
            "\u001b[1mDataset imdb_reviews downloaded and prepared to /root/tensorflow_datasets/imdb_reviews/plain_text/1.0.0. Subsequent calls will reuse this data.\u001b[0m\n",
            "\r"
          ],
          "name": "stdout"
        }
      ]
    },
    {
      "cell_type": "code",
      "metadata": {
        "id": "wHQ2Ko0zl7M4"
      },
      "source": [
        "import numpy as np\n",
        "\n",
        "train_data, test_data = imdb['train'], imdb['test']\n",
        "\n",
        "training_sentences = []\n",
        "training_labels = []\n",
        "\n",
        "testing_sentences = []\n",
        "testing_labels = []\n",
        "\n",
        "# str(s.tonumpy()) is needed in Python3 instead of just s.numpy()\n",
        "for s,l in train_data:\n",
        "  training_sentences.append(str(s.numpy()))\n",
        "  training_labels.append(l.numpy())\n",
        "  \n",
        "for s,l in test_data:\n",
        "  testing_sentences.append(str(s.numpy()))\n",
        "  testing_labels.append(l.numpy())\n",
        "  \n",
        "training_labels_final = np.array(training_labels)\n",
        "testing_labels_final = np.array(testing_labels)\n"
      ],
      "execution_count": 3,
      "outputs": []
    },
    {
      "cell_type": "code",
      "metadata": {
        "id": "7n15yyMdmoH1"
      },
      "source": [
        "vocab_size = 10000\n",
        "embedding_dim = 16\n",
        "max_length = 120\n",
        "trunc_type='post'\n",
        "oov_tok = \"<OOV>\"\n",
        "\n",
        "\n",
        "from tensorflow.keras.preprocessing.text import Tokenizer\n",
        "from tensorflow.keras.preprocessing.sequence import pad_sequences\n",
        "\n",
        "tokenizer = Tokenizer(num_words = vocab_size, oov_token=oov_tok)\n",
        "tokenizer.fit_on_texts(training_sentences)\n",
        "word_index = tokenizer.word_index\n",
        "sequences = tokenizer.texts_to_sequences(training_sentences)\n",
        "padded = pad_sequences(sequences,maxlen=max_length, truncating=trunc_type)\n",
        "\n",
        "testing_sequences = tokenizer.texts_to_sequences(testing_sentences)\n",
        "testing_padded = pad_sequences(testing_sequences,maxlen=max_length)\n"
      ],
      "execution_count": 4,
      "outputs": []
    },
    {
      "cell_type": "code",
      "metadata": {
        "id": "9axf0uIXVMhO",
        "outputId": "58658342-d4ae-4ac9-c17d-0d4c9209f89a",
        "colab": {
          "base_uri": "https://localhost:8080/",
          "height": 71
        }
      },
      "source": [
        "reverse_word_index = dict([(value, key) for (key, value) in word_index.items()])\n",
        "\n",
        "def decode_review(text):\n",
        "    return ' '.join([reverse_word_index.get(i, '?') for i in text])\n",
        "\n",
        "print(decode_review(padded[1]))\n",
        "print(training_sentences[1])"
      ],
      "execution_count": 5,
      "outputs": [
        {
          "output_type": "stream",
          "text": [
            "? ? ? ? ? ? ? b'i have been known to fall asleep during films but this is usually due to a combination of things including really tired being warm and comfortable on the <OOV> and having just eaten a lot however on this occasion i fell asleep because the film was rubbish the plot development was constant constantly slow and boring things seemed to happen but with no explanation of what was causing them or why i admit i may have missed part of the film but i watched the majority of it and everything just seemed to happen of its own <OOV> without any real concern for anything else i cant recommend this film at all '\n",
            "b'I have been known to fall asleep during films, but this is usually due to a combination of things including, really tired, being warm and comfortable on the sette and having just eaten a lot. However on this occasion I fell asleep because the film was rubbish. The plot development was constant. Constantly slow and boring. Things seemed to happen, but with no explanation of what was causing them or why. I admit, I may have missed part of the film, but i watched the majority of it and everything just seemed to happen of its own accord without any real concern for anything else. I cant recommend this film at all.'\n"
          ],
          "name": "stdout"
        }
      ]
    },
    {
      "cell_type": "code",
      "metadata": {
        "id": "5NEpdhb8AxID",
        "outputId": "cdd6f56a-fb8e-4152-a828-3c74d7e14f59",
        "colab": {
          "base_uri": "https://localhost:8080/",
          "height": 289
        }
      },
      "source": [
        "model = tf.keras.Sequential([\n",
        "    tf.keras.layers.Embedding(vocab_size, embedding_dim, input_length=max_length),\n",
        "    tf.keras.layers.Bidirectional(tf.keras.layers.GRU(32)),\n",
        "    tf.keras.layers.Dense(6, activation='relu'),\n",
        "    tf.keras.layers.Dense(1, activation='sigmoid')\n",
        "])\n",
        "model.compile(loss='binary_crossentropy',optimizer='adam',metrics=['accuracy'])\n",
        "model.summary()\n"
      ],
      "execution_count": 6,
      "outputs": [
        {
          "output_type": "stream",
          "text": [
            "Model: \"sequential\"\n",
            "_________________________________________________________________\n",
            "Layer (type)                 Output Shape              Param #   \n",
            "=================================================================\n",
            "embedding (Embedding)        (None, 120, 16)           160000    \n",
            "_________________________________________________________________\n",
            "bidirectional (Bidirectional (None, 64)                9600      \n",
            "_________________________________________________________________\n",
            "dense (Dense)                (None, 6)                 390       \n",
            "_________________________________________________________________\n",
            "dense_1 (Dense)              (None, 1)                 7         \n",
            "=================================================================\n",
            "Total params: 169,997\n",
            "Trainable params: 169,997\n",
            "Non-trainable params: 0\n",
            "_________________________________________________________________\n"
          ],
          "name": "stdout"
        }
      ]
    },
    {
      "cell_type": "code",
      "metadata": {
        "id": "V5LLrXC-uNX6",
        "outputId": "2658264c-e60e-4aaa-98f5-2f8c43b0a663",
        "colab": {
          "base_uri": "https://localhost:8080/",
          "height": 1000
        }
      },
      "source": [
        "num_epochs = 50\n",
        "history = model.fit(padded, training_labels_final, epochs=num_epochs, validation_data=(testing_padded, testing_labels_final))"
      ],
      "execution_count": 7,
      "outputs": [
        {
          "output_type": "stream",
          "text": [
            "Epoch 1/50\n",
            "782/782 [==============================] - 13s 17ms/step - loss: 0.6646 - accuracy: 0.5637 - val_loss: 0.6250 - val_accuracy: 0.5161\n",
            "Epoch 2/50\n",
            "782/782 [==============================] - 13s 17ms/step - loss: 0.5289 - accuracy: 0.7630 - val_loss: 0.4396 - val_accuracy: 0.8125\n",
            "Epoch 3/50\n",
            "782/782 [==============================] - 13s 16ms/step - loss: 0.3380 - accuracy: 0.8624 - val_loss: 0.3863 - val_accuracy: 0.8307\n",
            "Epoch 4/50\n",
            "782/782 [==============================] - 13s 16ms/step - loss: 0.2630 - accuracy: 0.8994 - val_loss: 0.3752 - val_accuracy: 0.8360\n",
            "Epoch 5/50\n",
            "782/782 [==============================] - 13s 16ms/step - loss: 0.2199 - accuracy: 0.9211 - val_loss: 0.3907 - val_accuracy: 0.8312\n",
            "Epoch 6/50\n",
            "782/782 [==============================] - 13s 16ms/step - loss: 0.1806 - accuracy: 0.9371 - val_loss: 0.4479 - val_accuracy: 0.8332\n",
            "Epoch 7/50\n",
            "782/782 [==============================] - 13s 17ms/step - loss: 0.1324 - accuracy: 0.9581 - val_loss: 0.4711 - val_accuracy: 0.8246\n",
            "Epoch 8/50\n",
            "782/782 [==============================] - 13s 16ms/step - loss: 0.0945 - accuracy: 0.9722 - val_loss: 0.5920 - val_accuracy: 0.8258\n",
            "Epoch 9/50\n",
            "782/782 [==============================] - 13s 16ms/step - loss: 0.0699 - accuracy: 0.9801 - val_loss: 0.6530 - val_accuracy: 0.8223\n",
            "Epoch 10/50\n",
            "782/782 [==============================] - 13s 16ms/step - loss: 0.0545 - accuracy: 0.9852 - val_loss: 0.7493 - val_accuracy: 0.8180\n",
            "Epoch 11/50\n",
            "782/782 [==============================] - 13s 16ms/step - loss: 0.0416 - accuracy: 0.9895 - val_loss: 0.7510 - val_accuracy: 0.8134\n",
            "Epoch 12/50\n",
            "782/782 [==============================] - 13s 16ms/step - loss: 0.0374 - accuracy: 0.9895 - val_loss: 0.7686 - val_accuracy: 0.8211\n",
            "Epoch 13/50\n",
            "782/782 [==============================] - 13s 16ms/step - loss: 0.0305 - accuracy: 0.9914 - val_loss: 0.9517 - val_accuracy: 0.8172\n",
            "Epoch 14/50\n",
            "782/782 [==============================] - 13s 16ms/step - loss: 0.0262 - accuracy: 0.9926 - val_loss: 0.9079 - val_accuracy: 0.8158\n",
            "Epoch 15/50\n",
            "782/782 [==============================] - 13s 16ms/step - loss: 0.0216 - accuracy: 0.9943 - val_loss: 0.9765 - val_accuracy: 0.8189\n",
            "Epoch 16/50\n",
            "782/782 [==============================] - 13s 16ms/step - loss: 0.0165 - accuracy: 0.9955 - val_loss: 0.9749 - val_accuracy: 0.8165\n",
            "Epoch 17/50\n",
            "782/782 [==============================] - 13s 17ms/step - loss: 0.0132 - accuracy: 0.9965 - val_loss: 1.0210 - val_accuracy: 0.8126\n",
            "Epoch 18/50\n",
            "782/782 [==============================] - 13s 16ms/step - loss: 0.0102 - accuracy: 0.9970 - val_loss: 1.1739 - val_accuracy: 0.8092\n",
            "Epoch 19/50\n",
            "782/782 [==============================] - 13s 16ms/step - loss: 0.0138 - accuracy: 0.9954 - val_loss: 1.1823 - val_accuracy: 0.8138\n",
            "Epoch 20/50\n",
            "782/782 [==============================] - 13s 16ms/step - loss: 0.0062 - accuracy: 0.9984 - val_loss: 1.2586 - val_accuracy: 0.8128\n",
            "Epoch 21/50\n",
            "782/782 [==============================] - 13s 16ms/step - loss: 0.0079 - accuracy: 0.9977 - val_loss: 1.2845 - val_accuracy: 0.8096\n",
            "Epoch 22/50\n",
            "782/782 [==============================] - 13s 16ms/step - loss: 0.0091 - accuracy: 0.9972 - val_loss: 1.1515 - val_accuracy: 0.7960\n",
            "Epoch 23/50\n",
            "782/782 [==============================] - 13s 16ms/step - loss: 0.0082 - accuracy: 0.9972 - val_loss: 1.3145 - val_accuracy: 0.8112\n",
            "Epoch 24/50\n",
            "782/782 [==============================] - 13s 16ms/step - loss: 0.0059 - accuracy: 0.9980 - val_loss: 1.2475 - val_accuracy: 0.8048\n",
            "Epoch 25/50\n",
            "782/782 [==============================] - 13s 16ms/step - loss: 0.0036 - accuracy: 0.9989 - val_loss: 1.2975 - val_accuracy: 0.7976\n",
            "Epoch 26/50\n",
            "782/782 [==============================] - 13s 17ms/step - loss: 0.0070 - accuracy: 0.9975 - val_loss: 1.3354 - val_accuracy: 0.8020\n",
            "Epoch 27/50\n",
            "782/782 [==============================] - 13s 16ms/step - loss: 0.0047 - accuracy: 0.9984 - val_loss: 1.3564 - val_accuracy: 0.8078\n",
            "Epoch 28/50\n",
            "782/782 [==============================] - 13s 16ms/step - loss: 0.0023 - accuracy: 0.9994 - val_loss: 1.4724 - val_accuracy: 0.8100\n",
            "Epoch 29/50\n",
            "782/782 [==============================] - 13s 16ms/step - loss: 1.2931e-04 - accuracy: 1.0000 - val_loss: 1.5895 - val_accuracy: 0.8114\n",
            "Epoch 30/50\n",
            "782/782 [==============================] - 13s 16ms/step - loss: 4.7969e-05 - accuracy: 1.0000 - val_loss: 1.6500 - val_accuracy: 0.8106\n",
            "Epoch 31/50\n",
            "782/782 [==============================] - 13s 16ms/step - loss: 2.5382e-05 - accuracy: 1.0000 - val_loss: 1.7345 - val_accuracy: 0.8106\n",
            "Epoch 32/50\n",
            "782/782 [==============================] - 13s 16ms/step - loss: 1.5751e-05 - accuracy: 1.0000 - val_loss: 1.8103 - val_accuracy: 0.8108\n",
            "Epoch 33/50\n",
            "782/782 [==============================] - 13s 16ms/step - loss: 9.9954e-06 - accuracy: 1.0000 - val_loss: 1.8832 - val_accuracy: 0.8107\n",
            "Epoch 34/50\n",
            "782/782 [==============================] - 13s 16ms/step - loss: 6.3329e-06 - accuracy: 1.0000 - val_loss: 1.9574 - val_accuracy: 0.8109\n",
            "Epoch 35/50\n",
            "782/782 [==============================] - 13s 16ms/step - loss: 4.0253e-06 - accuracy: 1.0000 - val_loss: 2.0317 - val_accuracy: 0.8109\n",
            "Epoch 36/50\n",
            "782/782 [==============================] - 13s 16ms/step - loss: 2.5523e-06 - accuracy: 1.0000 - val_loss: 2.1067 - val_accuracy: 0.8108\n",
            "Epoch 37/50\n",
            "782/782 [==============================] - 13s 16ms/step - loss: 1.6104e-06 - accuracy: 1.0000 - val_loss: 2.1843 - val_accuracy: 0.8105\n",
            "Epoch 38/50\n",
            "782/782 [==============================] - 13s 16ms/step - loss: 1.0139e-06 - accuracy: 1.0000 - val_loss: 2.2585 - val_accuracy: 0.8104\n",
            "Epoch 39/50\n",
            "782/782 [==============================] - 13s 16ms/step - loss: 6.3519e-07 - accuracy: 1.0000 - val_loss: 2.3393 - val_accuracy: 0.8103\n",
            "Epoch 40/50\n",
            "782/782 [==============================] - 13s 16ms/step - loss: 4.0215e-07 - accuracy: 1.0000 - val_loss: 2.4116 - val_accuracy: 0.8102\n",
            "Epoch 41/50\n",
            "782/782 [==============================] - 13s 17ms/step - loss: 2.5592e-07 - accuracy: 1.0000 - val_loss: 2.4890 - val_accuracy: 0.8097\n",
            "Epoch 42/50\n",
            "782/782 [==============================] - 13s 16ms/step - loss: 1.6559e-07 - accuracy: 1.0000 - val_loss: 2.5583 - val_accuracy: 0.8095\n",
            "Epoch 43/50\n",
            "782/782 [==============================] - 13s 16ms/step - loss: 1.0821e-07 - accuracy: 1.0000 - val_loss: 2.6278 - val_accuracy: 0.8095\n",
            "Epoch 44/50\n",
            "782/782 [==============================] - 13s 16ms/step - loss: 7.1443e-08 - accuracy: 1.0000 - val_loss: 2.6986 - val_accuracy: 0.8095\n",
            "Epoch 45/50\n",
            "782/782 [==============================] - 13s 16ms/step - loss: 4.7716e-08 - accuracy: 1.0000 - val_loss: 2.7672 - val_accuracy: 0.8095\n",
            "Epoch 46/50\n",
            "782/782 [==============================] - 13s 16ms/step - loss: 3.2237e-08 - accuracy: 1.0000 - val_loss: 2.8277 - val_accuracy: 0.8093\n",
            "Epoch 47/50\n",
            "782/782 [==============================] - 13s 16ms/step - loss: 2.2113e-08 - accuracy: 1.0000 - val_loss: 2.8937 - val_accuracy: 0.8090\n",
            "Epoch 48/50\n",
            "782/782 [==============================] - 13s 16ms/step - loss: 1.5239e-08 - accuracy: 1.0000 - val_loss: 2.9489 - val_accuracy: 0.8089\n",
            "Epoch 49/50\n",
            "782/782 [==============================] - 13s 17ms/step - loss: 1.0642e-08 - accuracy: 1.0000 - val_loss: 3.0155 - val_accuracy: 0.8093\n",
            "Epoch 50/50\n",
            "782/782 [==============================] - 13s 16ms/step - loss: 7.5357e-09 - accuracy: 1.0000 - val_loss: 3.0705 - val_accuracy: 0.8095\n"
          ],
          "name": "stdout"
        }
      ]
    },
    {
      "cell_type": "code",
      "metadata": {
        "id": "wSualgGPPK0S",
        "outputId": "ec47a357-2ab2-4c4e-9043-8747b34ed789",
        "colab": {
          "base_uri": "https://localhost:8080/",
          "height": 289
        }
      },
      "source": [
        "# Model Definition with LSTM\n",
        "model = tf.keras.Sequential([\n",
        "    tf.keras.layers.Embedding(vocab_size, embedding_dim, input_length=max_length),\n",
        "    tf.keras.layers.Bidirectional(tf.keras.layers.LSTM(32)),\n",
        "    tf.keras.layers.Dense(6, activation='relu'),\n",
        "    tf.keras.layers.Dense(1, activation='sigmoid')\n",
        "])\n",
        "model.compile(loss='binary_crossentropy',optimizer='adam',metrics=['accuracy'])\n",
        "model.summary()\n"
      ],
      "execution_count": 13,
      "outputs": [
        {
          "output_type": "stream",
          "text": [
            "Model: \"sequential_3\"\n",
            "_________________________________________________________________\n",
            "Layer (type)                 Output Shape              Param #   \n",
            "=================================================================\n",
            "embedding_3 (Embedding)      (None, 120, 16)           160000    \n",
            "_________________________________________________________________\n",
            "bidirectional_2 (Bidirection (None, 64)                12544     \n",
            "_________________________________________________________________\n",
            "dense_6 (Dense)              (None, 6)                 390       \n",
            "_________________________________________________________________\n",
            "dense_7 (Dense)              (None, 1)                 7         \n",
            "=================================================================\n",
            "Total params: 172,941\n",
            "Trainable params: 172,941\n",
            "Non-trainable params: 0\n",
            "_________________________________________________________________\n"
          ],
          "name": "stdout"
        }
      ]
    },
    {
      "cell_type": "code",
      "metadata": {
        "id": "i5aibNenZV_u",
        "outputId": "b09409f1-c9e6-41a0-c72e-b43db3f47cb7",
        "colab": {
          "base_uri": "https://localhost:8080/",
          "height": 1000
        }
      },
      "source": [
        "num_epochs = 50\n",
        "history1 = model.fit(padded, training_labels_final, epochs=num_epochs, validation_data=(testing_padded, testing_labels_final))"
      ],
      "execution_count": 14,
      "outputs": [
        {
          "output_type": "stream",
          "text": [
            "Epoch 1/50\n",
            "782/782 [==============================] - 14s 18ms/step - loss: 0.5407 - accuracy: 0.7208 - val_loss: 0.4091 - val_accuracy: 0.8148\n",
            "Epoch 2/50\n",
            "782/782 [==============================] - 14s 17ms/step - loss: 0.3309 - accuracy: 0.8631 - val_loss: 0.3612 - val_accuracy: 0.8399\n",
            "Epoch 3/50\n",
            "782/782 [==============================] - 14s 17ms/step - loss: 0.2610 - accuracy: 0.8990 - val_loss: 0.3638 - val_accuracy: 0.8399\n",
            "Epoch 4/50\n",
            "782/782 [==============================] - 13s 17ms/step - loss: 0.2193 - accuracy: 0.9174 - val_loss: 0.3925 - val_accuracy: 0.8388\n",
            "Epoch 5/50\n",
            "782/782 [==============================] - 14s 17ms/step - loss: 0.1817 - accuracy: 0.9340 - val_loss: 0.4811 - val_accuracy: 0.8181\n",
            "Epoch 6/50\n",
            "782/782 [==============================] - 14s 17ms/step - loss: 0.1443 - accuracy: 0.9507 - val_loss: 0.4640 - val_accuracy: 0.8189\n",
            "Epoch 7/50\n",
            "782/782 [==============================] - 14s 18ms/step - loss: 0.1094 - accuracy: 0.9629 - val_loss: 0.5143 - val_accuracy: 0.8152\n",
            "Epoch 8/50\n",
            "782/782 [==============================] - 14s 18ms/step - loss: 0.0809 - accuracy: 0.9735 - val_loss: 0.6182 - val_accuracy: 0.8198\n",
            "Epoch 9/50\n",
            "782/782 [==============================] - 14s 17ms/step - loss: 0.0659 - accuracy: 0.9781 - val_loss: 0.7214 - val_accuracy: 0.8130\n",
            "Epoch 10/50\n",
            "782/782 [==============================] - 14s 17ms/step - loss: 0.0519 - accuracy: 0.9835 - val_loss: 0.7514 - val_accuracy: 0.8142\n",
            "Epoch 11/50\n",
            "782/782 [==============================] - 13s 17ms/step - loss: 0.0399 - accuracy: 0.9879 - val_loss: 0.7730 - val_accuracy: 0.8156\n",
            "Epoch 12/50\n",
            "782/782 [==============================] - 14s 18ms/step - loss: 0.0335 - accuracy: 0.9894 - val_loss: 0.8290 - val_accuracy: 0.8162\n",
            "Epoch 13/50\n",
            "782/782 [==============================] - 14s 17ms/step - loss: 0.0252 - accuracy: 0.9922 - val_loss: 0.8734 - val_accuracy: 0.8167\n",
            "Epoch 14/50\n",
            "782/782 [==============================] - 14s 17ms/step - loss: 0.0195 - accuracy: 0.9938 - val_loss: 1.0510 - val_accuracy: 0.8169\n",
            "Epoch 15/50\n",
            "782/782 [==============================] - 14s 17ms/step - loss: 0.0240 - accuracy: 0.9917 - val_loss: 0.9896 - val_accuracy: 0.8140\n",
            "Epoch 16/50\n",
            "782/782 [==============================] - 14s 18ms/step - loss: 0.0206 - accuracy: 0.9930 - val_loss: 1.0359 - val_accuracy: 0.8105\n",
            "Epoch 17/50\n",
            "782/782 [==============================] - 14s 18ms/step - loss: 0.0170 - accuracy: 0.9943 - val_loss: 1.0638 - val_accuracy: 0.8134\n",
            "Epoch 18/50\n",
            "782/782 [==============================] - 14s 18ms/step - loss: 0.0128 - accuracy: 0.9963 - val_loss: 1.0860 - val_accuracy: 0.8110\n",
            "Epoch 19/50\n",
            "782/782 [==============================] - 14s 18ms/step - loss: 0.0114 - accuracy: 0.9968 - val_loss: 1.1710 - val_accuracy: 0.8138\n",
            "Epoch 20/50\n",
            "782/782 [==============================] - 14s 17ms/step - loss: 0.0126 - accuracy: 0.9962 - val_loss: 1.3177 - val_accuracy: 0.8035\n",
            "Epoch 21/50\n",
            "782/782 [==============================] - 14s 17ms/step - loss: 0.0084 - accuracy: 0.9975 - val_loss: 1.1975 - val_accuracy: 0.8165\n",
            "Epoch 22/50\n",
            "782/782 [==============================] - 14s 18ms/step - loss: 0.0161 - accuracy: 0.9950 - val_loss: 1.0711 - val_accuracy: 0.8133\n",
            "Epoch 23/50\n",
            "782/782 [==============================] - 14s 18ms/step - loss: 0.0045 - accuracy: 0.9988 - val_loss: 1.2370 - val_accuracy: 0.8115\n",
            "Epoch 24/50\n",
            "782/782 [==============================] - 14s 18ms/step - loss: 0.0153 - accuracy: 0.9950 - val_loss: 1.1541 - val_accuracy: 0.8145\n",
            "Epoch 25/50\n",
            "782/782 [==============================] - 14s 18ms/step - loss: 0.0042 - accuracy: 0.9988 - val_loss: 1.2716 - val_accuracy: 0.8113\n",
            "Epoch 26/50\n",
            "782/782 [==============================] - 14s 18ms/step - loss: 0.0067 - accuracy: 0.9979 - val_loss: 1.1819 - val_accuracy: 0.8069\n",
            "Epoch 27/50\n",
            "782/782 [==============================] - 14s 17ms/step - loss: 0.0078 - accuracy: 0.9973 - val_loss: 1.2325 - val_accuracy: 0.8047\n",
            "Epoch 28/50\n",
            "782/782 [==============================] - 14s 18ms/step - loss: 0.0086 - accuracy: 0.9973 - val_loss: 1.2837 - val_accuracy: 0.8094\n",
            "Epoch 29/50\n",
            "782/782 [==============================] - 14s 17ms/step - loss: 0.0078 - accuracy: 0.9974 - val_loss: 1.2352 - val_accuracy: 0.8073\n",
            "Epoch 30/50\n",
            "782/782 [==============================] - 14s 17ms/step - loss: 0.0017 - accuracy: 0.9997 - val_loss: 1.3732 - val_accuracy: 0.8133\n",
            "Epoch 31/50\n",
            "782/782 [==============================] - 14s 17ms/step - loss: 1.6420e-04 - accuracy: 1.0000 - val_loss: 1.5014 - val_accuracy: 0.8163\n",
            "Epoch 32/50\n",
            "782/782 [==============================] - 14s 17ms/step - loss: 5.7780e-05 - accuracy: 1.0000 - val_loss: 1.5840 - val_accuracy: 0.8168\n",
            "Epoch 33/50\n",
            "782/782 [==============================] - 14s 17ms/step - loss: 3.4883e-05 - accuracy: 1.0000 - val_loss: 1.6706 - val_accuracy: 0.8165\n",
            "Epoch 34/50\n",
            "782/782 [==============================] - 13s 17ms/step - loss: 2.2561e-05 - accuracy: 1.0000 - val_loss: 1.7442 - val_accuracy: 0.8163\n",
            "Epoch 35/50\n",
            "782/782 [==============================] - 13s 17ms/step - loss: 1.4905e-05 - accuracy: 1.0000 - val_loss: 1.8243 - val_accuracy: 0.8156\n",
            "Epoch 36/50\n",
            "782/782 [==============================] - 14s 17ms/step - loss: 9.6031e-06 - accuracy: 1.0000 - val_loss: 1.9096 - val_accuracy: 0.8150\n",
            "Epoch 37/50\n",
            "782/782 [==============================] - 14s 17ms/step - loss: 6.2363e-06 - accuracy: 1.0000 - val_loss: 1.9879 - val_accuracy: 0.8144\n",
            "Epoch 38/50\n",
            "782/782 [==============================] - 13s 17ms/step - loss: 3.9525e-06 - accuracy: 1.0000 - val_loss: 2.0806 - val_accuracy: 0.8140\n",
            "Epoch 39/50\n",
            "782/782 [==============================] - 14s 18ms/step - loss: 2.4989e-06 - accuracy: 1.0000 - val_loss: 2.1644 - val_accuracy: 0.8137\n",
            "Epoch 40/50\n",
            "782/782 [==============================] - 14s 17ms/step - loss: 1.5555e-06 - accuracy: 1.0000 - val_loss: 2.2577 - val_accuracy: 0.8134\n",
            "Epoch 41/50\n",
            "782/782 [==============================] - 14s 17ms/step - loss: 9.6107e-07 - accuracy: 1.0000 - val_loss: 2.3529 - val_accuracy: 0.8130\n",
            "Epoch 42/50\n",
            "782/782 [==============================] - 14s 18ms/step - loss: 6.0100e-07 - accuracy: 1.0000 - val_loss: 2.4559 - val_accuracy: 0.8121\n",
            "Epoch 43/50\n",
            "782/782 [==============================] - 14s 18ms/step - loss: 3.7376e-07 - accuracy: 1.0000 - val_loss: 2.5533 - val_accuracy: 0.8117\n",
            "Epoch 44/50\n",
            "782/782 [==============================] - 14s 18ms/step - loss: 2.3562e-07 - accuracy: 1.0000 - val_loss: 2.6181 - val_accuracy: 0.8120\n",
            "Epoch 45/50\n",
            "782/782 [==============================] - 14s 18ms/step - loss: 1.4406e-07 - accuracy: 1.0000 - val_loss: 2.7104 - val_accuracy: 0.8113\n",
            "Epoch 46/50\n",
            "782/782 [==============================] - 14s 18ms/step - loss: 8.7162e-08 - accuracy: 1.0000 - val_loss: 2.8190 - val_accuracy: 0.8112\n",
            "Epoch 47/50\n",
            "782/782 [==============================] - 14s 18ms/step - loss: 5.4232e-08 - accuracy: 1.0000 - val_loss: 2.9288 - val_accuracy: 0.8110\n",
            "Epoch 48/50\n",
            "782/782 [==============================] - 14s 18ms/step - loss: 3.3698e-08 - accuracy: 1.0000 - val_loss: 2.9956 - val_accuracy: 0.8111\n",
            "Epoch 49/50\n",
            "782/782 [==============================] - 14s 18ms/step - loss: 2.1441e-08 - accuracy: 1.0000 - val_loss: 3.0640 - val_accuracy: 0.8108\n",
            "Epoch 50/50\n",
            "782/782 [==============================] - 14s 18ms/step - loss: 1.3782e-08 - accuracy: 1.0000 - val_loss: 3.1617 - val_accuracy: 0.8110\n"
          ],
          "name": "stdout"
        }
      ]
    },
    {
      "cell_type": "code",
      "metadata": {
        "id": "K_Jc7cY3Qxke",
        "outputId": "d2cef573-a21f-4d6f-a293-10e9f405d535",
        "colab": {
          "base_uri": "https://localhost:8080/",
          "height": 323
        }
      },
      "source": [
        "# Model Definition with Conv1D\n",
        "model = tf.keras.Sequential([\n",
        "    tf.keras.layers.Embedding(vocab_size, embedding_dim, input_length=max_length),\n",
        "    tf.keras.layers.Conv1D(128, 5, activation='relu'),\n",
        "    tf.keras.layers.GlobalAveragePooling1D(),\n",
        "    tf.keras.layers.Dense(6, activation='relu'),\n",
        "    tf.keras.layers.Dense(1, activation='sigmoid')\n",
        "])\n",
        "model.compile(loss='binary_crossentropy',optimizer='adam',metrics=['accuracy'])\n",
        "model.summary()\n"
      ],
      "execution_count": 10,
      "outputs": [
        {
          "output_type": "stream",
          "text": [
            "Model: \"sequential_2\"\n",
            "_________________________________________________________________\n",
            "Layer (type)                 Output Shape              Param #   \n",
            "=================================================================\n",
            "embedding_2 (Embedding)      (None, 120, 16)           160000    \n",
            "_________________________________________________________________\n",
            "conv1d (Conv1D)              (None, 116, 128)          10368     \n",
            "_________________________________________________________________\n",
            "global_average_pooling1d (Gl (None, 128)               0         \n",
            "_________________________________________________________________\n",
            "dense_4 (Dense)              (None, 6)                 774       \n",
            "_________________________________________________________________\n",
            "dense_5 (Dense)              (None, 1)                 7         \n",
            "=================================================================\n",
            "Total params: 171,149\n",
            "Trainable params: 171,149\n",
            "Non-trainable params: 0\n",
            "_________________________________________________________________\n"
          ],
          "name": "stdout"
        }
      ]
    },
    {
      "cell_type": "code",
      "metadata": {
        "id": "t41N3yJVVKlw",
        "outputId": "634539b4-f5f8-4e61-9cca-efb71207dc1c",
        "colab": {
          "base_uri": "https://localhost:8080/",
          "height": 1000
        }
      },
      "source": [
        "num_epochs = 50\n",
        "history2 = model.fit(padded, training_labels_final, epochs=num_epochs, validation_data=(testing_padded, testing_labels_final))"
      ],
      "execution_count": 11,
      "outputs": [
        {
          "output_type": "stream",
          "text": [
            "Epoch 1/50\n",
            "782/782 [==============================] - 5s 7ms/step - loss: 0.4489 - accuracy: 0.7799 - val_loss: 0.3463 - val_accuracy: 0.8522\n",
            "Epoch 2/50\n",
            "782/782 [==============================] - 5s 6ms/step - loss: 0.2796 - accuracy: 0.8852 - val_loss: 0.3678 - val_accuracy: 0.8391\n",
            "Epoch 3/50\n",
            "782/782 [==============================] - 5s 6ms/step - loss: 0.2269 - accuracy: 0.9124 - val_loss: 0.3872 - val_accuracy: 0.8372\n",
            "Epoch 4/50\n",
            "782/782 [==============================] - 5s 6ms/step - loss: 0.1894 - accuracy: 0.9297 - val_loss: 0.4203 - val_accuracy: 0.8325\n",
            "Epoch 5/50\n",
            "782/782 [==============================] - 5s 6ms/step - loss: 0.1542 - accuracy: 0.9462 - val_loss: 0.4757 - val_accuracy: 0.8253\n",
            "Epoch 6/50\n",
            "782/782 [==============================] - 5s 6ms/step - loss: 0.1255 - accuracy: 0.9583 - val_loss: 0.5392 - val_accuracy: 0.8174\n",
            "Epoch 7/50\n",
            "782/782 [==============================] - 5s 6ms/step - loss: 0.0991 - accuracy: 0.9686 - val_loss: 0.6399 - val_accuracy: 0.8178\n",
            "Epoch 8/50\n",
            "782/782 [==============================] - 5s 6ms/step - loss: 0.0769 - accuracy: 0.9774 - val_loss: 0.7337 - val_accuracy: 0.8123\n",
            "Epoch 9/50\n",
            "782/782 [==============================] - 5s 6ms/step - loss: 0.0618 - accuracy: 0.9829 - val_loss: 0.9845 - val_accuracy: 0.8009\n",
            "Epoch 10/50\n",
            "782/782 [==============================] - 5s 6ms/step - loss: 0.0485 - accuracy: 0.9873 - val_loss: 0.9621 - val_accuracy: 0.8075\n",
            "Epoch 11/50\n",
            "782/782 [==============================] - 5s 6ms/step - loss: 0.0423 - accuracy: 0.9886 - val_loss: 1.0132 - val_accuracy: 0.8032\n",
            "Epoch 12/50\n",
            "782/782 [==============================] - 5s 6ms/step - loss: 0.0416 - accuracy: 0.9876 - val_loss: 1.1065 - val_accuracy: 0.8078\n",
            "Epoch 13/50\n",
            "782/782 [==============================] - 5s 6ms/step - loss: 0.0363 - accuracy: 0.9897 - val_loss: 1.1483 - val_accuracy: 0.8080\n",
            "Epoch 14/50\n",
            "782/782 [==============================] - 5s 6ms/step - loss: 0.0310 - accuracy: 0.9914 - val_loss: 1.2118 - val_accuracy: 0.8072\n",
            "Epoch 15/50\n",
            "782/782 [==============================] - 5s 6ms/step - loss: 0.0300 - accuracy: 0.9918 - val_loss: 1.2864 - val_accuracy: 0.8032\n",
            "Epoch 16/50\n",
            "782/782 [==============================] - 5s 6ms/step - loss: 0.0273 - accuracy: 0.9924 - val_loss: 1.2333 - val_accuracy: 0.8022\n",
            "Epoch 17/50\n",
            "782/782 [==============================] - 5s 6ms/step - loss: 0.0231 - accuracy: 0.9940 - val_loss: 1.5566 - val_accuracy: 0.8004\n",
            "Epoch 18/50\n",
            "782/782 [==============================] - 5s 6ms/step - loss: 0.0204 - accuracy: 0.9944 - val_loss: 1.6214 - val_accuracy: 0.8009\n",
            "Epoch 19/50\n",
            "782/782 [==============================] - 5s 6ms/step - loss: 0.0206 - accuracy: 0.9940 - val_loss: 1.4436 - val_accuracy: 0.8018\n",
            "Epoch 20/50\n",
            "782/782 [==============================] - 5s 6ms/step - loss: 0.0229 - accuracy: 0.9932 - val_loss: 1.5078 - val_accuracy: 0.8040\n",
            "Epoch 21/50\n",
            "782/782 [==============================] - 5s 6ms/step - loss: 0.0226 - accuracy: 0.9933 - val_loss: 1.5246 - val_accuracy: 0.8032\n",
            "Epoch 22/50\n",
            "782/782 [==============================] - 5s 6ms/step - loss: 0.0162 - accuracy: 0.9958 - val_loss: 1.4976 - val_accuracy: 0.8032\n",
            "Epoch 23/50\n",
            "782/782 [==============================] - 5s 6ms/step - loss: 0.0138 - accuracy: 0.9961 - val_loss: 1.5452 - val_accuracy: 0.8022\n",
            "Epoch 24/50\n",
            "782/782 [==============================] - 5s 6ms/step - loss: 0.0169 - accuracy: 0.9952 - val_loss: 1.6660 - val_accuracy: 0.8034\n",
            "Epoch 25/50\n",
            "782/782 [==============================] - 5s 7ms/step - loss: 0.0143 - accuracy: 0.9960 - val_loss: 1.7085 - val_accuracy: 0.8021\n",
            "Epoch 26/50\n",
            "782/782 [==============================] - 5s 7ms/step - loss: 0.0115 - accuracy: 0.9967 - val_loss: 1.7501 - val_accuracy: 0.8014\n",
            "Epoch 27/50\n",
            "782/782 [==============================] - 5s 7ms/step - loss: 0.0101 - accuracy: 0.9976 - val_loss: 1.7813 - val_accuracy: 0.8013\n",
            "Epoch 28/50\n",
            "782/782 [==============================] - 5s 6ms/step - loss: 0.0079 - accuracy: 0.9980 - val_loss: 2.0379 - val_accuracy: 0.7980\n",
            "Epoch 29/50\n",
            "782/782 [==============================] - 5s 6ms/step - loss: 0.0092 - accuracy: 0.9970 - val_loss: 2.1744 - val_accuracy: 0.7963\n",
            "Epoch 30/50\n",
            "782/782 [==============================] - 5s 6ms/step - loss: 0.0101 - accuracy: 0.9968 - val_loss: 2.0129 - val_accuracy: 0.8017\n",
            "Epoch 31/50\n",
            "782/782 [==============================] - 5s 6ms/step - loss: 0.0087 - accuracy: 0.9970 - val_loss: 2.0651 - val_accuracy: 0.8001\n",
            "Epoch 32/50\n",
            "782/782 [==============================] - 5s 6ms/step - loss: 0.0080 - accuracy: 0.9978 - val_loss: 2.0340 - val_accuracy: 0.7986\n",
            "Epoch 33/50\n",
            "782/782 [==============================] - 5s 6ms/step - loss: 0.0056 - accuracy: 0.9986 - val_loss: 2.1426 - val_accuracy: 0.7994\n",
            "Epoch 34/50\n",
            "782/782 [==============================] - 5s 6ms/step - loss: 0.0046 - accuracy: 0.9989 - val_loss: 2.2207 - val_accuracy: 0.7948\n",
            "Epoch 35/50\n",
            "782/782 [==============================] - 5s 6ms/step - loss: 0.0057 - accuracy: 0.9983 - val_loss: 2.2099 - val_accuracy: 0.7974\n",
            "Epoch 36/50\n",
            "782/782 [==============================] - 5s 6ms/step - loss: 0.0074 - accuracy: 0.9976 - val_loss: 2.5176 - val_accuracy: 0.7922\n",
            "Epoch 37/50\n",
            "782/782 [==============================] - 5s 6ms/step - loss: 0.0104 - accuracy: 0.9969 - val_loss: 2.2158 - val_accuracy: 0.7982\n",
            "Epoch 38/50\n",
            "782/782 [==============================] - 5s 6ms/step - loss: 0.0069 - accuracy: 0.9978 - val_loss: 1.9259 - val_accuracy: 0.7972\n",
            "Epoch 39/50\n",
            "782/782 [==============================] - 5s 6ms/step - loss: 0.0049 - accuracy: 0.9985 - val_loss: 2.2030 - val_accuracy: 0.7983\n",
            "Epoch 40/50\n",
            "782/782 [==============================] - 5s 6ms/step - loss: 0.0028 - accuracy: 0.9993 - val_loss: 2.3151 - val_accuracy: 0.7961\n",
            "Epoch 41/50\n",
            "782/782 [==============================] - 5s 6ms/step - loss: 0.0021 - accuracy: 0.9994 - val_loss: 2.3445 - val_accuracy: 0.7962\n",
            "Epoch 42/50\n",
            "782/782 [==============================] - 5s 6ms/step - loss: 0.0028 - accuracy: 0.9991 - val_loss: 2.7479 - val_accuracy: 0.7906\n",
            "Epoch 43/50\n",
            "782/782 [==============================] - 5s 6ms/step - loss: 0.0100 - accuracy: 0.9968 - val_loss: 2.2910 - val_accuracy: 0.7957\n",
            "Epoch 44/50\n",
            "782/782 [==============================] - 5s 6ms/step - loss: 0.0092 - accuracy: 0.9964 - val_loss: 2.2532 - val_accuracy: 0.7982\n",
            "Epoch 45/50\n",
            "782/782 [==============================] - 5s 6ms/step - loss: 0.0031 - accuracy: 0.9990 - val_loss: 2.4293 - val_accuracy: 0.7991\n",
            "Epoch 46/50\n",
            "782/782 [==============================] - 5s 7ms/step - loss: 0.0020 - accuracy: 0.9994 - val_loss: 2.4305 - val_accuracy: 0.7975\n",
            "Epoch 47/50\n",
            "782/782 [==============================] - 5s 6ms/step - loss: 0.0012 - accuracy: 0.9996 - val_loss: 2.5291 - val_accuracy: 0.7965\n",
            "Epoch 48/50\n",
            "782/782 [==============================] - 5s 6ms/step - loss: 0.0010 - accuracy: 0.9997 - val_loss: 2.6163 - val_accuracy: 0.7964\n",
            "Epoch 49/50\n",
            "782/782 [==============================] - 5s 6ms/step - loss: 0.0010 - accuracy: 0.9997 - val_loss: 2.6668 - val_accuracy: 0.7964\n",
            "Epoch 50/50\n",
            "782/782 [==============================] - 5s 6ms/step - loss: 0.0032 - accuracy: 0.9988 - val_loss: 2.6183 - val_accuracy: 0.7978\n"
          ],
          "name": "stdout"
        }
      ]
    },
    {
      "cell_type": "code",
      "metadata": {
        "id": "nHGYuU4jPYaj",
        "outputId": "488b92ad-ca26-4d4e-e64b-a072304db5fb",
        "colab": {
          "base_uri": "https://localhost:8080/",
          "height": 541
        }
      },
      "source": [
        "import matplotlib.pyplot as plt\n",
        "\n",
        "\n",
        "def plot_graphs(history, string):\n",
        "  plt.plot(history.history[string])\n",
        "  plt.plot(history.history['val_'+string])\n",
        "  plt.xlabel(\"Epochs\")\n",
        "  plt.ylabel(string)\n",
        "  plt.legend([string, 'val_'+string])\n",
        "  plt.show()\n",
        "\n",
        "plot_graphs(history, 'accuracy')\n",
        "plot_graphs(history, 'loss')"
      ],
      "execution_count": 8,
      "outputs": [
        {
          "output_type": "display_data",
          "data": {
            "image/png": "[encoded data removed]",
            "text/plain": [
              "<Figure size 432x288 with 1 Axes>"
            ]
          },
          "metadata": {
            "tags": [],
            "needs_background": "light"
          }
        },
        {
          "output_type": "display_data",
          "data": {
            "image/png": "[encoded data removed]",
            "text/plain": [
              "<Figure size 432x288 with 1 Axes>"
            ]
          },
          "metadata": {
            "tags": [],
            "needs_background": "light"
          }
        }
      ]
    },
    {
      "cell_type": "code",
      "metadata": {
        "id": "4L8nxJuBZhJb",
        "outputId": "5f7591b7-c057-43a8-9b59-2b66e8bc7b12",
        "colab": {
          "base_uri": "https://localhost:8080/",
          "height": 541
        }
      },
      "source": [
        "plot_graphs(history1, 'accuracy')\n",
        "plot_graphs(history1, 'loss')"
      ],
      "execution_count": 15,
      "outputs": [
        {
          "output_type": "display_data",
          "data": {
            "image/png": "[encoded data removed]",
            "text/plain": [
              "<Figure size 432x288 with 1 Axes>"
            ]
          },
          "metadata": {
            "tags": [],
            "needs_background": "light"
          }
        },
        {
          "output_type": "display_data",
          "data": {
            "image/png": "[encoded data removed]",
            "text/plain": [
              "<Figure size 432x288 with 1 Axes>"
            ]
          },
          "metadata": {
            "tags": [],
            "needs_background": "light"
          }
        }
      ]
    },
    {
      "cell_type": "code",
      "metadata": {
        "id": "EqdoFWl5ZhXu",
        "outputId": "f7c5c817-cfd4-4872-cf16-b2c857ee5b74",
        "colab": {
          "base_uri": "https://localhost:8080/",
          "height": 541
        }
      },
      "source": [
        "plot_graphs(history2, 'accuracy')\n",
        "plot_graphs(history2, 'loss')"
      ],
      "execution_count": 12,
      "outputs": [
        {
          "output_type": "display_data",
          "data": {
            "image/png": "[encoded data removed]",
            "text/plain": [
              "<Figure size 432x288 with 1 Axes>"
            ]
          },
          "metadata": {
            "tags": [],
            "needs_background": "light"
          }
        },
        {
          "output_type": "display_data",
          "data": {
            "image/png": "[encoded data removed]",
            "text/plain": [
              "<Figure size 432x288 with 1 Axes>"
            ]
          },
          "metadata": {
            "tags": [],
            "needs_background": "light"
          }
        }
      ]
    }
  ]
}