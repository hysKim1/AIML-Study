{
  "nbformat": 4,
  "nbformat_minor": 0,
  "metadata": {
    "accelerator": "GPU",
    "colab": {
      "name": "Course 3 - Week 2 - Sarcasm Classifier",
      "provenance": [],
      "collapsed_sections": []
    },
    "kernelspec": {
      "display_name": "Python 3",
      "name": "python3"
    }
  },
  "cells": [
    {
      "cell_type": "code",
      "metadata": {
        "id": "zX4Kg8DUTKWO"
      },
      "source": [
        "#@title Licensed under the Apache License, Version 2.0 (the \"License\");\n",
        "# you may not use this file except in compliance with the License.\n",
        "# You may obtain a copy of the License at\n",
        "#\n",
        "# https://www.apache.org/licenses/LICENSE-2.0\n",
        "#\n",
        "# Unless required by applicable law or agreed to in writing, software\n",
        "# distributed under the License is distributed on an \"AS IS\" BASIS,\n",
        "# WITHOUT WARRANTIES OR CONDITIONS OF ANY KIND, either express or implied.\n",
        "# See the License for the specific language governing permissions and\n",
        "# limitations under the License."
      ],
      "execution_count": null,
      "outputs": []
    },
    {
      "cell_type": "code",
      "metadata": {
        "id": "4gs9htvM7n_x"
      },
      "source": [
        "# Run this to ensure TensorFlow 2.x is used\n",
        "try:\n",
        "  # %tensorflow_version only exists in Colab.\n",
        "  %tensorflow_version 2.x\n",
        "except Exception:\n",
        "  pass"
      ],
      "execution_count": 1,
      "outputs": []
    },
    {
      "cell_type": "code",
      "metadata": {
        "id": "XYYDvoskkE61"
      },
      "source": [
        "import json\n",
        "import tensorflow as tf\n",
        "\n",
        "from tensorflow.keras.preprocessing.text import Tokenizer\n",
        "from tensorflow.keras.preprocessing.sequence import pad_sequences"
      ],
      "execution_count": 2,
      "outputs": []
    },
    {
      "cell_type": "code",
      "metadata": {
        "id": "0eJSTTYnkJQd"
      },
      "source": [
        "#hyperparmeter\n",
        "vocab_size = 10000  \n",
        "embedding_dim = 16   \n",
        "max_length = 100    \n",
        "trunc_type='post'\n",
        "padding_type='post'\n",
        "oov_tok = \"<OOV>\"\n",
        "training_size = 20000 # 7000 out of 27000 for validation\n"
      ],
      "execution_count": 3,
      "outputs": []
    },
    {
      "cell_type": "code",
      "metadata": {
        "id": "BQVuQrZNkPn9",
        "outputId": "8ba30392-e41f-4415-ef4d-95f1f0cb20db",
        "colab": {
          "base_uri": "https://localhost:8080/",
          "height": 224
        }
      },
      "source": [
        "!wget --no-check-certificate \\\n",
        "    https://storage.googleapis.com/laurencemoroney-blog.appspot.com/sarcasm.json \\\n",
        "    -O /tmp/sarcasm.json\n"
      ],
      "execution_count": 4,
      "outputs": [
        {
          "output_type": "stream",
          "text": [
            "--2020-10-02 15:48:05--  https://storage.googleapis.com/laurencemoroney-blog.appspot.com/sarcasm.json\n",
            "Resolving storage.googleapis.com (storage.googleapis.com)... 74.125.20.128, 74.125.195.128, 74.125.142.128, ...\n",
            "Connecting to storage.googleapis.com (storage.googleapis.com)|74.125.20.128|:443... connected.\n",
            "HTTP request sent, awaiting response... 200 OK\n",
            "Length: 5643545 (5.4M) [application/json]\n",
            "Saving to: ‘/tmp/sarcasm.json’\n",
            "\n",
            "\r/tmp/sarcasm.json     0%[                    ]       0  --.-KB/s               \r/tmp/sarcasm.json   100%[===================>]   5.38M  --.-KB/s    in 0.05s   \n",
            "\n",
            "2020-10-02 15:48:05 (107 MB/s) - ‘/tmp/sarcasm.json’ saved [5643545/5643545]\n",
            "\n"
          ],
          "name": "stdout"
        }
      ]
    },
    {
      "cell_type": "code",
      "metadata": {
        "id": "oaLaaqhNkUPd"
      },
      "source": [
        "with open(\"/tmp/sarcasm.json\", 'r') as f:\n",
        "    datastore = json.load(f)\n",
        "\n",
        "sentences = []\n",
        "labels = []\n",
        "\n",
        "for item in datastore:\n",
        "    sentences.append(item['headline'])\n",
        "    labels.append(item['is_sarcastic'])"
      ],
      "execution_count": 5,
      "outputs": []
    },
    {
      "cell_type": "markdown",
      "metadata": {
        "id": "XHi-p4ebAcH6"
      },
      "source": [
        "Building a classifier for the sarcasm dataset"
      ]
    },
    {
      "cell_type": "code",
      "metadata": {
        "id": "S1sD-7v0kYWk"
      },
      "source": [
        "#split by slicing \n",
        "training_sentences = sentences[0:training_size]  #20,000\n",
        "testing_sentences = sentences[training_size:]    #20,000~27,000\n",
        "training_labels = labels[0:training_size]\n",
        "testing_labels = labels[training_size:]"
      ],
      "execution_count": 6,
      "outputs": []
    },
    {
      "cell_type": "code",
      "metadata": {
        "id": "3u8UB0MCkZ5N"
      },
      "source": [
        "tokenizer = Tokenizer(num_words=vocab_size, oov_token=oov_tok)\n",
        "tokenizer.fit_on_texts(training_sentences)\n",
        "\n",
        "word_index = tokenizer.word_index\n",
        "\n",
        "training_sequences = tokenizer.texts_to_sequences(training_sentences)\n",
        "training_padded = pad_sequences(training_sequences, maxlen=max_length, padding=padding_type, truncating=trunc_type)\n",
        "\n",
        "testing_sequences = tokenizer.texts_to_sequences(testing_sentences)\n",
        "testing_padded = pad_sequences(testing_sequences, maxlen=max_length, padding=padding_type, truncating=trunc_type)"
      ],
      "execution_count": 7,
      "outputs": []
    },
    {
      "cell_type": "code",
      "metadata": {
        "id": "GrAlWBKf99Ya"
      },
      "source": [
        "# Need this block to get it to work with TensorFlow 2.x\n",
        "import numpy as np\n",
        "training_padded = np.array(training_padded)\n",
        "training_labels = np.array(training_labels)\n",
        "testing_padded = np.array(testing_padded)\n",
        "testing_labels = np.array(testing_labels)"
      ],
      "execution_count": null,
      "outputs": []
    },
    {
      "cell_type": "code",
      "metadata": {
        "id": "FufaT4vlkiDE"
      },
      "source": [
        "model = tf.keras.Sequential([\n",
        "    tf.keras.layers.Embedding(vocab_size, embedding_dim, input_length=max_length),\n",
        "    tf.keras.layers.GlobalAveragePooling1D(),\n",
        "    tf.keras.layers.Dense(24, activation='relu'),\n",
        "    tf.keras.layers.Dense(1, activation='sigmoid')\n",
        "])\n",
        "model.compile(loss='binary_crossentropy',optimizer='adam',metrics=['accuracy'])"
      ],
      "execution_count": 9,
      "outputs": []
    },
    {
      "cell_type": "code",
      "metadata": {
        "id": "XfDt1hmYkiys",
        "outputId": "c927914c-6779-4490-de5b-69453989240f",
        "colab": {
          "base_uri": "https://localhost:8080/",
          "height": 289
        }
      },
      "source": [
        "model.summary()\n"
      ],
      "execution_count": 10,
      "outputs": [
        {
          "output_type": "stream",
          "text": [
            "Model: \"sequential\"\n",
            "_________________________________________________________________\n",
            "Layer (type)                 Output Shape              Param #   \n",
            "=================================================================\n",
            "embedding (Embedding)        (None, 100, 16)           160000    \n",
            "_________________________________________________________________\n",
            "global_average_pooling1d (Gl (None, 16)                0         \n",
            "_________________________________________________________________\n",
            "dense (Dense)                (None, 24)                408       \n",
            "_________________________________________________________________\n",
            "dense_1 (Dense)              (None, 1)                 25        \n",
            "=================================================================\n",
            "Total params: 160,433\n",
            "Trainable params: 160,433\n",
            "Non-trainable params: 0\n",
            "_________________________________________________________________\n"
          ],
          "name": "stdout"
        }
      ]
    },
    {
      "cell_type": "code",
      "metadata": {
        "id": "2DTKQFf1kkyc",
        "outputId": "143cc601-5834-43d0-b803-b6dc23c14664",
        "colab": {
          "base_uri": "https://localhost:8080/",
          "height": 1000
        }
      },
      "source": [
        "num_epochs = 30\n",
        "history = model.fit(training_padded, training_labels, epochs=num_epochs, validation_data=(testing_padded, testing_labels), verbose=2)"
      ],
      "execution_count": 11,
      "outputs": [
        {
          "output_type": "stream",
          "text": [
            "Epoch 1/30\n",
            "625/625 - 3s - loss: 0.6633 - accuracy: 0.5843 - val_loss: 0.5801 - val_accuracy: 0.7529\n",
            "Epoch 2/30\n",
            "625/625 - 3s - loss: 0.4346 - accuracy: 0.8314 - val_loss: 0.3862 - val_accuracy: 0.8408\n",
            "Epoch 3/30\n",
            "625/625 - 2s - loss: 0.3108 - accuracy: 0.8777 - val_loss: 0.3550 - val_accuracy: 0.8517\n",
            "Epoch 4/30\n",
            "625/625 - 2s - loss: 0.2582 - accuracy: 0.9014 - val_loss: 0.3442 - val_accuracy: 0.8553\n",
            "Epoch 5/30\n",
            "625/625 - 3s - loss: 0.2241 - accuracy: 0.9141 - val_loss: 0.3438 - val_accuracy: 0.8575\n",
            "Epoch 6/30\n",
            "625/625 - 2s - loss: 0.1968 - accuracy: 0.9251 - val_loss: 0.3527 - val_accuracy: 0.8566\n",
            "Epoch 7/30\n",
            "625/625 - 3s - loss: 0.1754 - accuracy: 0.9338 - val_loss: 0.3854 - val_accuracy: 0.8417\n",
            "Epoch 8/30\n",
            "625/625 - 2s - loss: 0.1568 - accuracy: 0.9428 - val_loss: 0.3786 - val_accuracy: 0.8523\n",
            "Epoch 9/30\n",
            "625/625 - 2s - loss: 0.1415 - accuracy: 0.9481 - val_loss: 0.3908 - val_accuracy: 0.8550\n",
            "Epoch 10/30\n",
            "625/625 - 2s - loss: 0.1284 - accuracy: 0.9553 - val_loss: 0.4097 - val_accuracy: 0.8521\n",
            "Epoch 11/30\n",
            "625/625 - 3s - loss: 0.1173 - accuracy: 0.9603 - val_loss: 0.4561 - val_accuracy: 0.8356\n",
            "Epoch 12/30\n",
            "625/625 - 3s - loss: 0.1069 - accuracy: 0.9641 - val_loss: 0.4585 - val_accuracy: 0.8451\n",
            "Epoch 13/30\n",
            "625/625 - 2s - loss: 0.0992 - accuracy: 0.9657 - val_loss: 0.4854 - val_accuracy: 0.8408\n",
            "Epoch 14/30\n",
            "625/625 - 2s - loss: 0.0898 - accuracy: 0.9693 - val_loss: 0.5103 - val_accuracy: 0.8396\n",
            "Epoch 15/30\n",
            "625/625 - 2s - loss: 0.0818 - accuracy: 0.9733 - val_loss: 0.5316 - val_accuracy: 0.8399\n",
            "Epoch 16/30\n",
            "625/625 - 3s - loss: 0.0765 - accuracy: 0.9754 - val_loss: 0.5594 - val_accuracy: 0.8384\n",
            "Epoch 17/30\n",
            "625/625 - 2s - loss: 0.0704 - accuracy: 0.9774 - val_loss: 0.6365 - val_accuracy: 0.8286\n",
            "Epoch 18/30\n",
            "625/625 - 3s - loss: 0.0657 - accuracy: 0.9782 - val_loss: 0.6206 - val_accuracy: 0.8329\n",
            "Epoch 19/30\n",
            "625/625 - 3s - loss: 0.0592 - accuracy: 0.9813 - val_loss: 0.6536 - val_accuracy: 0.8283\n",
            "Epoch 20/30\n",
            "625/625 - 3s - loss: 0.0553 - accuracy: 0.9830 - val_loss: 0.7010 - val_accuracy: 0.8281\n",
            "Epoch 21/30\n",
            "625/625 - 3s - loss: 0.0522 - accuracy: 0.9839 - val_loss: 0.7215 - val_accuracy: 0.8267\n",
            "Epoch 22/30\n",
            "625/625 - 3s - loss: 0.0472 - accuracy: 0.9862 - val_loss: 0.7502 - val_accuracy: 0.8262\n",
            "Epoch 23/30\n",
            "625/625 - 3s - loss: 0.0426 - accuracy: 0.9876 - val_loss: 0.7832 - val_accuracy: 0.8256\n",
            "Epoch 24/30\n",
            "625/625 - 2s - loss: 0.0402 - accuracy: 0.9879 - val_loss: 0.8196 - val_accuracy: 0.8192\n",
            "Epoch 25/30\n",
            "625/625 - 2s - loss: 0.0395 - accuracy: 0.9875 - val_loss: 0.9321 - val_accuracy: 0.8159\n",
            "Epoch 26/30\n",
            "625/625 - 2s - loss: 0.0358 - accuracy: 0.9898 - val_loss: 0.9098 - val_accuracy: 0.8177\n",
            "Epoch 27/30\n",
            "625/625 - 3s - loss: 0.0336 - accuracy: 0.9900 - val_loss: 0.9754 - val_accuracy: 0.8165\n",
            "Epoch 28/30\n",
            "625/625 - 3s - loss: 0.0299 - accuracy: 0.9915 - val_loss: 1.0102 - val_accuracy: 0.8155\n",
            "Epoch 29/30\n",
            "625/625 - 3s - loss: 0.0267 - accuracy: 0.9928 - val_loss: 1.0623 - val_accuracy: 0.8128\n",
            "Epoch 30/30\n",
            "625/625 - 3s - loss: 0.0275 - accuracy: 0.9922 - val_loss: 1.0402 - val_accuracy: 0.8147\n"
          ],
          "name": "stdout"
        }
      ]
    },
    {
      "cell_type": "markdown",
      "metadata": {
        "id": "_eB7-XKxBdnm"
      },
      "source": [
        "- training loss는 줄고있는데 val_loss는 증폭\n",
        "\n",
        "- 하이퍼파라미터 바꾸면서 차이를 봐야함\n",
        " - Keep working on them and see if you can find any combinations that give a 90 percent plus training accuracy without a cost of the lost function increasing sharply."
      ]
    },
    {
      "cell_type": "code",
      "metadata": {
        "id": "2HYfBKXjkmU8",
        "outputId": "2e2f9d6e-4aad-48ee-854e-bec727e68ab1",
        "colab": {
          "base_uri": "https://localhost:8080/",
          "height": 541
        }
      },
      "source": [
        "import matplotlib.pyplot as plt\n",
        "\n",
        "\n",
        "def plot_graphs(history, string):\n",
        "  plt.plot(history.history[string])\n",
        "  plt.plot(history.history['val_'+string])\n",
        "  plt.xlabel(\"Epochs\")\n",
        "  plt.ylabel(string)\n",
        "  plt.legend([string, 'val_'+string])\n",
        "  plt.show()\n",
        "  \n",
        "plot_graphs(history, \"accuracy\")\n",
        "plot_graphs(history, \"loss\")"
      ],
      "execution_count": 12,
      "outputs": [
        {
          "output_type": "display_data",
          "data": {
            "image/png": "[encoded data removed]",
            "text/plain": [
              "<Figure size 432x288 with 1 Axes>"
            ]
          },
          "metadata": {
            "tags": [],
            "needs_background": "light"
          }
        },
        {
          "output_type": "display_data",
          "data": {
            "image/png": "[encoded data removed]",
            "text/plain": [
              "<Figure size 432x288 with 1 Axes>"
            ]
          },
          "metadata": {
            "tags": [],
            "needs_background": "light"
          }
        }
      ]
    },
    {
      "cell_type": "code",
      "metadata": {
        "id": "9RPjIYEqETwO",
        "outputId": "22628f35-f04a-4494-85f9-f073ff17d3ec",
        "colab": {
          "base_uri": "https://localhost:8080/",
          "height": 1000
        }
      },
      "source": [
        "#hyperparmeter\n",
        "vocab_size = 2000   #줄이면 val_loss 안정됨\n",
        "embedding_dim = 12 \n",
        "max_length = 200     #늘리면 acc 상승 \n",
        "trunc_type='post'\n",
        "padding_type='post'\n",
        "oov_tok = \"<OOV>\"\n",
        "\n",
        "\n",
        "tokenizer = Tokenizer(num_words=vocab_size, oov_token=oov_tok)\n",
        "tokenizer.fit_on_texts(training_sentences)\n",
        "\n",
        "word_index = tokenizer.word_index\n",
        "\n",
        "training_sequences = tokenizer.texts_to_sequences(training_sentences)\n",
        "training_padded = pad_sequences(training_sequences, maxlen=max_length, padding=padding_type, truncating=trunc_type)\n",
        "\n",
        "testing_sequences = tokenizer.texts_to_sequences(testing_sentences)\n",
        "testing_padded = pad_sequences(testing_sequences, maxlen=max_length, padding=padding_type, truncating=trunc_type)\n",
        "\n",
        "# Need this block to get it to work with TensorFlow 2.x\n",
        "import numpy as np\n",
        "training_padded = np.array(training_padded)\n",
        "training_labels = np.array(training_labels)\n",
        "testing_padded = np.array(testing_padded)\n",
        "testing_labels = np.array(testing_labels)\n",
        "\n",
        "model = tf.keras.Sequential([\n",
        "    tf.keras.layers.Embedding(vocab_size, embedding_dim, input_length=max_length),\n",
        "    tf.keras.layers.GlobalAveragePooling1D(),\n",
        "    tf.keras.layers.Dense(24, activation='relu'),\n",
        "    tf.keras.layers.Dense(1, activation='sigmoid')\n",
        "])\n",
        "model.compile(loss='binary_crossentropy',optimizer='adam',metrics=['accuracy'])\n",
        "\n",
        "\n",
        "\n",
        "num_epochs = 30\n",
        "history = model.fit(training_padded, training_labels ,epochs=num_epochs, validation_data=(testing_padded, testing_labels), verbose=2)\n",
        "  \n",
        "plot_graphs(history, \"accuracy\")\n",
        "plot_graphs(history, \"loss\")"
      ],
      "execution_count": 37,
      "outputs": [
        {
          "output_type": "stream",
          "text": [
            "Epoch 1/30\n",
            "625/625 - 2s - loss: 0.6841 - accuracy: 0.5590 - val_loss: 0.6769 - val_accuracy: 0.5633\n",
            "Epoch 2/30\n",
            "625/625 - 2s - loss: 0.5955 - accuracy: 0.6908 - val_loss: 0.4969 - val_accuracy: 0.7870\n",
            "Epoch 3/30\n",
            "625/625 - 2s - loss: 0.4252 - accuracy: 0.8112 - val_loss: 0.4102 - val_accuracy: 0.8144\n",
            "Epoch 4/30\n",
            "625/625 - 2s - loss: 0.3736 - accuracy: 0.8359 - val_loss: 0.3883 - val_accuracy: 0.8272\n",
            "Epoch 5/30\n",
            "625/625 - 2s - loss: 0.3498 - accuracy: 0.8475 - val_loss: 0.3810 - val_accuracy: 0.8313\n",
            "Epoch 6/30\n",
            "625/625 - 2s - loss: 0.3348 - accuracy: 0.8532 - val_loss: 0.3739 - val_accuracy: 0.8344\n",
            "Epoch 7/30\n",
            "625/625 - 2s - loss: 0.3259 - accuracy: 0.8578 - val_loss: 0.3715 - val_accuracy: 0.8317\n",
            "Epoch 8/30\n",
            "625/625 - 2s - loss: 0.3183 - accuracy: 0.8610 - val_loss: 0.3792 - val_accuracy: 0.8219\n",
            "Epoch 9/30\n",
            "625/625 - 2s - loss: 0.3131 - accuracy: 0.8619 - val_loss: 0.3797 - val_accuracy: 0.8343\n",
            "Epoch 10/30\n",
            "625/625 - 2s - loss: 0.3071 - accuracy: 0.8656 - val_loss: 0.3804 - val_accuracy: 0.8346\n",
            "Epoch 11/30\n",
            "625/625 - 2s - loss: 0.3037 - accuracy: 0.8687 - val_loss: 0.4075 - val_accuracy: 0.8137\n",
            "Epoch 12/30\n",
            "625/625 - 2s - loss: 0.3001 - accuracy: 0.8703 - val_loss: 0.3762 - val_accuracy: 0.8325\n",
            "Epoch 13/30\n",
            "625/625 - 2s - loss: 0.2970 - accuracy: 0.8719 - val_loss: 0.3767 - val_accuracy: 0.8286\n",
            "Epoch 14/30\n",
            "625/625 - 2s - loss: 0.2943 - accuracy: 0.8731 - val_loss: 0.3788 - val_accuracy: 0.8268\n",
            "Epoch 15/30\n",
            "625/625 - 2s - loss: 0.2940 - accuracy: 0.8708 - val_loss: 0.4042 - val_accuracy: 0.8170\n",
            "Epoch 16/30\n",
            "625/625 - 2s - loss: 0.2906 - accuracy: 0.8719 - val_loss: 0.3822 - val_accuracy: 0.8272\n",
            "Epoch 17/30\n",
            "625/625 - 2s - loss: 0.2902 - accuracy: 0.8729 - val_loss: 0.3984 - val_accuracy: 0.8220\n",
            "Epoch 18/30\n",
            "625/625 - 2s - loss: 0.2880 - accuracy: 0.8757 - val_loss: 0.3942 - val_accuracy: 0.8280\n",
            "Epoch 19/30\n",
            "625/625 - 2s - loss: 0.2870 - accuracy: 0.8749 - val_loss: 0.3942 - val_accuracy: 0.8235\n",
            "Epoch 20/30\n",
            "625/625 - 2s - loss: 0.2864 - accuracy: 0.8741 - val_loss: 0.3951 - val_accuracy: 0.8228\n",
            "Epoch 21/30\n",
            "625/625 - 2s - loss: 0.2856 - accuracy: 0.8750 - val_loss: 0.3932 - val_accuracy: 0.8252\n",
            "Epoch 22/30\n",
            "625/625 - 2s - loss: 0.2872 - accuracy: 0.8737 - val_loss: 0.3983 - val_accuracy: 0.8217\n",
            "Epoch 23/30\n",
            "625/625 - 2s - loss: 0.2838 - accuracy: 0.8722 - val_loss: 0.4052 - val_accuracy: 0.8256\n",
            "Epoch 24/30\n",
            "625/625 - 2s - loss: 0.2834 - accuracy: 0.8762 - val_loss: 0.4102 - val_accuracy: 0.8190\n",
            "Epoch 25/30\n",
            "625/625 - 2s - loss: 0.2833 - accuracy: 0.8766 - val_loss: 0.3992 - val_accuracy: 0.8272\n",
            "Epoch 26/30\n",
            "625/625 - 2s - loss: 0.2829 - accuracy: 0.8759 - val_loss: 0.4042 - val_accuracy: 0.8217\n",
            "Epoch 27/30\n",
            "625/625 - 2s - loss: 0.2836 - accuracy: 0.8765 - val_loss: 0.4207 - val_accuracy: 0.8150\n",
            "Epoch 28/30\n",
            "625/625 - 2s - loss: 0.2832 - accuracy: 0.8752 - val_loss: 0.4021 - val_accuracy: 0.8243\n",
            "Epoch 29/30\n",
            "625/625 - 2s - loss: 0.2824 - accuracy: 0.8776 - val_loss: 0.4039 - val_accuracy: 0.8219\n",
            "Epoch 30/30\n",
            "625/625 - 2s - loss: 0.2799 - accuracy: 0.8782 - val_loss: 0.4023 - val_accuracy: 0.8255\n"
          ],
          "name": "stdout"
        },
        {
          "output_type": "display_data",
          "data": {
            "image/png": "[encoded data removed]",
            "text/plain": [
              "<Figure size 432x288 with 1 Axes>"
            ]
          },
          "metadata": {
            "tags": [],
            "needs_background": "light"
          }
        },
        {
          "output_type": "display_data",
          "data": {
            "image/png": "[encoded data removed]",
            "text/plain": [
              "<Figure size 432x288 with 1 Axes>"
            ]
          },
          "metadata": {
            "tags": [],
            "needs_background": "light"
          }
        }
      ]
    },
    {
      "cell_type": "code",
      "metadata": {
        "id": "7SBdAZAenvzL",
        "outputId": "2a1f5723-63a3-4c20-94c5-cc83713d9efa",
        "colab": {
          "base_uri": "https://localhost:8080/",
          "height": 88
        }
      },
      "source": [
        "reverse_word_index = dict([(value, key) for (key, value) in word_index.items()])\n",
        "\n",
        "def decode_sentence(text):\n",
        "    return ' '.join([reverse_word_index.get(i, '?') for i in text])\n",
        "\n",
        "print(decode_sentence(training_padded[0]))\n",
        "print(training_sentences[2])\n",
        "print(labels[2])"
      ],
      "execution_count": 14,
      "outputs": [
        {
          "output_type": "stream",
          "text": [
            "former <OOV> store clerk sues over secret 'black <OOV> for minority shoppers ? ? ? ? ? ? ? ? ? ? ? ? ? ? ? ? ? ? ? ? ? ? ? ? ? ? ? ? ? ? ? ? ? ? ? ? ? ? ? ? ? ? ? ? ? ? ? ? ? ? ? ? ? ? ? ? ? ? ? ? ? ? ? ? ? ? ? ? ? ? ? ? ? ? ? ? ? ? ? ? ? ? ? ? ? ? ? ?\n",
            "mom starting to fear son's web series closest thing she will have to grandchild\n",
            "1\n"
          ],
          "name": "stdout"
        }
      ]
    },
    {
      "cell_type": "code",
      "metadata": {
        "id": "c9MqihtEkzQ9",
        "outputId": "9370eead-6b7a-4dbf-c3bd-0f516a124428",
        "colab": {
          "base_uri": "https://localhost:8080/",
          "height": 34
        }
      },
      "source": [
        "e = model.layers[0]\n",
        "weights = e.get_weights()[0]\n",
        "print(weights.shape) # shape: (vocab_size, embedding_dim)\n"
      ],
      "execution_count": 15,
      "outputs": [
        {
          "output_type": "stream",
          "text": [
            "(10000, 16)\n"
          ],
          "name": "stdout"
        }
      ]
    },
    {
      "cell_type": "code",
      "metadata": {
        "id": "cG8-ArY-qDcz",
        "outputId": "544686e1-8de6-4711-d4cf-d018e7fd6663",
        "colab": {
          "base_uri": "https://localhost:8080/",
          "height": 51
        }
      },
      "source": [
        "sentence = [\"granny starting to fear spiders in the garden might be real\", \"game of thrones season finale showing this sunday night\"]\n",
        "sequences = tokenizer.texts_to_sequences(sentence)\n",
        "padded = pad_sequences(sequences, maxlen=max_length, padding=padding_type, truncating=trunc_type)\n",
        "print(model.predict(padded)) # Sarcastic , not sarcastic"
      ],
      "execution_count": 23,
      "outputs": [
        {
          "output_type": "stream",
          "text": [
            "[[9.6402884e-01]\n",
            " [1.1403363e-05]]\n"
          ],
          "name": "stdout"
        }
      ]
    },
    {
      "cell_type": "code",
      "metadata": {
        "id": "LoBXVffknldU"
      },
      "source": [
        "import io\n",
        "\n",
        "out_v = io.open('vecs.tsv', 'w', encoding='utf-8')\n",
        "out_m = io.open('meta.tsv', 'w', encoding='utf-8')\n",
        "for word_num in range(1, vocab_size):\n",
        "  word = reverse_word_index[word_num]\n",
        "  embeddings = weights[word_num]\n",
        "  out_m.write(word + \"\\n\")\n",
        "  out_v.write('\\t'.join([str(x) for x in embeddings]) + \"\\n\")\n",
        "out_v.close()\n",
        "out_m.close()"
      ],
      "execution_count": null,
      "outputs": []
    },
    {
      "cell_type": "code",
      "metadata": {
        "id": "U4eZ5HtVnnEE"
      },
      "source": [
        "try:\n",
        "  from google.colab import files\n",
        "except ImportError:\n",
        "  pass\n",
        "else:\n",
        "  files.download('vecs.tsv')\n",
        "  files.download('meta.tsv')"
      ],
      "execution_count": null,
      "outputs": []
    }
  ]
}