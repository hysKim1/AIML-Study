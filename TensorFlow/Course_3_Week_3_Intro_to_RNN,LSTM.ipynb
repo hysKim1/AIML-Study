{
  "nbformat": 4,
  "nbformat_minor": 0,
  "metadata": {
    "accelerator": "GPU",
    "colab": {
      "name": "Course 3 - Week 3 - Intro to RNN,LSTM",
      "provenance": [],
      "collapsed_sections": [],
      "toc_visible": true
    },
    "kernelspec": {
      "display_name": "Python 3",
      "name": "python3"
    },
    "widgets": {
      "application/vnd.jupyter.widget-state+json": {
        "fa9f8c35577444949d1d6adf2ee233a4": {
          "model_module": "@jupyter-widgets/controls",
          "model_name": "HBoxModel",
          "state": {
            "_view_name": "HBoxView",
            "_dom_classes": [],
            "_model_name": "HBoxModel",
            "_view_module": "@jupyter-widgets/controls",
            "_model_module_version": "1.5.0",
            "_view_count": null,
            "_view_module_version": "1.5.0",
            "box_style": "",
            "layout": "IPY_MODEL_df4b1d0e12124078add0654ae9044298",
            "_model_module": "@jupyter-widgets/controls",
            "children": [
              "IPY_MODEL_76e0b548826d43278e0b1db4ad02af37",
              "IPY_MODEL_82bb221a937b4a4c9110ac644d7801c1"
            ]
          }
        },
        "df4b1d0e12124078add0654ae9044298": {
          "model_module": "@jupyter-widgets/base",
          "model_name": "LayoutModel",
          "state": {
            "_view_name": "LayoutView",
            "grid_template_rows": null,
            "right": null,
            "justify_content": null,
            "_view_module": "@jupyter-widgets/base",
            "overflow": null,
            "_model_module_version": "1.2.0",
            "_view_count": null,
            "flex_flow": null,
            "width": null,
            "min_width": null,
            "border": null,
            "align_items": null,
            "bottom": null,
            "_model_module": "@jupyter-widgets/base",
            "top": null,
            "grid_column": null,
            "overflow_y": null,
            "overflow_x": null,
            "grid_auto_flow": null,
            "grid_area": null,
            "grid_template_columns": null,
            "flex": null,
            "_model_name": "LayoutModel",
            "justify_items": null,
            "grid_row": null,
            "max_height": null,
            "align_content": null,
            "visibility": null,
            "align_self": null,
            "height": null,
            "min_height": null,
            "padding": null,
            "grid_auto_rows": null,
            "grid_gap": null,
            "max_width": null,
            "order": null,
            "_view_module_version": "1.2.0",
            "grid_template_areas": null,
            "object_position": null,
            "object_fit": null,
            "grid_auto_columns": null,
            "margin": null,
            "display": null,
            "left": null
          }
        },
        "76e0b548826d43278e0b1db4ad02af37": {
          "model_module": "@jupyter-widgets/controls",
          "model_name": "FloatProgressModel",
          "state": {
            "_view_name": "ProgressView",
            "style": "IPY_MODEL_553484fcaa8a48bd89fda880b0a3e998",
            "_dom_classes": [],
            "description": "Dl Completed...: 100%",
            "_model_name": "FloatProgressModel",
            "bar_style": "success",
            "max": 1,
            "_view_module": "@jupyter-widgets/controls",
            "_model_module_version": "1.5.0",
            "value": 1,
            "_view_count": null,
            "_view_module_version": "1.5.0",
            "orientation": "horizontal",
            "min": 0,
            "description_tooltip": null,
            "_model_module": "@jupyter-widgets/controls",
            "layout": "IPY_MODEL_f86d73c9c6f7496d89889a5db2f9d33f"
          }
        },
        "82bb221a937b4a4c9110ac644d7801c1": {
          "model_module": "@jupyter-widgets/controls",
          "model_name": "HTMLModel",
          "state": {
            "_view_name": "HTMLView",
            "style": "IPY_MODEL_f66540a4f596487bb899486512eb5e12",
            "_dom_classes": [],
            "description": "",
            "_model_name": "HTMLModel",
            "placeholder": "​",
            "_view_module": "@jupyter-widgets/controls",
            "_model_module_version": "1.5.0",
            "value": " 1/1 [00:01&lt;00:00,  1.70s/ url]",
            "_view_count": null,
            "_view_module_version": "1.5.0",
            "description_tooltip": null,
            "_model_module": "@jupyter-widgets/controls",
            "layout": "IPY_MODEL_d041971249e24f7e8a01b7d2b24ae65c"
          }
        },
        "553484fcaa8a48bd89fda880b0a3e998": {
          "model_module": "@jupyter-widgets/controls",
          "model_name": "ProgressStyleModel",
          "state": {
            "_view_name": "StyleView",
            "_model_name": "ProgressStyleModel",
            "description_width": "initial",
            "_view_module": "@jupyter-widgets/base",
            "_model_module_version": "1.5.0",
            "_view_count": null,
            "_view_module_version": "1.2.0",
            "bar_color": null,
            "_model_module": "@jupyter-widgets/controls"
          }
        },
        "f86d73c9c6f7496d89889a5db2f9d33f": {
          "model_module": "@jupyter-widgets/base",
          "model_name": "LayoutModel",
          "state": {
            "_view_name": "LayoutView",
            "grid_template_rows": null,
            "right": null,
            "justify_content": null,
            "_view_module": "@jupyter-widgets/base",
            "overflow": null,
            "_model_module_version": "1.2.0",
            "_view_count": null,
            "flex_flow": null,
            "width": null,
            "min_width": null,
            "border": null,
            "align_items": null,
            "bottom": null,
            "_model_module": "@jupyter-widgets/base",
            "top": null,
            "grid_column": null,
            "overflow_y": null,
            "overflow_x": null,
            "grid_auto_flow": null,
            "grid_area": null,
            "grid_template_columns": null,
            "flex": null,
            "_model_name": "LayoutModel",
            "justify_items": null,
            "grid_row": null,
            "max_height": null,
            "align_content": null,
            "visibility": null,
            "align_self": null,
            "height": null,
            "min_height": null,
            "padding": null,
            "grid_auto_rows": null,
            "grid_gap": null,
            "max_width": null,
            "order": null,
            "_view_module_version": "1.2.0",
            "grid_template_areas": null,
            "object_position": null,
            "object_fit": null,
            "grid_auto_columns": null,
            "margin": null,
            "display": null,
            "left": null
          }
        },
        "f66540a4f596487bb899486512eb5e12": {
          "model_module": "@jupyter-widgets/controls",
          "model_name": "DescriptionStyleModel",
          "state": {
            "_view_name": "StyleView",
            "_model_name": "DescriptionStyleModel",
            "description_width": "",
            "_view_module": "@jupyter-widgets/base",
            "_model_module_version": "1.5.0",
            "_view_count": null,
            "_view_module_version": "1.2.0",
            "_model_module": "@jupyter-widgets/controls"
          }
        },
        "d041971249e24f7e8a01b7d2b24ae65c": {
          "model_module": "@jupyter-widgets/base",
          "model_name": "LayoutModel",
          "state": {
            "_view_name": "LayoutView",
            "grid_template_rows": null,
            "right": null,
            "justify_content": null,
            "_view_module": "@jupyter-widgets/base",
            "overflow": null,
            "_model_module_version": "1.2.0",
            "_view_count": null,
            "flex_flow": null,
            "width": null,
            "min_width": null,
            "border": null,
            "align_items": null,
            "bottom": null,
            "_model_module": "@jupyter-widgets/base",
            "top": null,
            "grid_column": null,
            "overflow_y": null,
            "overflow_x": null,
            "grid_auto_flow": null,
            "grid_area": null,
            "grid_template_columns": null,
            "flex": null,
            "_model_name": "LayoutModel",
            "justify_items": null,
            "grid_row": null,
            "max_height": null,
            "align_content": null,
            "visibility": null,
            "align_self": null,
            "height": null,
            "min_height": null,
            "padding": null,
            "grid_auto_rows": null,
            "grid_gap": null,
            "max_width": null,
            "order": null,
            "_view_module_version": "1.2.0",
            "grid_template_areas": null,
            "object_position": null,
            "object_fit": null,
            "grid_auto_columns": null,
            "margin": null,
            "display": null,
            "left": null
          }
        },
        "347f4acea64d41a992d5115b597eb721": {
          "model_module": "@jupyter-widgets/controls",
          "model_name": "HBoxModel",
          "state": {
            "_view_name": "HBoxView",
            "_dom_classes": [],
            "_model_name": "HBoxModel",
            "_view_module": "@jupyter-widgets/controls",
            "_model_module_version": "1.5.0",
            "_view_count": null,
            "_view_module_version": "1.5.0",
            "box_style": "",
            "layout": "IPY_MODEL_d3f5a1dab93b427f8e377367908595e6",
            "_model_module": "@jupyter-widgets/controls",
            "children": [
              "IPY_MODEL_fb3fd85c2ecf40f4a2ef0048511e3c39",
              "IPY_MODEL_54a3ba0b487b44118a3cd5cb16443b25"
            ]
          }
        },
        "d3f5a1dab93b427f8e377367908595e6": {
          "model_module": "@jupyter-widgets/base",
          "model_name": "LayoutModel",
          "state": {
            "_view_name": "LayoutView",
            "grid_template_rows": null,
            "right": null,
            "justify_content": null,
            "_view_module": "@jupyter-widgets/base",
            "overflow": null,
            "_model_module_version": "1.2.0",
            "_view_count": null,
            "flex_flow": null,
            "width": null,
            "min_width": null,
            "border": null,
            "align_items": null,
            "bottom": null,
            "_model_module": "@jupyter-widgets/base",
            "top": null,
            "grid_column": null,
            "overflow_y": null,
            "overflow_x": null,
            "grid_auto_flow": null,
            "grid_area": null,
            "grid_template_columns": null,
            "flex": null,
            "_model_name": "LayoutModel",
            "justify_items": null,
            "grid_row": null,
            "max_height": null,
            "align_content": null,
            "visibility": null,
            "align_self": null,
            "height": null,
            "min_height": null,
            "padding": null,
            "grid_auto_rows": null,
            "grid_gap": null,
            "max_width": null,
            "order": null,
            "_view_module_version": "1.2.0",
            "grid_template_areas": null,
            "object_position": null,
            "object_fit": null,
            "grid_auto_columns": null,
            "margin": null,
            "display": null,
            "left": null
          }
        },
        "fb3fd85c2ecf40f4a2ef0048511e3c39": {
          "model_module": "@jupyter-widgets/controls",
          "model_name": "FloatProgressModel",
          "state": {
            "_view_name": "ProgressView",
            "style": "IPY_MODEL_241050faf33e4edcadc172d58a02f840",
            "_dom_classes": [],
            "description": "Dl Size...: 100%",
            "_model_name": "FloatProgressModel",
            "bar_style": "success",
            "max": 1,
            "_view_module": "@jupyter-widgets/controls",
            "_model_module_version": "1.5.0",
            "value": 1,
            "_view_count": null,
            "_view_module_version": "1.5.0",
            "orientation": "horizontal",
            "min": 0,
            "description_tooltip": null,
            "_model_module": "@jupyter-widgets/controls",
            "layout": "IPY_MODEL_50268884a26648fd8f47f2ca353fa66b"
          }
        },
        "54a3ba0b487b44118a3cd5cb16443b25": {
          "model_module": "@jupyter-widgets/controls",
          "model_name": "HTMLModel",
          "state": {
            "_view_name": "HTMLView",
            "style": "IPY_MODEL_b2b51a436dfa4cb4b856b73a03f79975",
            "_dom_classes": [],
            "description": "",
            "_model_name": "HTMLModel",
            "placeholder": "​",
            "_view_module": "@jupyter-widgets/controls",
            "_model_module_version": "1.5.0",
            "value": " 80/80 [00:01&lt;00:00, 48.04 MiB/s]",
            "_view_count": null,
            "_view_module_version": "1.5.0",
            "description_tooltip": null,
            "_model_module": "@jupyter-widgets/controls",
            "layout": "IPY_MODEL_cbee86e65eee4c149449a60ea7661109"
          }
        },
        "241050faf33e4edcadc172d58a02f840": {
          "model_module": "@jupyter-widgets/controls",
          "model_name": "ProgressStyleModel",
          "state": {
            "_view_name": "StyleView",
            "_model_name": "ProgressStyleModel",
            "description_width": "initial",
            "_view_module": "@jupyter-widgets/base",
            "_model_module_version": "1.5.0",
            "_view_count": null,
            "_view_module_version": "1.2.0",
            "bar_color": null,
            "_model_module": "@jupyter-widgets/controls"
          }
        },
        "50268884a26648fd8f47f2ca353fa66b": {
          "model_module": "@jupyter-widgets/base",
          "model_name": "LayoutModel",
          "state": {
            "_view_name": "LayoutView",
            "grid_template_rows": null,
            "right": null,
            "justify_content": null,
            "_view_module": "@jupyter-widgets/base",
            "overflow": null,
            "_model_module_version": "1.2.0",
            "_view_count": null,
            "flex_flow": null,
            "width": null,
            "min_width": null,
            "border": null,
            "align_items": null,
            "bottom": null,
            "_model_module": "@jupyter-widgets/base",
            "top": null,
            "grid_column": null,
            "overflow_y": null,
            "overflow_x": null,
            "grid_auto_flow": null,
            "grid_area": null,
            "grid_template_columns": null,
            "flex": null,
            "_model_name": "LayoutModel",
            "justify_items": null,
            "grid_row": null,
            "max_height": null,
            "align_content": null,
            "visibility": null,
            "align_self": null,
            "height": null,
            "min_height": null,
            "padding": null,
            "grid_auto_rows": null,
            "grid_gap": null,
            "max_width": null,
            "order": null,
            "_view_module_version": "1.2.0",
            "grid_template_areas": null,
            "object_position": null,
            "object_fit": null,
            "grid_auto_columns": null,
            "margin": null,
            "display": null,
            "left": null
          }
        },
        "b2b51a436dfa4cb4b856b73a03f79975": {
          "model_module": "@jupyter-widgets/controls",
          "model_name": "DescriptionStyleModel",
          "state": {
            "_view_name": "StyleView",
            "_model_name": "DescriptionStyleModel",
            "description_width": "",
            "_view_module": "@jupyter-widgets/base",
            "_model_module_version": "1.5.0",
            "_view_count": null,
            "_view_module_version": "1.2.0",
            "_model_module": "@jupyter-widgets/controls"
          }
        },
        "cbee86e65eee4c149449a60ea7661109": {
          "model_module": "@jupyter-widgets/base",
          "model_name": "LayoutModel",
          "state": {
            "_view_name": "LayoutView",
            "grid_template_rows": null,
            "right": null,
            "justify_content": null,
            "_view_module": "@jupyter-widgets/base",
            "overflow": null,
            "_model_module_version": "1.2.0",
            "_view_count": null,
            "flex_flow": null,
            "width": null,
            "min_width": null,
            "border": null,
            "align_items": null,
            "bottom": null,
            "_model_module": "@jupyter-widgets/base",
            "top": null,
            "grid_column": null,
            "overflow_y": null,
            "overflow_x": null,
            "grid_auto_flow": null,
            "grid_area": null,
            "grid_template_columns": null,
            "flex": null,
            "_model_name": "LayoutModel",
            "justify_items": null,
            "grid_row": null,
            "max_height": null,
            "align_content": null,
            "visibility": null,
            "align_self": null,
            "height": null,
            "min_height": null,
            "padding": null,
            "grid_auto_rows": null,
            "grid_gap": null,
            "max_width": null,
            "order": null,
            "_view_module_version": "1.2.0",
            "grid_template_areas": null,
            "object_position": null,
            "object_fit": null,
            "grid_auto_columns": null,
            "margin": null,
            "display": null,
            "left": null
          }
        },
        "a9383a2a232e4cacaa5b6c88ee01a72e": {
          "model_module": "@jupyter-widgets/controls",
          "model_name": "HBoxModel",
          "state": {
            "_view_name": "HBoxView",
            "_dom_classes": [],
            "_model_name": "HBoxModel",
            "_view_module": "@jupyter-widgets/controls",
            "_model_module_version": "1.5.0",
            "_view_count": null,
            "_view_module_version": "1.5.0",
            "box_style": "",
            "layout": "IPY_MODEL_314ad7a50a864721b41a5cb90870400e",
            "_model_module": "@jupyter-widgets/controls",
            "children": [
              "IPY_MODEL_828b6690546e4057a304c9041b06bb21",
              "IPY_MODEL_a3cf0c88d6464b2cbee300b56b741e13"
            ]
          }
        },
        "314ad7a50a864721b41a5cb90870400e": {
          "model_module": "@jupyter-widgets/base",
          "model_name": "LayoutModel",
          "state": {
            "_view_name": "LayoutView",
            "grid_template_rows": null,
            "right": null,
            "justify_content": null,
            "_view_module": "@jupyter-widgets/base",
            "overflow": null,
            "_model_module_version": "1.2.0",
            "_view_count": null,
            "flex_flow": null,
            "width": null,
            "min_width": null,
            "border": null,
            "align_items": null,
            "bottom": null,
            "_model_module": "@jupyter-widgets/base",
            "top": null,
            "grid_column": null,
            "overflow_y": null,
            "overflow_x": null,
            "grid_auto_flow": null,
            "grid_area": null,
            "grid_template_columns": null,
            "flex": null,
            "_model_name": "LayoutModel",
            "justify_items": null,
            "grid_row": null,
            "max_height": null,
            "align_content": null,
            "visibility": null,
            "align_self": null,
            "height": null,
            "min_height": null,
            "padding": null,
            "grid_auto_rows": null,
            "grid_gap": null,
            "max_width": null,
            "order": null,
            "_view_module_version": "1.2.0",
            "grid_template_areas": null,
            "object_position": null,
            "object_fit": null,
            "grid_auto_columns": null,
            "margin": null,
            "display": null,
            "left": null
          }
        },
        "828b6690546e4057a304c9041b06bb21": {
          "model_module": "@jupyter-widgets/controls",
          "model_name": "FloatProgressModel",
          "state": {
            "_view_name": "ProgressView",
            "style": "IPY_MODEL_01839721b24444d2810bf56056cf7409",
            "_dom_classes": [],
            "description": "",
            "_model_name": "FloatProgressModel",
            "bar_style": "info",
            "max": 1,
            "_view_module": "@jupyter-widgets/controls",
            "_model_module_version": "1.5.0",
            "value": 1,
            "_view_count": null,
            "_view_module_version": "1.5.0",
            "orientation": "horizontal",
            "min": 0,
            "description_tooltip": null,
            "_model_module": "@jupyter-widgets/controls",
            "layout": "IPY_MODEL_c4c9d0ac959344ed8e71f809322f9a01"
          }
        },
        "a3cf0c88d6464b2cbee300b56b741e13": {
          "model_module": "@jupyter-widgets/controls",
          "model_name": "HTMLModel",
          "state": {
            "_view_name": "HTMLView",
            "style": "IPY_MODEL_b70345dc4bb34156b35eb7172b1f9e13",
            "_dom_classes": [],
            "description": "",
            "_model_name": "HTMLModel",
            "placeholder": "​",
            "_view_module": "@jupyter-widgets/controls",
            "_model_module_version": "1.5.0",
            "value": " 25000/0 [00:29&lt;00:00, 1013.70 examples/s]",
            "_view_count": null,
            "_view_module_version": "1.5.0",
            "description_tooltip": null,
            "_model_module": "@jupyter-widgets/controls",
            "layout": "IPY_MODEL_0ceaa09cdcdc40f1977256963d394f2e"
          }
        },
        "01839721b24444d2810bf56056cf7409": {
          "model_module": "@jupyter-widgets/controls",
          "model_name": "ProgressStyleModel",
          "state": {
            "_view_name": "StyleView",
            "_model_name": "ProgressStyleModel",
            "description_width": "initial",
            "_view_module": "@jupyter-widgets/base",
            "_model_module_version": "1.5.0",
            "_view_count": null,
            "_view_module_version": "1.2.0",
            "bar_color": null,
            "_model_module": "@jupyter-widgets/controls"
          }
        },
        "c4c9d0ac959344ed8e71f809322f9a01": {
          "model_module": "@jupyter-widgets/base",
          "model_name": "LayoutModel",
          "state": {
            "_view_name": "LayoutView",
            "grid_template_rows": null,
            "right": null,
            "justify_content": null,
            "_view_module": "@jupyter-widgets/base",
            "overflow": null,
            "_model_module_version": "1.2.0",
            "_view_count": null,
            "flex_flow": null,
            "width": null,
            "min_width": null,
            "border": null,
            "align_items": null,
            "bottom": null,
            "_model_module": "@jupyter-widgets/base",
            "top": null,
            "grid_column": null,
            "overflow_y": null,
            "overflow_x": null,
            "grid_auto_flow": null,
            "grid_area": null,
            "grid_template_columns": null,
            "flex": null,
            "_model_name": "LayoutModel",
            "justify_items": null,
            "grid_row": null,
            "max_height": null,
            "align_content": null,
            "visibility": null,
            "align_self": null,
            "height": null,
            "min_height": null,
            "padding": null,
            "grid_auto_rows": null,
            "grid_gap": null,
            "max_width": null,
            "order": null,
            "_view_module_version": "1.2.0",
            "grid_template_areas": null,
            "object_position": null,
            "object_fit": null,
            "grid_auto_columns": null,
            "margin": null,
            "display": null,
            "left": null
          }
        },
        "b70345dc4bb34156b35eb7172b1f9e13": {
          "model_module": "@jupyter-widgets/controls",
          "model_name": "DescriptionStyleModel",
          "state": {
            "_view_name": "StyleView",
            "_model_name": "DescriptionStyleModel",
            "description_width": "",
            "_view_module": "@jupyter-widgets/base",
            "_model_module_version": "1.5.0",
            "_view_count": null,
            "_view_module_version": "1.2.0",
            "_model_module": "@jupyter-widgets/controls"
          }
        },
        "0ceaa09cdcdc40f1977256963d394f2e": {
          "model_module": "@jupyter-widgets/base",
          "model_name": "LayoutModel",
          "state": {
            "_view_name": "LayoutView",
            "grid_template_rows": null,
            "right": null,
            "justify_content": null,
            "_view_module": "@jupyter-widgets/base",
            "overflow": null,
            "_model_module_version": "1.2.0",
            "_view_count": null,
            "flex_flow": null,
            "width": null,
            "min_width": null,
            "border": null,
            "align_items": null,
            "bottom": null,
            "_model_module": "@jupyter-widgets/base",
            "top": null,
            "grid_column": null,
            "overflow_y": null,
            "overflow_x": null,
            "grid_auto_flow": null,
            "grid_area": null,
            "grid_template_columns": null,
            "flex": null,
            "_model_name": "LayoutModel",
            "justify_items": null,
            "grid_row": null,
            "max_height": null,
            "align_content": null,
            "visibility": null,
            "align_self": null,
            "height": null,
            "min_height": null,
            "padding": null,
            "grid_auto_rows": null,
            "grid_gap": null,
            "max_width": null,
            "order": null,
            "_view_module_version": "1.2.0",
            "grid_template_areas": null,
            "object_position": null,
            "object_fit": null,
            "grid_auto_columns": null,
            "margin": null,
            "display": null,
            "left": null
          }
        },
        "91e94dce4521422399cfcbc5b6ed92e0": {
          "model_module": "@jupyter-widgets/controls",
          "model_name": "HBoxModel",
          "state": {
            "_view_name": "HBoxView",
            "_dom_classes": [],
            "_model_name": "HBoxModel",
            "_view_module": "@jupyter-widgets/controls",
            "_model_module_version": "1.5.0",
            "_view_count": null,
            "_view_module_version": "1.5.0",
            "box_style": "",
            "layout": "IPY_MODEL_8b83e4be3ebd469fbc62bc21f9ab6ed2",
            "_model_module": "@jupyter-widgets/controls",
            "children": [
              "IPY_MODEL_c0ebbe7db45e46f8a21344eb62431619",
              "IPY_MODEL_29466fff6c0e4835b6a2b032eb2fc1ce"
            ]
          }
        },
        "8b83e4be3ebd469fbc62bc21f9ab6ed2": {
          "model_module": "@jupyter-widgets/base",
          "model_name": "LayoutModel",
          "state": {
            "_view_name": "LayoutView",
            "grid_template_rows": null,
            "right": null,
            "justify_content": null,
            "_view_module": "@jupyter-widgets/base",
            "overflow": null,
            "_model_module_version": "1.2.0",
            "_view_count": null,
            "flex_flow": null,
            "width": null,
            "min_width": null,
            "border": null,
            "align_items": null,
            "bottom": null,
            "_model_module": "@jupyter-widgets/base",
            "top": null,
            "grid_column": null,
            "overflow_y": null,
            "overflow_x": null,
            "grid_auto_flow": null,
            "grid_area": null,
            "grid_template_columns": null,
            "flex": null,
            "_model_name": "LayoutModel",
            "justify_items": null,
            "grid_row": null,
            "max_height": null,
            "align_content": null,
            "visibility": null,
            "align_self": null,
            "height": null,
            "min_height": null,
            "padding": null,
            "grid_auto_rows": null,
            "grid_gap": null,
            "max_width": null,
            "order": null,
            "_view_module_version": "1.2.0",
            "grid_template_areas": null,
            "object_position": null,
            "object_fit": null,
            "grid_auto_columns": null,
            "margin": null,
            "display": null,
            "left": null
          }
        },
        "c0ebbe7db45e46f8a21344eb62431619": {
          "model_module": "@jupyter-widgets/controls",
          "model_name": "FloatProgressModel",
          "state": {
            "_view_name": "ProgressView",
            "style": "IPY_MODEL_415bbd74f5c1492fb505f3a79f675fd8",
            "_dom_classes": [],
            "description": " 67%",
            "_model_name": "FloatProgressModel",
            "bar_style": "danger",
            "max": 25000,
            "_view_module": "@jupyter-widgets/controls",
            "_model_module_version": "1.5.0",
            "value": 16788,
            "_view_count": null,
            "_view_module_version": "1.5.0",
            "orientation": "horizontal",
            "min": 0,
            "description_tooltip": null,
            "_model_module": "@jupyter-widgets/controls",
            "layout": "IPY_MODEL_19b700c15967485e9f496e9d9411575c"
          }
        },
        "29466fff6c0e4835b6a2b032eb2fc1ce": {
          "model_module": "@jupyter-widgets/controls",
          "model_name": "HTMLModel",
          "state": {
            "_view_name": "HTMLView",
            "style": "IPY_MODEL_29649b27ba924fe297dd373216b470f2",
            "_dom_classes": [],
            "description": "",
            "_model_name": "HTMLModel",
            "placeholder": "​",
            "_view_module": "@jupyter-widgets/controls",
            "_model_module_version": "1.5.0",
            "value": " 16788/25000 [00:00&lt;00:00, 167877.36 examples/s]",
            "_view_count": null,
            "_view_module_version": "1.5.0",
            "description_tooltip": null,
            "_model_module": "@jupyter-widgets/controls",
            "layout": "IPY_MODEL_8e0cc0f2ee244eefb99f9eb42997913d"
          }
        },
        "415bbd74f5c1492fb505f3a79f675fd8": {
          "model_module": "@jupyter-widgets/controls",
          "model_name": "ProgressStyleModel",
          "state": {
            "_view_name": "StyleView",
            "_model_name": "ProgressStyleModel",
            "description_width": "initial",
            "_view_module": "@jupyter-widgets/base",
            "_model_module_version": "1.5.0",
            "_view_count": null,
            "_view_module_version": "1.2.0",
            "bar_color": null,
            "_model_module": "@jupyter-widgets/controls"
          }
        },
        "19b700c15967485e9f496e9d9411575c": {
          "model_module": "@jupyter-widgets/base",
          "model_name": "LayoutModel",
          "state": {
            "_view_name": "LayoutView",
            "grid_template_rows": null,
            "right": null,
            "justify_content": null,
            "_view_module": "@jupyter-widgets/base",
            "overflow": null,
            "_model_module_version": "1.2.0",
            "_view_count": null,
            "flex_flow": null,
            "width": null,
            "min_width": null,
            "border": null,
            "align_items": null,
            "bottom": null,
            "_model_module": "@jupyter-widgets/base",
            "top": null,
            "grid_column": null,
            "overflow_y": null,
            "overflow_x": null,
            "grid_auto_flow": null,
            "grid_area": null,
            "grid_template_columns": null,
            "flex": null,
            "_model_name": "LayoutModel",
            "justify_items": null,
            "grid_row": null,
            "max_height": null,
            "align_content": null,
            "visibility": null,
            "align_self": null,
            "height": null,
            "min_height": null,
            "padding": null,
            "grid_auto_rows": null,
            "grid_gap": null,
            "max_width": null,
            "order": null,
            "_view_module_version": "1.2.0",
            "grid_template_areas": null,
            "object_position": null,
            "object_fit": null,
            "grid_auto_columns": null,
            "margin": null,
            "display": null,
            "left": null
          }
        },
        "29649b27ba924fe297dd373216b470f2": {
          "model_module": "@jupyter-widgets/controls",
          "model_name": "DescriptionStyleModel",
          "state": {
            "_view_name": "StyleView",
            "_model_name": "DescriptionStyleModel",
            "description_width": "",
            "_view_module": "@jupyter-widgets/base",
            "_model_module_version": "1.5.0",
            "_view_count": null,
            "_view_module_version": "1.2.0",
            "_model_module": "@jupyter-widgets/controls"
          }
        },
        "8e0cc0f2ee244eefb99f9eb42997913d": {
          "model_module": "@jupyter-widgets/base",
          "model_name": "LayoutModel",
          "state": {
            "_view_name": "LayoutView",
            "grid_template_rows": null,
            "right": null,
            "justify_content": null,
            "_view_module": "@jupyter-widgets/base",
            "overflow": null,
            "_model_module_version": "1.2.0",
            "_view_count": null,
            "flex_flow": null,
            "width": null,
            "min_width": null,
            "border": null,
            "align_items": null,
            "bottom": null,
            "_model_module": "@jupyter-widgets/base",
            "top": null,
            "grid_column": null,
            "overflow_y": null,
            "overflow_x": null,
            "grid_auto_flow": null,
            "grid_area": null,
            "grid_template_columns": null,
            "flex": null,
            "_model_name": "LayoutModel",
            "justify_items": null,
            "grid_row": null,
            "max_height": null,
            "align_content": null,
            "visibility": null,
            "align_self": null,
            "height": null,
            "min_height": null,
            "padding": null,
            "grid_auto_rows": null,
            "grid_gap": null,
            "max_width": null,
            "order": null,
            "_view_module_version": "1.2.0",
            "grid_template_areas": null,
            "object_position": null,
            "object_fit": null,
            "grid_auto_columns": null,
            "margin": null,
            "display": null,
            "left": null
          }
        },
        "4459a5c0f3b74ea4b6aa3032412e33d1": {
          "model_module": "@jupyter-widgets/controls",
          "model_name": "HBoxModel",
          "state": {
            "_view_name": "HBoxView",
            "_dom_classes": [],
            "_model_name": "HBoxModel",
            "_view_module": "@jupyter-widgets/controls",
            "_model_module_version": "1.5.0",
            "_view_count": null,
            "_view_module_version": "1.5.0",
            "box_style": "",
            "layout": "IPY_MODEL_330429d7ff6049929b22aea348cb71c5",
            "_model_module": "@jupyter-widgets/controls",
            "children": [
              "IPY_MODEL_29dc78bdda054628a093de582b557fd9",
              "IPY_MODEL_09ab94b504ee4249a99051ac70b63a42"
            ]
          }
        },
        "330429d7ff6049929b22aea348cb71c5": {
          "model_module": "@jupyter-widgets/base",
          "model_name": "LayoutModel",
          "state": {
            "_view_name": "LayoutView",
            "grid_template_rows": null,
            "right": null,
            "justify_content": null,
            "_view_module": "@jupyter-widgets/base",
            "overflow": null,
            "_model_module_version": "1.2.0",
            "_view_count": null,
            "flex_flow": null,
            "width": null,
            "min_width": null,
            "border": null,
            "align_items": null,
            "bottom": null,
            "_model_module": "@jupyter-widgets/base",
            "top": null,
            "grid_column": null,
            "overflow_y": null,
            "overflow_x": null,
            "grid_auto_flow": null,
            "grid_area": null,
            "grid_template_columns": null,
            "flex": null,
            "_model_name": "LayoutModel",
            "justify_items": null,
            "grid_row": null,
            "max_height": null,
            "align_content": null,
            "visibility": null,
            "align_self": null,
            "height": null,
            "min_height": null,
            "padding": null,
            "grid_auto_rows": null,
            "grid_gap": null,
            "max_width": null,
            "order": null,
            "_view_module_version": "1.2.0",
            "grid_template_areas": null,
            "object_position": null,
            "object_fit": null,
            "grid_auto_columns": null,
            "margin": null,
            "display": null,
            "left": null
          }
        },
        "29dc78bdda054628a093de582b557fd9": {
          "model_module": "@jupyter-widgets/controls",
          "model_name": "FloatProgressModel",
          "state": {
            "_view_name": "ProgressView",
            "style": "IPY_MODEL_e3621fd07d6a4a1bb0f165a6f5c7ab8e",
            "_dom_classes": [],
            "description": "",
            "_model_name": "FloatProgressModel",
            "bar_style": "info",
            "max": 1,
            "_view_module": "@jupyter-widgets/controls",
            "_model_module_version": "1.5.0",
            "value": 1,
            "_view_count": null,
            "_view_module_version": "1.5.0",
            "orientation": "horizontal",
            "min": 0,
            "description_tooltip": null,
            "_model_module": "@jupyter-widgets/controls",
            "layout": "IPY_MODEL_4adc025a6a9148429e9f327c6753515f"
          }
        },
        "09ab94b504ee4249a99051ac70b63a42": {
          "model_module": "@jupyter-widgets/controls",
          "model_name": "HTMLModel",
          "state": {
            "_view_name": "HTMLView",
            "style": "IPY_MODEL_5a27bf42e1c7486aa9ee09670911adab",
            "_dom_classes": [],
            "description": "",
            "_model_name": "HTMLModel",
            "placeholder": "​",
            "_view_module": "@jupyter-widgets/controls",
            "_model_module_version": "1.5.0",
            "value": " 25000/0 [00:28&lt;00:00, 1123.12 examples/s]",
            "_view_count": null,
            "_view_module_version": "1.5.0",
            "description_tooltip": null,
            "_model_module": "@jupyter-widgets/controls",
            "layout": "IPY_MODEL_1523df928b7c44a2bc86a055e95b7d8d"
          }
        },
        "e3621fd07d6a4a1bb0f165a6f5c7ab8e": {
          "model_module": "@jupyter-widgets/controls",
          "model_name": "ProgressStyleModel",
          "state": {
            "_view_name": "StyleView",
            "_model_name": "ProgressStyleModel",
            "description_width": "initial",
            "_view_module": "@jupyter-widgets/base",
            "_model_module_version": "1.5.0",
            "_view_count": null,
            "_view_module_version": "1.2.0",
            "bar_color": null,
            "_model_module": "@jupyter-widgets/controls"
          }
        },
        "4adc025a6a9148429e9f327c6753515f": {
          "model_module": "@jupyter-widgets/base",
          "model_name": "LayoutModel",
          "state": {
            "_view_name": "LayoutView",
            "grid_template_rows": null,
            "right": null,
            "justify_content": null,
            "_view_module": "@jupyter-widgets/base",
            "overflow": null,
            "_model_module_version": "1.2.0",
            "_view_count": null,
            "flex_flow": null,
            "width": null,
            "min_width": null,
            "border": null,
            "align_items": null,
            "bottom": null,
            "_model_module": "@jupyter-widgets/base",
            "top": null,
            "grid_column": null,
            "overflow_y": null,
            "overflow_x": null,
            "grid_auto_flow": null,
            "grid_area": null,
            "grid_template_columns": null,
            "flex": null,
            "_model_name": "LayoutModel",
            "justify_items": null,
            "grid_row": null,
            "max_height": null,
            "align_content": null,
            "visibility": null,
            "align_self": null,
            "height": null,
            "min_height": null,
            "padding": null,
            "grid_auto_rows": null,
            "grid_gap": null,
            "max_width": null,
            "order": null,
            "_view_module_version": "1.2.0",
            "grid_template_areas": null,
            "object_position": null,
            "object_fit": null,
            "grid_auto_columns": null,
            "margin": null,
            "display": null,
            "left": null
          }
        },
        "5a27bf42e1c7486aa9ee09670911adab": {
          "model_module": "@jupyter-widgets/controls",
          "model_name": "DescriptionStyleModel",
          "state": {
            "_view_name": "StyleView",
            "_model_name": "DescriptionStyleModel",
            "description_width": "",
            "_view_module": "@jupyter-widgets/base",
            "_model_module_version": "1.5.0",
            "_view_count": null,
            "_view_module_version": "1.2.0",
            "_model_module": "@jupyter-widgets/controls"
          }
        },
        "1523df928b7c44a2bc86a055e95b7d8d": {
          "model_module": "@jupyter-widgets/base",
          "model_name": "LayoutModel",
          "state": {
            "_view_name": "LayoutView",
            "grid_template_rows": null,
            "right": null,
            "justify_content": null,
            "_view_module": "@jupyter-widgets/base",
            "overflow": null,
            "_model_module_version": "1.2.0",
            "_view_count": null,
            "flex_flow": null,
            "width": null,
            "min_width": null,
            "border": null,
            "align_items": null,
            "bottom": null,
            "_model_module": "@jupyter-widgets/base",
            "top": null,
            "grid_column": null,
            "overflow_y": null,
            "overflow_x": null,
            "grid_auto_flow": null,
            "grid_area": null,
            "grid_template_columns": null,
            "flex": null,
            "_model_name": "LayoutModel",
            "justify_items": null,
            "grid_row": null,
            "max_height": null,
            "align_content": null,
            "visibility": null,
            "align_self": null,
            "height": null,
            "min_height": null,
            "padding": null,
            "grid_auto_rows": null,
            "grid_gap": null,
            "max_width": null,
            "order": null,
            "_view_module_version": "1.2.0",
            "grid_template_areas": null,
            "object_position": null,
            "object_fit": null,
            "grid_auto_columns": null,
            "margin": null,
            "display": null,
            "left": null
          }
        },
        "ca73f138011045f19883dc9b3429bf81": {
          "model_module": "@jupyter-widgets/controls",
          "model_name": "HBoxModel",
          "state": {
            "_view_name": "HBoxView",
            "_dom_classes": [],
            "_model_name": "HBoxModel",
            "_view_module": "@jupyter-widgets/controls",
            "_model_module_version": "1.5.0",
            "_view_count": null,
            "_view_module_version": "1.5.0",
            "box_style": "",
            "layout": "IPY_MODEL_01bdc335a1d7468a940125d06839d084",
            "_model_module": "@jupyter-widgets/controls",
            "children": [
              "IPY_MODEL_7d1ffb7658e746c7b544c77b2203ec55",
              "IPY_MODEL_31a1f14cb2604370b49f07b15b0862d9"
            ]
          }
        },
        "01bdc335a1d7468a940125d06839d084": {
          "model_module": "@jupyter-widgets/base",
          "model_name": "LayoutModel",
          "state": {
            "_view_name": "LayoutView",
            "grid_template_rows": null,
            "right": null,
            "justify_content": null,
            "_view_module": "@jupyter-widgets/base",
            "overflow": null,
            "_model_module_version": "1.2.0",
            "_view_count": null,
            "flex_flow": null,
            "width": null,
            "min_width": null,
            "border": null,
            "align_items": null,
            "bottom": null,
            "_model_module": "@jupyter-widgets/base",
            "top": null,
            "grid_column": null,
            "overflow_y": null,
            "overflow_x": null,
            "grid_auto_flow": null,
            "grid_area": null,
            "grid_template_columns": null,
            "flex": null,
            "_model_name": "LayoutModel",
            "justify_items": null,
            "grid_row": null,
            "max_height": null,
            "align_content": null,
            "visibility": null,
            "align_self": null,
            "height": null,
            "min_height": null,
            "padding": null,
            "grid_auto_rows": null,
            "grid_gap": null,
            "max_width": null,
            "order": null,
            "_view_module_version": "1.2.0",
            "grid_template_areas": null,
            "object_position": null,
            "object_fit": null,
            "grid_auto_columns": null,
            "margin": null,
            "display": null,
            "left": null
          }
        },
        "7d1ffb7658e746c7b544c77b2203ec55": {
          "model_module": "@jupyter-widgets/controls",
          "model_name": "FloatProgressModel",
          "state": {
            "_view_name": "ProgressView",
            "style": "IPY_MODEL_07b3538cbb964c9bbbc3c379f7831e5b",
            "_dom_classes": [],
            "description": " 88%",
            "_model_name": "FloatProgressModel",
            "bar_style": "danger",
            "max": 25000,
            "_view_module": "@jupyter-widgets/controls",
            "_model_module_version": "1.5.0",
            "value": 21907,
            "_view_count": null,
            "_view_module_version": "1.5.0",
            "orientation": "horizontal",
            "min": 0,
            "description_tooltip": null,
            "_model_module": "@jupyter-widgets/controls",
            "layout": "IPY_MODEL_11f93eb6934f4f07a4d13d4721143438"
          }
        },
        "31a1f14cb2604370b49f07b15b0862d9": {
          "model_module": "@jupyter-widgets/controls",
          "model_name": "HTMLModel",
          "state": {
            "_view_name": "HTMLView",
            "style": "IPY_MODEL_e4748a255f504198815dbfa6d780e269",
            "_dom_classes": [],
            "description": "",
            "_model_name": "HTMLModel",
            "placeholder": "​",
            "_view_module": "@jupyter-widgets/controls",
            "_model_module_version": "1.5.0",
            "value": " 21907/25000 [00:00&lt;00:00, 219068.64 examples/s]",
            "_view_count": null,
            "_view_module_version": "1.5.0",
            "description_tooltip": null,
            "_model_module": "@jupyter-widgets/controls",
            "layout": "IPY_MODEL_f2e85516081f4190a235f774c2c71715"
          }
        },
        "07b3538cbb964c9bbbc3c379f7831e5b": {
          "model_module": "@jupyter-widgets/controls",
          "model_name": "ProgressStyleModel",
          "state": {
            "_view_name": "StyleView",
            "_model_name": "ProgressStyleModel",
            "description_width": "initial",
            "_view_module": "@jupyter-widgets/base",
            "_model_module_version": "1.5.0",
            "_view_count": null,
            "_view_module_version": "1.2.0",
            "bar_color": null,
            "_model_module": "@jupyter-widgets/controls"
          }
        },
        "11f93eb6934f4f07a4d13d4721143438": {
          "model_module": "@jupyter-widgets/base",
          "model_name": "LayoutModel",
          "state": {
            "_view_name": "LayoutView",
            "grid_template_rows": null,
            "right": null,
            "justify_content": null,
            "_view_module": "@jupyter-widgets/base",
            "overflow": null,
            "_model_module_version": "1.2.0",
            "_view_count": null,
            "flex_flow": null,
            "width": null,
            "min_width": null,
            "border": null,
            "align_items": null,
            "bottom": null,
            "_model_module": "@jupyter-widgets/base",
            "top": null,
            "grid_column": null,
            "overflow_y": null,
            "overflow_x": null,
            "grid_auto_flow": null,
            "grid_area": null,
            "grid_template_columns": null,
            "flex": null,
            "_model_name": "LayoutModel",
            "justify_items": null,
            "grid_row": null,
            "max_height": null,
            "align_content": null,
            "visibility": null,
            "align_self": null,
            "height": null,
            "min_height": null,
            "padding": null,
            "grid_auto_rows": null,
            "grid_gap": null,
            "max_width": null,
            "order": null,
            "_view_module_version": "1.2.0",
            "grid_template_areas": null,
            "object_position": null,
            "object_fit": null,
            "grid_auto_columns": null,
            "margin": null,
            "display": null,
            "left": null
          }
        },
        "e4748a255f504198815dbfa6d780e269": {
          "model_module": "@jupyter-widgets/controls",
          "model_name": "DescriptionStyleModel",
          "state": {
            "_view_name": "StyleView",
            "_model_name": "DescriptionStyleModel",
            "description_width": "",
            "_view_module": "@jupyter-widgets/base",
            "_model_module_version": "1.5.0",
            "_view_count": null,
            "_view_module_version": "1.2.0",
            "_model_module": "@jupyter-widgets/controls"
          }
        },
        "f2e85516081f4190a235f774c2c71715": {
          "model_module": "@jupyter-widgets/base",
          "model_name": "LayoutModel",
          "state": {
            "_view_name": "LayoutView",
            "grid_template_rows": null,
            "right": null,
            "justify_content": null,
            "_view_module": "@jupyter-widgets/base",
            "overflow": null,
            "_model_module_version": "1.2.0",
            "_view_count": null,
            "flex_flow": null,
            "width": null,
            "min_width": null,
            "border": null,
            "align_items": null,
            "bottom": null,
            "_model_module": "@jupyter-widgets/base",
            "top": null,
            "grid_column": null,
            "overflow_y": null,
            "overflow_x": null,
            "grid_auto_flow": null,
            "grid_area": null,
            "grid_template_columns": null,
            "flex": null,
            "_model_name": "LayoutModel",
            "justify_items": null,
            "grid_row": null,
            "max_height": null,
            "align_content": null,
            "visibility": null,
            "align_self": null,
            "height": null,
            "min_height": null,
            "padding": null,
            "grid_auto_rows": null,
            "grid_gap": null,
            "max_width": null,
            "order": null,
            "_view_module_version": "1.2.0",
            "grid_template_areas": null,
            "object_position": null,
            "object_fit": null,
            "grid_auto_columns": null,
            "margin": null,
            "display": null,
            "left": null
          }
        },
        "414b306bedd44903a2dbfcdc4c94391f": {
          "model_module": "@jupyter-widgets/controls",
          "model_name": "HBoxModel",
          "state": {
            "_view_name": "HBoxView",
            "_dom_classes": [],
            "_model_name": "HBoxModel",
            "_view_module": "@jupyter-widgets/controls",
            "_model_module_version": "1.5.0",
            "_view_count": null,
            "_view_module_version": "1.5.0",
            "box_style": "",
            "layout": "IPY_MODEL_1a8a0be0660a4f318a4daa7544a3d71c",
            "_model_module": "@jupyter-widgets/controls",
            "children": [
              "IPY_MODEL_9f3820bd0c3a481e83a868d8bb3ea0d2",
              "IPY_MODEL_a2937aa16c0d4ee587db5f598067ee8f"
            ]
          }
        },
        "1a8a0be0660a4f318a4daa7544a3d71c": {
          "model_module": "@jupyter-widgets/base",
          "model_name": "LayoutModel",
          "state": {
            "_view_name": "LayoutView",
            "grid_template_rows": null,
            "right": null,
            "justify_content": null,
            "_view_module": "@jupyter-widgets/base",
            "overflow": null,
            "_model_module_version": "1.2.0",
            "_view_count": null,
            "flex_flow": null,
            "width": null,
            "min_width": null,
            "border": null,
            "align_items": null,
            "bottom": null,
            "_model_module": "@jupyter-widgets/base",
            "top": null,
            "grid_column": null,
            "overflow_y": null,
            "overflow_x": null,
            "grid_auto_flow": null,
            "grid_area": null,
            "grid_template_columns": null,
            "flex": null,
            "_model_name": "LayoutModel",
            "justify_items": null,
            "grid_row": null,
            "max_height": null,
            "align_content": null,
            "visibility": null,
            "align_self": null,
            "height": null,
            "min_height": null,
            "padding": null,
            "grid_auto_rows": null,
            "grid_gap": null,
            "max_width": null,
            "order": null,
            "_view_module_version": "1.2.0",
            "grid_template_areas": null,
            "object_position": null,
            "object_fit": null,
            "grid_auto_columns": null,
            "margin": null,
            "display": null,
            "left": null
          }
        },
        "9f3820bd0c3a481e83a868d8bb3ea0d2": {
          "model_module": "@jupyter-widgets/controls",
          "model_name": "FloatProgressModel",
          "state": {
            "_view_name": "ProgressView",
            "style": "IPY_MODEL_7e081775a7d743b29d779a7d68651358",
            "_dom_classes": [],
            "description": "",
            "_model_name": "FloatProgressModel",
            "bar_style": "info",
            "max": 1,
            "_view_module": "@jupyter-widgets/controls",
            "_model_module_version": "1.5.0",
            "value": 1,
            "_view_count": null,
            "_view_module_version": "1.5.0",
            "orientation": "horizontal",
            "min": 0,
            "description_tooltip": null,
            "_model_module": "@jupyter-widgets/controls",
            "layout": "IPY_MODEL_9546182f104a4bd38d2dd0584757f248"
          }
        },
        "a2937aa16c0d4ee587db5f598067ee8f": {
          "model_module": "@jupyter-widgets/controls",
          "model_name": "HTMLModel",
          "state": {
            "_view_name": "HTMLView",
            "style": "IPY_MODEL_df741cf6f7254fb790acfb033a71c498",
            "_dom_classes": [],
            "description": "",
            "_model_name": "HTMLModel",
            "placeholder": "​",
            "_view_module": "@jupyter-widgets/controls",
            "_model_module_version": "1.5.0",
            "value": " 50000/0 [00:52&lt;00:00, 1022.08 examples/s]",
            "_view_count": null,
            "_view_module_version": "1.5.0",
            "description_tooltip": null,
            "_model_module": "@jupyter-widgets/controls",
            "layout": "IPY_MODEL_de551b7a625344b5bc877a17040cd986"
          }
        },
        "7e081775a7d743b29d779a7d68651358": {
          "model_module": "@jupyter-widgets/controls",
          "model_name": "ProgressStyleModel",
          "state": {
            "_view_name": "StyleView",
            "_model_name": "ProgressStyleModel",
            "description_width": "initial",
            "_view_module": "@jupyter-widgets/base",
            "_model_module_version": "1.5.0",
            "_view_count": null,
            "_view_module_version": "1.2.0",
            "bar_color": null,
            "_model_module": "@jupyter-widgets/controls"
          }
        },
        "9546182f104a4bd38d2dd0584757f248": {
          "model_module": "@jupyter-widgets/base",
          "model_name": "LayoutModel",
          "state": {
            "_view_name": "LayoutView",
            "grid_template_rows": null,
            "right": null,
            "justify_content": null,
            "_view_module": "@jupyter-widgets/base",
            "overflow": null,
            "_model_module_version": "1.2.0",
            "_view_count": null,
            "flex_flow": null,
            "width": null,
            "min_width": null,
            "border": null,
            "align_items": null,
            "bottom": null,
            "_model_module": "@jupyter-widgets/base",
            "top": null,
            "grid_column": null,
            "overflow_y": null,
            "overflow_x": null,
            "grid_auto_flow": null,
            "grid_area": null,
            "grid_template_columns": null,
            "flex": null,
            "_model_name": "LayoutModel",
            "justify_items": null,
            "grid_row": null,
            "max_height": null,
            "align_content": null,
            "visibility": null,
            "align_self": null,
            "height": null,
            "min_height": null,
            "padding": null,
            "grid_auto_rows": null,
            "grid_gap": null,
            "max_width": null,
            "order": null,
            "_view_module_version": "1.2.0",
            "grid_template_areas": null,
            "object_position": null,
            "object_fit": null,
            "grid_auto_columns": null,
            "margin": null,
            "display": null,
            "left": null
          }
        },
        "df741cf6f7254fb790acfb033a71c498": {
          "model_module": "@jupyter-widgets/controls",
          "model_name": "DescriptionStyleModel",
          "state": {
            "_view_name": "StyleView",
            "_model_name": "DescriptionStyleModel",
            "description_width": "",
            "_view_module": "@jupyter-widgets/base",
            "_model_module_version": "1.5.0",
            "_view_count": null,
            "_view_module_version": "1.2.0",
            "_model_module": "@jupyter-widgets/controls"
          }
        },
        "de551b7a625344b5bc877a17040cd986": {
          "model_module": "@jupyter-widgets/base",
          "model_name": "LayoutModel",
          "state": {
            "_view_name": "LayoutView",
            "grid_template_rows": null,
            "right": null,
            "justify_content": null,
            "_view_module": "@jupyter-widgets/base",
            "overflow": null,
            "_model_module_version": "1.2.0",
            "_view_count": null,
            "flex_flow": null,
            "width": null,
            "min_width": null,
            "border": null,
            "align_items": null,
            "bottom": null,
            "_model_module": "@jupyter-widgets/base",
            "top": null,
            "grid_column": null,
            "overflow_y": null,
            "overflow_x": null,
            "grid_auto_flow": null,
            "grid_area": null,
            "grid_template_columns": null,
            "flex": null,
            "_model_name": "LayoutModel",
            "justify_items": null,
            "grid_row": null,
            "max_height": null,
            "align_content": null,
            "visibility": null,
            "align_self": null,
            "height": null,
            "min_height": null,
            "padding": null,
            "grid_auto_rows": null,
            "grid_gap": null,
            "max_width": null,
            "order": null,
            "_view_module_version": "1.2.0",
            "grid_template_areas": null,
            "object_position": null,
            "object_fit": null,
            "grid_auto_columns": null,
            "margin": null,
            "display": null,
            "left": null
          }
        },
        "f3d21c7c70794fa88e5986bb9cde8d73": {
          "model_module": "@jupyter-widgets/controls",
          "model_name": "HBoxModel",
          "state": {
            "_view_name": "HBoxView",
            "_dom_classes": [],
            "_model_name": "HBoxModel",
            "_view_module": "@jupyter-widgets/controls",
            "_model_module_version": "1.5.0",
            "_view_count": null,
            "_view_module_version": "1.5.0",
            "box_style": "",
            "layout": "IPY_MODEL_e1243644cb8a48e7b9383c132fd4e82a",
            "_model_module": "@jupyter-widgets/controls",
            "children": [
              "IPY_MODEL_460a95a784e74c45991702c973b7b946",
              "IPY_MODEL_bfbb6362a85c4326ae3fb5bc10dddfea"
            ]
          }
        },
        "e1243644cb8a48e7b9383c132fd4e82a": {
          "model_module": "@jupyter-widgets/base",
          "model_name": "LayoutModel",
          "state": {
            "_view_name": "LayoutView",
            "grid_template_rows": null,
            "right": null,
            "justify_content": null,
            "_view_module": "@jupyter-widgets/base",
            "overflow": null,
            "_model_module_version": "1.2.0",
            "_view_count": null,
            "flex_flow": null,
            "width": null,
            "min_width": null,
            "border": null,
            "align_items": null,
            "bottom": null,
            "_model_module": "@jupyter-widgets/base",
            "top": null,
            "grid_column": null,
            "overflow_y": null,
            "overflow_x": null,
            "grid_auto_flow": null,
            "grid_area": null,
            "grid_template_columns": null,
            "flex": null,
            "_model_name": "LayoutModel",
            "justify_items": null,
            "grid_row": null,
            "max_height": null,
            "align_content": null,
            "visibility": null,
            "align_self": null,
            "height": null,
            "min_height": null,
            "padding": null,
            "grid_auto_rows": null,
            "grid_gap": null,
            "max_width": null,
            "order": null,
            "_view_module_version": "1.2.0",
            "grid_template_areas": null,
            "object_position": null,
            "object_fit": null,
            "grid_auto_columns": null,
            "margin": null,
            "display": null,
            "left": null
          }
        },
        "460a95a784e74c45991702c973b7b946": {
          "model_module": "@jupyter-widgets/controls",
          "model_name": "FloatProgressModel",
          "state": {
            "_view_name": "ProgressView",
            "style": "IPY_MODEL_8ad4474e934a4b44888578f88ae5f3f8",
            "_dom_classes": [],
            "description": " 96%",
            "_model_name": "FloatProgressModel",
            "bar_style": "danger",
            "max": 50000,
            "_view_module": "@jupyter-widgets/controls",
            "_model_module_version": "1.5.0",
            "value": 48079,
            "_view_count": null,
            "_view_module_version": "1.5.0",
            "orientation": "horizontal",
            "min": 0,
            "description_tooltip": null,
            "_model_module": "@jupyter-widgets/controls",
            "layout": "IPY_MODEL_b9dd94fca61e4aa1b2d90e4642ef8065"
          }
        },
        "bfbb6362a85c4326ae3fb5bc10dddfea": {
          "model_module": "@jupyter-widgets/controls",
          "model_name": "HTMLModel",
          "state": {
            "_view_name": "HTMLView",
            "style": "IPY_MODEL_f671139579354ce9bf05edec5afbc5e7",
            "_dom_classes": [],
            "description": "",
            "_model_name": "HTMLModel",
            "placeholder": "​",
            "_view_module": "@jupyter-widgets/controls",
            "_model_module_version": "1.5.0",
            "value": " 48079/50000 [00:00&lt;00:00, 111614.29 examples/s]",
            "_view_count": null,
            "_view_module_version": "1.5.0",
            "description_tooltip": null,
            "_model_module": "@jupyter-widgets/controls",
            "layout": "IPY_MODEL_89c2bb952e0149078d5010b14a4f6639"
          }
        },
        "8ad4474e934a4b44888578f88ae5f3f8": {
          "model_module": "@jupyter-widgets/controls",
          "model_name": "ProgressStyleModel",
          "state": {
            "_view_name": "StyleView",
            "_model_name": "ProgressStyleModel",
            "description_width": "initial",
            "_view_module": "@jupyter-widgets/base",
            "_model_module_version": "1.5.0",
            "_view_count": null,
            "_view_module_version": "1.2.0",
            "bar_color": null,
            "_model_module": "@jupyter-widgets/controls"
          }
        },
        "b9dd94fca61e4aa1b2d90e4642ef8065": {
          "model_module": "@jupyter-widgets/base",
          "model_name": "LayoutModel",
          "state": {
            "_view_name": "LayoutView",
            "grid_template_rows": null,
            "right": null,
            "justify_content": null,
            "_view_module": "@jupyter-widgets/base",
            "overflow": null,
            "_model_module_version": "1.2.0",
            "_view_count": null,
            "flex_flow": null,
            "width": null,
            "min_width": null,
            "border": null,
            "align_items": null,
            "bottom": null,
            "_model_module": "@jupyter-widgets/base",
            "top": null,
            "grid_column": null,
            "overflow_y": null,
            "overflow_x": null,
            "grid_auto_flow": null,
            "grid_area": null,
            "grid_template_columns": null,
            "flex": null,
            "_model_name": "LayoutModel",
            "justify_items": null,
            "grid_row": null,
            "max_height": null,
            "align_content": null,
            "visibility": null,
            "align_self": null,
            "height": null,
            "min_height": null,
            "padding": null,
            "grid_auto_rows": null,
            "grid_gap": null,
            "max_width": null,
            "order": null,
            "_view_module_version": "1.2.0",
            "grid_template_areas": null,
            "object_position": null,
            "object_fit": null,
            "grid_auto_columns": null,
            "margin": null,
            "display": null,
            "left": null
          }
        },
        "f671139579354ce9bf05edec5afbc5e7": {
          "model_module": "@jupyter-widgets/controls",
          "model_name": "DescriptionStyleModel",
          "state": {
            "_view_name": "StyleView",
            "_model_name": "DescriptionStyleModel",
            "description_width": "",
            "_view_module": "@jupyter-widgets/base",
            "_model_module_version": "1.5.0",
            "_view_count": null,
            "_view_module_version": "1.2.0",
            "_model_module": "@jupyter-widgets/controls"
          }
        },
        "89c2bb952e0149078d5010b14a4f6639": {
          "model_module": "@jupyter-widgets/base",
          "model_name": "LayoutModel",
          "state": {
            "_view_name": "LayoutView",
            "grid_template_rows": null,
            "right": null,
            "justify_content": null,
            "_view_module": "@jupyter-widgets/base",
            "overflow": null,
            "_model_module_version": "1.2.0",
            "_view_count": null,
            "flex_flow": null,
            "width": null,
            "min_width": null,
            "border": null,
            "align_items": null,
            "bottom": null,
            "_model_module": "@jupyter-widgets/base",
            "top": null,
            "grid_column": null,
            "overflow_y": null,
            "overflow_x": null,
            "grid_auto_flow": null,
            "grid_area": null,
            "grid_template_columns": null,
            "flex": null,
            "_model_name": "LayoutModel",
            "justify_items": null,
            "grid_row": null,
            "max_height": null,
            "align_content": null,
            "visibility": null,
            "align_self": null,
            "height": null,
            "min_height": null,
            "padding": null,
            "grid_auto_rows": null,
            "grid_gap": null,
            "max_width": null,
            "order": null,
            "_view_module_version": "1.2.0",
            "grid_template_areas": null,
            "object_position": null,
            "object_fit": null,
            "grid_auto_columns": null,
            "margin": null,
            "display": null,
            "left": null
          }
        }
      }
    }
  },
  "cells": [
    {
      "cell_type": "code",
      "metadata": {
        "id": "zX4Kg8DUTKWO"
      },
      "source": [
        "#@title Licensed under the Apache License, Version 2.0 (the \"License\");\n",
        "# you may not use this file except in compliance with the License.\n",
        "# You may obtain a copy of the License at\n",
        "#\n",
        "# https://www.apache.org/licenses/LICENSE-2.0\n",
        "#\n",
        "# Unless required by applicable law or agreed to in writing, software\n",
        "# distributed under the License is distributed on an \"AS IS\" BASIS,\n",
        "# WITHOUT WARRANTIES OR CONDITIONS OF ANY KIND, either express or implied.\n",
        "# See the License for the specific language governing permissions and\n",
        "# limitations under the License."
      ],
      "execution_count": 1,
      "outputs": []
    },
    {
      "cell_type": "markdown",
      "metadata": {
        "id": "T7tWlqu4bKBA"
      },
      "source": [
        "NN은 데이터와 레이블을 기반으로 규칙을 추측하는 함수 예. $ f(data,label) = rules$\n",
        "- sequence 를 무시함 예. 재귀 예시 :피보나치 수열 $n_x =n_{x-1} +x_{n-2}$\n",
        "재귀와 순환 신경은 다른 의미\n",
        "\n",
        "## RNN(Recurrent Neural Network) \n",
        "- 순환신경망: 이전 함수의 출력값(y0)을 다음 함수의 입력값(x1)의 한 부분으로 받음\n",
        "- 이러한 chain처럼 연결된 RNN은  sequence나 list와 같은 데이터에서 과거 정보를 학습 가능\n",
        "\n",
        "- **cell**:RNN에서 은닉층에서 활성화 함수를 통해 결과를 내보내는 역할을 하는 노드이며 이전의 값을 기억하려고 하는 일종의 메모리 역할을 수행\n",
        "\n",
        "- 현재 시점 t에서의 메모리 셀이 갖고있는 값은 과거의 메모리 셀들의 값에 영향을 받음\n",
        "\n",
        "- hidden state: 메모리 셀이 출력층 방향으로 또는 다음 시점 t+1에 보내는 값\n",
        "\n",
        "\n",
        "### 문제점\n",
        "-  짧은 sequence에 대해서만 결과가 좋아 시점이 멀어질 수록 이전의 정보가 손실되어 나중에 충분히 전달되지 못하는 현상이 발생(gradient vanishing problem!!)\n",
        "- 예. the clouds are in the *sky*과 같이 짧은 문장에서는 근처의 몇개만 보고도 유추가 가능 \n",
        "- 예2.I grew up in France… I speak fluent *French*. 두 문장을 보고 유추해야 하는데 못 하게됨"
      ]
    },
    {
      "cell_type": "markdown",
      "metadata": {
        "id": "rcmsDa9rAXWi"
      },
      "source": [
        "\n",
        "\n",
        "![rnn.png](data:image/png;base64,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)\n"
      ]
    },
    {
      "cell_type": "markdown",
      "metadata": {
        "id": "7ZPvtYtDbXTB"
      },
      "source": [
        "- [Deep RNNs](https://www.coursera.org/lecture/nlp-sequence-models/deep-rnns-ehs0S)\n",
        "\n",
        "## Long Short-Term Memory, LSTM\n",
        "- 장단기 메모리: RNN의 장기 의존성 문제(the problem of Long-Term Dependencies) 피하기 위해 설계됨 \n",
        "- vanila RNN에는 tanh 활성함수로 간단하게 되어있지만 cell state에서 정보를 추가할지 없앨지 정하는 gate가 존재\n",
        "  -  input gate, forget gate 통해서 사람의 뇌와 같이 과거의 불필요한 정보를 지우고, 현재 정보의 기억해야할 것들을 정함\n",
        "- bidirectional LSTM 도 있음\n",
        "\n",
        "- [LSTM ](https://www.coursera.org/lecture/nlp-sequence-models/long-short-term-memory-lstm-KXoay)\n",
        "- 참고 : http://colah.github.io/posts/2015-08-Understanding-LSTMs/"
      ]
    },
    {
      "cell_type": "code",
      "metadata": {
        "id": "Y20Lud2ZMBhW",
        "outputId": "5e7bb12b-ad57-4ba8-f0e0-5a5a7d801ea5",
        "colab": {
          "base_uri": "https://localhost:8080/",
          "height": 34
        }
      },
      "source": [
        "from __future__ import absolute_import, division, print_function, unicode_literals\n",
        "\n",
        "\n",
        "import tensorflow_datasets as tfds\n",
        "import tensorflow as tf\n",
        "print(tf.__version__)"
      ],
      "execution_count": 2,
      "outputs": [
        {
          "output_type": "stream",
          "text": [
            "2.3.0\n"
          ],
          "name": "stdout"
        }
      ]
    },
    {
      "cell_type": "code",
      "metadata": {
        "id": "AW-4Vo4TMUHb",
        "outputId": "1026f613-0c03-4b02-e139-f56cc384e8a4",
        "colab": {
          "base_uri": "https://localhost:8080/",
          "height": 350,
          "referenced_widgets": [
            "fa9f8c35577444949d1d6adf2ee233a4",
            "df4b1d0e12124078add0654ae9044298",
            "76e0b548826d43278e0b1db4ad02af37",
            "82bb221a937b4a4c9110ac644d7801c1",
            "553484fcaa8a48bd89fda880b0a3e998",
            "f86d73c9c6f7496d89889a5db2f9d33f",
            "f66540a4f596487bb899486512eb5e12",
            "d041971249e24f7e8a01b7d2b24ae65c",
            "347f4acea64d41a992d5115b597eb721",
            "d3f5a1dab93b427f8e377367908595e6",
            "fb3fd85c2ecf40f4a2ef0048511e3c39",
            "54a3ba0b487b44118a3cd5cb16443b25",
            "241050faf33e4edcadc172d58a02f840",
            "50268884a26648fd8f47f2ca353fa66b",
            "b2b51a436dfa4cb4b856b73a03f79975",
            "cbee86e65eee4c149449a60ea7661109",
            "a9383a2a232e4cacaa5b6c88ee01a72e",
            "314ad7a50a864721b41a5cb90870400e",
            "828b6690546e4057a304c9041b06bb21",
            "a3cf0c88d6464b2cbee300b56b741e13",
            "01839721b24444d2810bf56056cf7409",
            "c4c9d0ac959344ed8e71f809322f9a01",
            "b70345dc4bb34156b35eb7172b1f9e13",
            "0ceaa09cdcdc40f1977256963d394f2e",
            "91e94dce4521422399cfcbc5b6ed92e0",
            "8b83e4be3ebd469fbc62bc21f9ab6ed2",
            "c0ebbe7db45e46f8a21344eb62431619",
            "29466fff6c0e4835b6a2b032eb2fc1ce",
            "415bbd74f5c1492fb505f3a79f675fd8",
            "19b700c15967485e9f496e9d9411575c",
            "29649b27ba924fe297dd373216b470f2",
            "8e0cc0f2ee244eefb99f9eb42997913d",
            "4459a5c0f3b74ea4b6aa3032412e33d1",
            "330429d7ff6049929b22aea348cb71c5",
            "29dc78bdda054628a093de582b557fd9",
            "09ab94b504ee4249a99051ac70b63a42",
            "e3621fd07d6a4a1bb0f165a6f5c7ab8e",
            "4adc025a6a9148429e9f327c6753515f",
            "5a27bf42e1c7486aa9ee09670911adab",
            "1523df928b7c44a2bc86a055e95b7d8d",
            "ca73f138011045f19883dc9b3429bf81",
            "01bdc335a1d7468a940125d06839d084",
            "7d1ffb7658e746c7b544c77b2203ec55",
            "31a1f14cb2604370b49f07b15b0862d9",
            "07b3538cbb964c9bbbc3c379f7831e5b",
            "11f93eb6934f4f07a4d13d4721143438",
            "e4748a255f504198815dbfa6d780e269",
            "f2e85516081f4190a235f774c2c71715",
            "414b306bedd44903a2dbfcdc4c94391f",
            "1a8a0be0660a4f318a4daa7544a3d71c",
            "9f3820bd0c3a481e83a868d8bb3ea0d2",
            "a2937aa16c0d4ee587db5f598067ee8f",
            "7e081775a7d743b29d779a7d68651358",
            "9546182f104a4bd38d2dd0584757f248",
            "df741cf6f7254fb790acfb033a71c498",
            "de551b7a625344b5bc877a17040cd986",
            "f3d21c7c70794fa88e5986bb9cde8d73",
            "e1243644cb8a48e7b9383c132fd4e82a",
            "460a95a784e74c45991702c973b7b946",
            "bfbb6362a85c4326ae3fb5bc10dddfea",
            "8ad4474e934a4b44888578f88ae5f3f8",
            "b9dd94fca61e4aa1b2d90e4642ef8065",
            "f671139579354ce9bf05edec5afbc5e7",
            "89c2bb952e0149078d5010b14a4f6639"
          ]
        }
      },
      "source": [
        "# Get the data ; 8000개  subwords 학습에 사용-> OOV많을 것\n",
        "dataset, info = tfds.load('imdb_reviews/subwords8k', with_info=True, as_supervised=True)\n",
        "train_dataset, test_dataset = dataset['train'], dataset['test']\n"
      ],
      "execution_count": 3,
      "outputs": [
        {
          "output_type": "stream",
          "text": [
            "\u001b[1mDownloading and preparing dataset imdb_reviews/subwords8k/1.0.0 (download: 80.23 MiB, generated: Unknown size, total: 80.23 MiB) to /root/tensorflow_datasets/imdb_reviews/subwords8k/1.0.0...\u001b[0m\n"
          ],
          "name": "stdout"
        },
        {
          "output_type": "display_data",
          "data": {
            "application/vnd.jupyter.widget-view+json": {
              "model_id": "fa9f8c35577444949d1d6adf2ee233a4",
              "version_minor": 0,
              "version_major": 2
            },
            "text/plain": [
              "HBox(children=(FloatProgress(value=1.0, bar_style='info', description='Dl Completed...', max=1.0, style=Progre…"
            ]
          },
          "metadata": {
            "tags": []
          }
        },
        {
          "output_type": "display_data",
          "data": {
            "application/vnd.jupyter.widget-view+json": {
              "model_id": "347f4acea64d41a992d5115b597eb721",
              "version_minor": 0,
              "version_major": 2
            },
            "text/plain": [
              "HBox(children=(FloatProgress(value=1.0, bar_style='info', description='Dl Size...', max=1.0, style=ProgressSty…"
            ]
          },
          "metadata": {
            "tags": []
          }
        },
        {
          "output_type": "stream",
          "text": [
            "\n",
            "\n",
            "\n",
            "\n"
          ],
          "name": "stdout"
        },
        {
          "output_type": "display_data",
          "data": {
            "application/vnd.jupyter.widget-view+json": {
              "model_id": "a9383a2a232e4cacaa5b6c88ee01a72e",
              "version_minor": 0,
              "version_major": 2
            },
            "text/plain": [
              "HBox(children=(FloatProgress(value=1.0, bar_style='info', max=1.0), HTML(value='')))"
            ]
          },
          "metadata": {
            "tags": []
          }
        },
        {
          "output_type": "stream",
          "text": [
            "\rShuffling and writing examples to /root/tensorflow_datasets/imdb_reviews/subwords8k/1.0.0.incompleteP0HT09/imdb_reviews-train.tfrecord\n"
          ],
          "name": "stdout"
        },
        {
          "output_type": "display_data",
          "data": {
            "application/vnd.jupyter.widget-view+json": {
              "model_id": "91e94dce4521422399cfcbc5b6ed92e0",
              "version_minor": 0,
              "version_major": 2
            },
            "text/plain": [
              "HBox(children=(FloatProgress(value=0.0, max=25000.0), HTML(value='')))"
            ]
          },
          "metadata": {
            "tags": []
          }
        },
        {
          "output_type": "stream",
          "text": [
            "\r"
          ],
          "name": "stdout"
        },
        {
          "output_type": "display_data",
          "data": {
            "application/vnd.jupyter.widget-view+json": {
              "model_id": "4459a5c0f3b74ea4b6aa3032412e33d1",
              "version_minor": 0,
              "version_major": 2
            },
            "text/plain": [
              "HBox(children=(FloatProgress(value=1.0, bar_style='info', max=1.0), HTML(value='')))"
            ]
          },
          "metadata": {
            "tags": []
          }
        },
        {
          "output_type": "stream",
          "text": [
            "\rShuffling and writing examples to /root/tensorflow_datasets/imdb_reviews/subwords8k/1.0.0.incompleteP0HT09/imdb_reviews-test.tfrecord\n"
          ],
          "name": "stdout"
        },
        {
          "output_type": "display_data",
          "data": {
            "application/vnd.jupyter.widget-view+json": {
              "model_id": "ca73f138011045f19883dc9b3429bf81",
              "version_minor": 0,
              "version_major": 2
            },
            "text/plain": [
              "HBox(children=(FloatProgress(value=0.0, max=25000.0), HTML(value='')))"
            ]
          },
          "metadata": {
            "tags": []
          }
        },
        {
          "output_type": "stream",
          "text": [
            "\r"
          ],
          "name": "stdout"
        },
        {
          "output_type": "display_data",
          "data": {
            "application/vnd.jupyter.widget-view+json": {
              "model_id": "414b306bedd44903a2dbfcdc4c94391f",
              "version_minor": 0,
              "version_major": 2
            },
            "text/plain": [
              "HBox(children=(FloatProgress(value=1.0, bar_style='info', max=1.0), HTML(value='')))"
            ]
          },
          "metadata": {
            "tags": []
          }
        },
        {
          "output_type": "stream",
          "text": [
            "\rShuffling and writing examples to /root/tensorflow_datasets/imdb_reviews/subwords8k/1.0.0.incompleteP0HT09/imdb_reviews-unsupervised.tfrecord\n"
          ],
          "name": "stdout"
        },
        {
          "output_type": "display_data",
          "data": {
            "application/vnd.jupyter.widget-view+json": {
              "model_id": "f3d21c7c70794fa88e5986bb9cde8d73",
              "version_minor": 0,
              "version_major": 2
            },
            "text/plain": [
              "HBox(children=(FloatProgress(value=0.0, max=50000.0), HTML(value='')))"
            ]
          },
          "metadata": {
            "tags": []
          }
        },
        {
          "output_type": "stream",
          "text": [
            "\u001b[1mDataset imdb_reviews downloaded and prepared to /root/tensorflow_datasets/imdb_reviews/subwords8k/1.0.0. Subsequent calls will reuse this data.\u001b[0m\n",
            "\r"
          ],
          "name": "stdout"
        }
      ]
    },
    {
      "cell_type": "code",
      "metadata": {
        "id": "L11bIR6-PKvs"
      },
      "source": [
        "tokenizer = info.features['text'].encoder"
      ],
      "execution_count": 4,
      "outputs": []
    },
    {
      "cell_type": "code",
      "metadata": {
        "id": "ffvRUI0_McDS",
        "outputId": "39547eb9-429f-4adb-86b3-b1af4bab04f5",
        "colab": {
          "base_uri": "https://localhost:8080/",
          "height": 139
        }
      },
      "source": [
        "BUFFER_SIZE = 10000\n",
        "BATCH_SIZE = 64\n",
        "\n",
        "train_dataset = train_dataset.shuffle(BUFFER_SIZE)\n",
        "train_dataset = train_dataset.padded_batch(BATCH_SIZE, train_dataset.output_shapes)\n",
        "test_dataset = test_dataset.padded_batch(BATCH_SIZE, test_dataset.output_shapes)"
      ],
      "execution_count": 5,
      "outputs": [
        {
          "output_type": "stream",
          "text": [
            "WARNING:tensorflow:From <ipython-input-5-51766d5ffb66>:5: DatasetV1.output_shapes (from tensorflow.python.data.ops.dataset_ops) is deprecated and will be removed in a future version.\n",
            "Instructions for updating:\n",
            "Use `tf.compat.v1.data.get_output_shapes(dataset)`.\n"
          ],
          "name": "stdout"
        },
        {
          "output_type": "stream",
          "text": [
            "WARNING:tensorflow:From <ipython-input-5-51766d5ffb66>:5: DatasetV1.output_shapes (from tensorflow.python.data.ops.dataset_ops) is deprecated and will be removed in a future version.\n",
            "Instructions for updating:\n",
            "Use `tf.compat.v1.data.get_output_shapes(dataset)`.\n"
          ],
          "name": "stderr"
        }
      ]
    },
    {
      "cell_type": "code",
      "metadata": {
        "id": "Mp1Z7P9pYRSK"
      },
      "source": [
        "import matplotlib.pyplot as plt\n",
        "#smoother training curve\n",
        "\n",
        "def plot_graphs(history, string):\n",
        "  plt.plot(history.history[string])\n",
        "  plt.plot(history.history['val_'+string])\n",
        "  plt.xlabel(\"Epochs\")\n",
        "  plt.ylabel(string)\n",
        "  plt.legend([string, 'val_'+string])\n",
        "  plt.show()"
      ],
      "execution_count": 6,
      "outputs": []
    },
    {
      "cell_type": "markdown",
      "metadata": {
        "id": "DjZXrws6WPrx"
      },
      "source": [
        "# Single Layer LSTM"
      ]
    },
    {
      "cell_type": "code",
      "metadata": {
        "id": "t5fYQMF5HEmD",
        "outputId": "99161ff8-f1e4-4dcd-9f6f-a576d8cfae2b",
        "colab": {
          "base_uri": "https://localhost:8080/",
          "height": 1000
        }
      },
      "source": [
        "model = tf.keras.Sequential([\n",
        "    tf.keras.layers.Embedding(tokenizer.vocab_size, 64),\n",
        "    tf.keras.layers.Bidirectional(tf.keras.layers.LSTM(64)),\n",
        "    tf.keras.layers.Dense(64, activation='relu'),\n",
        "    tf.keras.layers.Dense(1, activation='sigmoid')\n",
        "])\n",
        "model.summary()\n",
        "\n",
        "model.compile(loss='binary_crossentropy', optimizer='adam', metrics=['accuracy'])\n",
        "\n",
        "NUM_EPOCHS = 50\n",
        "history1 = model.fit(train_dataset, epochs=NUM_EPOCHS, validation_data=test_dataset)"
      ],
      "execution_count": 7,
      "outputs": [
        {
          "output_type": "stream",
          "text": [
            "Model: \"sequential\"\n",
            "_________________________________________________________________\n",
            "Layer (type)                 Output Shape              Param #   \n",
            "=================================================================\n",
            "embedding (Embedding)        (None, None, 64)          523840    \n",
            "_________________________________________________________________\n",
            "bidirectional (Bidirectional (None, 128)               66048     \n",
            "_________________________________________________________________\n",
            "dense (Dense)                (None, 64)                8256      \n",
            "_________________________________________________________________\n",
            "dense_1 (Dense)              (None, 1)                 65        \n",
            "=================================================================\n",
            "Total params: 598,209\n",
            "Trainable params: 598,209\n",
            "Non-trainable params: 0\n",
            "_________________________________________________________________\n",
            "Epoch 1/50\n",
            "391/391 [==============================] - 60s 153ms/step - loss: 0.5108 - accuracy: 0.7460 - val_loss: 0.4749 - val_accuracy: 0.8020\n",
            "Epoch 2/50\n",
            "391/391 [==============================] - 59s 152ms/step - loss: 0.3524 - accuracy: 0.8582 - val_loss: 0.3979 - val_accuracy: 0.8351\n",
            "Epoch 3/50\n",
            "391/391 [==============================] - 59s 151ms/step - loss: 0.2749 - accuracy: 0.8946 - val_loss: 0.3831 - val_accuracy: 0.8418\n",
            "Epoch 4/50\n",
            "391/391 [==============================] - 59s 152ms/step - loss: 0.2931 - accuracy: 0.8865 - val_loss: 0.4532 - val_accuracy: 0.8318\n",
            "Epoch 5/50\n",
            "391/391 [==============================] - 59s 152ms/step - loss: 0.2132 - accuracy: 0.9192 - val_loss: 0.4327 - val_accuracy: 0.8399\n",
            "Epoch 6/50\n",
            "391/391 [==============================] - 60s 154ms/step - loss: 0.1645 - accuracy: 0.9416 - val_loss: 0.5160 - val_accuracy: 0.8372\n",
            "Epoch 7/50\n",
            "391/391 [==============================] - 61s 156ms/step - loss: 0.1288 - accuracy: 0.9566 - val_loss: 0.5876 - val_accuracy: 0.7755\n",
            "Epoch 8/50\n",
            "391/391 [==============================] - 61s 156ms/step - loss: 0.1124 - accuracy: 0.9611 - val_loss: 0.6425 - val_accuracy: 0.8337\n",
            "Epoch 9/50\n",
            "391/391 [==============================] - 61s 155ms/step - loss: 0.1118 - accuracy: 0.9618 - val_loss: 0.5127 - val_accuracy: 0.7878\n",
            "Epoch 10/50\n",
            "391/391 [==============================] - 60s 154ms/step - loss: 0.1084 - accuracy: 0.9645 - val_loss: 0.6836 - val_accuracy: 0.8271\n",
            "Epoch 11/50\n",
            "391/391 [==============================] - 60s 153ms/step - loss: 0.0799 - accuracy: 0.9737 - val_loss: 0.9992 - val_accuracy: 0.6816\n",
            "Epoch 12/50\n",
            "391/391 [==============================] - 60s 154ms/step - loss: 0.3877 - accuracy: 0.8263 - val_loss: 0.5799 - val_accuracy: 0.7676\n",
            "Epoch 13/50\n",
            "391/391 [==============================] - 60s 153ms/step - loss: 0.1257 - accuracy: 0.9554 - val_loss: 0.7451 - val_accuracy: 0.8271\n",
            "Epoch 14/50\n",
            "391/391 [==============================] - 60s 154ms/step - loss: 0.0682 - accuracy: 0.9778 - val_loss: 0.7893 - val_accuracy: 0.8063\n",
            "Epoch 15/50\n",
            "391/391 [==============================] - 60s 154ms/step - loss: 0.0423 - accuracy: 0.9860 - val_loss: 1.0806 - val_accuracy: 0.7231\n",
            "Epoch 16/50\n",
            "391/391 [==============================] - 60s 154ms/step - loss: 0.1800 - accuracy: 0.9244 - val_loss: 0.6778 - val_accuracy: 0.5897\n",
            "Epoch 17/50\n",
            "391/391 [==============================] - 61s 155ms/step - loss: 0.2686 - accuracy: 0.8851 - val_loss: 0.5865 - val_accuracy: 0.7908\n",
            "Epoch 18/50\n",
            "391/391 [==============================] - 61s 155ms/step - loss: 0.0918 - accuracy: 0.9661 - val_loss: 0.7494 - val_accuracy: 0.8042\n",
            "Epoch 19/50\n",
            "391/391 [==============================] - 60s 155ms/step - loss: 0.0400 - accuracy: 0.9875 - val_loss: 1.0092 - val_accuracy: 0.7870\n",
            "Epoch 20/50\n",
            "391/391 [==============================] - 61s 156ms/step - loss: 0.0222 - accuracy: 0.9923 - val_loss: 1.1027 - val_accuracy: 0.7953\n",
            "Epoch 21/50\n",
            "391/391 [==============================] - 60s 154ms/step - loss: 0.0179 - accuracy: 0.9939 - val_loss: 1.1145 - val_accuracy: 0.8010\n",
            "Epoch 22/50\n",
            "391/391 [==============================] - 61s 155ms/step - loss: 0.0105 - accuracy: 0.9966 - val_loss: 1.2530 - val_accuracy: 0.8032\n",
            "Epoch 23/50\n",
            "391/391 [==============================] - 60s 153ms/step - loss: 0.0157 - accuracy: 0.9948 - val_loss: 1.2523 - val_accuracy: 0.7995\n",
            "Epoch 24/50\n",
            "391/391 [==============================] - 61s 156ms/step - loss: 0.0180 - accuracy: 0.9942 - val_loss: 1.2410 - val_accuracy: 0.8004\n",
            "Epoch 25/50\n",
            "391/391 [==============================] - 61s 155ms/step - loss: 0.0168 - accuracy: 0.9946 - val_loss: 1.2216 - val_accuracy: 0.7988\n",
            "Epoch 26/50\n",
            "391/391 [==============================] - 60s 154ms/step - loss: 0.0139 - accuracy: 0.9952 - val_loss: 1.2560 - val_accuracy: 0.7994\n",
            "Epoch 27/50\n",
            "391/391 [==============================] - 61s 156ms/step - loss: 0.0057 - accuracy: 0.9984 - val_loss: 1.3793 - val_accuracy: 0.8100\n",
            "Epoch 28/50\n",
            "391/391 [==============================] - 60s 154ms/step - loss: 0.0073 - accuracy: 0.9974 - val_loss: 1.3547 - val_accuracy: 0.8128\n",
            "Epoch 29/50\n",
            "391/391 [==============================] - 61s 155ms/step - loss: 0.0114 - accuracy: 0.9963 - val_loss: 1.2750 - val_accuracy: 0.8029\n",
            "Epoch 30/50\n",
            "391/391 [==============================] - 61s 156ms/step - loss: 0.0119 - accuracy: 0.9958 - val_loss: 1.2475 - val_accuracy: 0.7996\n",
            "Epoch 31/50\n",
            "391/391 [==============================] - 61s 157ms/step - loss: 0.0145 - accuracy: 0.9952 - val_loss: 1.2206 - val_accuracy: 0.8104\n",
            "Epoch 32/50\n",
            "391/391 [==============================] - 61s 157ms/step - loss: 0.0085 - accuracy: 0.9974 - val_loss: 1.2738 - val_accuracy: 0.8136\n",
            "Epoch 33/50\n",
            "391/391 [==============================] - 62s 158ms/step - loss: 0.0081 - accuracy: 0.9975 - val_loss: 1.3626 - val_accuracy: 0.8096\n",
            "Epoch 34/50\n",
            "391/391 [==============================] - 61s 156ms/step - loss: 0.0030 - accuracy: 0.9994 - val_loss: 1.5762 - val_accuracy: 0.7896\n",
            "Epoch 35/50\n",
            "391/391 [==============================] - 61s 156ms/step - loss: 0.0049 - accuracy: 0.9985 - val_loss: 1.5699 - val_accuracy: 0.8055\n",
            "Epoch 36/50\n",
            "391/391 [==============================] - 61s 156ms/step - loss: 0.0156 - accuracy: 0.9950 - val_loss: 1.1347 - val_accuracy: 0.7933\n",
            "Epoch 37/50\n",
            "391/391 [==============================] - 60s 153ms/step - loss: 0.0162 - accuracy: 0.9943 - val_loss: 1.0152 - val_accuracy: 0.8171\n",
            "Epoch 38/50\n",
            "391/391 [==============================] - 60s 153ms/step - loss: 0.0069 - accuracy: 0.9978 - val_loss: 1.2090 - val_accuracy: 0.8224\n",
            "Epoch 39/50\n",
            "391/391 [==============================] - 59s 151ms/step - loss: 0.0051 - accuracy: 0.9985 - val_loss: 1.2489 - val_accuracy: 0.8222\n",
            "Epoch 40/50\n",
            "391/391 [==============================] - 59s 151ms/step - loss: 0.0087 - accuracy: 0.9969 - val_loss: 1.3960 - val_accuracy: 0.8016\n",
            "Epoch 41/50\n",
            "391/391 [==============================] - 59s 151ms/step - loss: 0.0069 - accuracy: 0.9974 - val_loss: 1.5407 - val_accuracy: 0.7896\n",
            "Epoch 42/50\n",
            "391/391 [==============================] - 59s 152ms/step - loss: 0.0096 - accuracy: 0.9972 - val_loss: 1.4157 - val_accuracy: 0.8061\n",
            "Epoch 43/50\n",
            "391/391 [==============================] - 59s 151ms/step - loss: 0.0109 - accuracy: 0.9965 - val_loss: 1.2978 - val_accuracy: 0.8139\n",
            "Epoch 44/50\n",
            "391/391 [==============================] - 59s 151ms/step - loss: 0.0027 - accuracy: 0.9993 - val_loss: 1.3739 - val_accuracy: 0.8193\n",
            "Epoch 45/50\n",
            "391/391 [==============================] - 59s 150ms/step - loss: 7.2602e-04 - accuracy: 0.9999 - val_loss: 1.5820 - val_accuracy: 0.8117\n",
            "Epoch 46/50\n",
            "391/391 [==============================] - 59s 150ms/step - loss: 6.6650e-05 - accuracy: 1.0000 - val_loss: 1.6774 - val_accuracy: 0.8142\n",
            "Epoch 47/50\n",
            "391/391 [==============================] - 59s 151ms/step - loss: 2.4617e-05 - accuracy: 1.0000 - val_loss: 1.7214 - val_accuracy: 0.8165\n",
            "Epoch 48/50\n",
            "391/391 [==============================] - 59s 150ms/step - loss: 1.6035e-05 - accuracy: 1.0000 - val_loss: 1.7735 - val_accuracy: 0.8174\n",
            "Epoch 49/50\n",
            "391/391 [==============================] - 59s 151ms/step - loss: 1.1403e-05 - accuracy: 1.0000 - val_loss: 1.8234 - val_accuracy: 0.8180\n",
            "Epoch 50/50\n",
            "391/391 [==============================] - 59s 152ms/step - loss: 8.2257e-06 - accuracy: 1.0000 - val_loss: 1.8753 - val_accuracy: 0.8181\n"
          ],
          "name": "stdout"
        }
      ]
    },
    {
      "cell_type": "markdown",
      "metadata": {
        "id": "rFiCyWQ-NC5D"
      },
      "source": [
        "# Multiple Layer LSTM"
      ]
    },
    {
      "cell_type": "code",
      "metadata": {
        "id": "jo1jjO3vn0jo",
        "outputId": "7b422d20-f21d-4998-86a4-441e7b275dd6",
        "colab": {
          "base_uri": "https://localhost:8080/",
          "height": 1000
        }
      },
      "source": [
        "model = tf.keras.Sequential([\n",
        "    tf.keras.layers.Embedding(tokenizer.vocab_size, 64),\n",
        "    #Stacking LSTM: return_sequences=True하고 LSTM 결과를 다음의 LSTM input 맞춤 \n",
        "    tf.keras.layers.Bidirectional(tf.keras.layers.LSTM(64, return_sequences=True)),\n",
        "    tf.keras.layers.Bidirectional(tf.keras.layers.LSTM(32)),\n",
        "    tf.keras.layers.Dense(64, activation='relu'),\n",
        "    tf.keras.layers.Dense(1, activation='sigmoid')\n",
        "])\n",
        "model.summary()\n",
        "\n",
        "model.compile(loss='binary_crossentropy', optimizer='adam', metrics=['accuracy'])\n",
        "\n",
        "NUM_EPOCHS = 50\n",
        "history2 = model.fit(train_dataset, epochs=NUM_EPOCHS, validation_data=test_dataset)"
      ],
      "execution_count": 8,
      "outputs": [
        {
          "output_type": "stream",
          "text": [
            "Model: \"sequential_1\"\n",
            "_________________________________________________________________\n",
            "Layer (type)                 Output Shape              Param #   \n",
            "=================================================================\n",
            "embedding_1 (Embedding)      (None, None, 64)          523840    \n",
            "_________________________________________________________________\n",
            "bidirectional_1 (Bidirection (None, None, 128)         66048     \n",
            "_________________________________________________________________\n",
            "bidirectional_2 (Bidirection (None, 64)                41216     \n",
            "_________________________________________________________________\n",
            "dense_2 (Dense)              (None, 64)                4160      \n",
            "_________________________________________________________________\n",
            "dense_3 (Dense)              (None, 1)                 65        \n",
            "=================================================================\n",
            "Total params: 635,329\n",
            "Trainable params: 635,329\n",
            "Non-trainable params: 0\n",
            "_________________________________________________________________\n",
            "Epoch 1/50\n",
            "391/391 [==============================] - 104s 265ms/step - loss: 0.5774 - accuracy: 0.6875 - val_loss: 0.4901 - val_accuracy: 0.7716\n",
            "Epoch 2/50\n",
            "391/391 [==============================] - 103s 263ms/step - loss: 0.4003 - accuracy: 0.8285 - val_loss: 0.4186 - val_accuracy: 0.8126\n",
            "Epoch 3/50\n",
            "391/391 [==============================] - 103s 263ms/step - loss: 0.3150 - accuracy: 0.8749 - val_loss: 0.5657 - val_accuracy: 0.6931\n",
            "Epoch 4/50\n",
            "391/391 [==============================] - 103s 264ms/step - loss: 0.2694 - accuracy: 0.8973 - val_loss: 0.4986 - val_accuracy: 0.7982\n",
            "Epoch 5/50\n",
            "391/391 [==============================] - 102s 261ms/step - loss: 0.2821 - accuracy: 0.8910 - val_loss: 0.5033 - val_accuracy: 0.8099\n",
            "Epoch 6/50\n",
            "391/391 [==============================] - 103s 263ms/step - loss: 0.2369 - accuracy: 0.9085 - val_loss: 0.5043 - val_accuracy: 0.7992\n",
            "Epoch 7/50\n",
            "391/391 [==============================] - 102s 262ms/step - loss: 0.1937 - accuracy: 0.9278 - val_loss: 0.5165 - val_accuracy: 0.8000\n",
            "Epoch 8/50\n",
            "391/391 [==============================] - 103s 264ms/step - loss: 0.1375 - accuracy: 0.9544 - val_loss: 0.6339 - val_accuracy: 0.7888\n",
            "Epoch 9/50\n",
            "391/391 [==============================] - 103s 263ms/step - loss: 0.1379 - accuracy: 0.9504 - val_loss: 0.5916 - val_accuracy: 0.6968\n",
            "Epoch 10/50\n",
            "391/391 [==============================] - 103s 263ms/step - loss: 0.1815 - accuracy: 0.9360 - val_loss: 0.6150 - val_accuracy: 0.8216\n",
            "Epoch 11/50\n",
            "391/391 [==============================] - 103s 263ms/step - loss: 0.1135 - accuracy: 0.9633 - val_loss: 0.5949 - val_accuracy: 0.8138\n",
            "Epoch 12/50\n",
            "391/391 [==============================] - 101s 258ms/step - loss: 0.0739 - accuracy: 0.9787 - val_loss: 0.6529 - val_accuracy: 0.8060\n",
            "Epoch 13/50\n",
            "391/391 [==============================] - 102s 261ms/step - loss: 0.0704 - accuracy: 0.9793 - val_loss: 0.7175 - val_accuracy: 0.7930\n",
            "Epoch 14/50\n",
            "391/391 [==============================] - 103s 262ms/step - loss: 0.0895 - accuracy: 0.9743 - val_loss: 0.6908 - val_accuracy: 0.8129\n",
            "Epoch 15/50\n",
            "391/391 [==============================] - 103s 263ms/step - loss: 0.1128 - accuracy: 0.9631 - val_loss: 0.7077 - val_accuracy: 0.8051\n",
            "Epoch 16/50\n",
            "391/391 [==============================] - 103s 262ms/step - loss: 0.0601 - accuracy: 0.9830 - val_loss: 0.8579 - val_accuracy: 0.8000\n",
            "Epoch 17/50\n",
            "391/391 [==============================] - 102s 261ms/step - loss: 0.0444 - accuracy: 0.9883 - val_loss: 0.8788 - val_accuracy: 0.7987\n",
            "Epoch 18/50\n",
            "391/391 [==============================] - 102s 260ms/step - loss: 0.1126 - accuracy: 0.9618 - val_loss: 0.7608 - val_accuracy: 0.7771\n",
            "Epoch 19/50\n",
            "391/391 [==============================] - 102s 260ms/step - loss: 0.1279 - accuracy: 0.9558 - val_loss: 0.7640 - val_accuracy: 0.7727\n",
            "Epoch 20/50\n",
            "391/391 [==============================] - 102s 261ms/step - loss: 0.0871 - accuracy: 0.9713 - val_loss: 0.8310 - val_accuracy: 0.7918\n",
            "Epoch 21/50\n",
            "391/391 [==============================] - 101s 259ms/step - loss: 0.0790 - accuracy: 0.9761 - val_loss: 0.6002 - val_accuracy: 0.7992\n",
            "Epoch 22/50\n",
            "391/391 [==============================] - 102s 260ms/step - loss: 0.1345 - accuracy: 0.9524 - val_loss: 0.7531 - val_accuracy: 0.7950\n",
            "Epoch 23/50\n",
            "391/391 [==============================] - 103s 263ms/step - loss: 0.1119 - accuracy: 0.9632 - val_loss: 0.7504 - val_accuracy: 0.7889\n",
            "Epoch 24/50\n",
            "391/391 [==============================] - 101s 260ms/step - loss: 0.0458 - accuracy: 0.9875 - val_loss: 0.8641 - val_accuracy: 0.7981\n",
            "Epoch 25/50\n",
            "391/391 [==============================] - 102s 260ms/step - loss: 0.0375 - accuracy: 0.9906 - val_loss: 0.9000 - val_accuracy: 0.7948\n",
            "Epoch 26/50\n",
            "391/391 [==============================] - 103s 263ms/step - loss: 0.0574 - accuracy: 0.9842 - val_loss: 0.9741 - val_accuracy: 0.8091\n",
            "Epoch 27/50\n",
            "391/391 [==============================] - 101s 259ms/step - loss: 0.0321 - accuracy: 0.9925 - val_loss: 0.9203 - val_accuracy: 0.8095\n",
            "Epoch 28/50\n",
            "391/391 [==============================] - 101s 259ms/step - loss: 0.0286 - accuracy: 0.9930 - val_loss: 0.9088 - val_accuracy: 0.8001\n",
            "Epoch 29/50\n",
            "391/391 [==============================] - 102s 260ms/step - loss: 0.0199 - accuracy: 0.9955 - val_loss: 1.0035 - val_accuracy: 0.8184\n",
            "Epoch 30/50\n",
            "391/391 [==============================] - 102s 260ms/step - loss: 0.0884 - accuracy: 0.9672 - val_loss: 0.5529 - val_accuracy: 0.7593\n",
            "Epoch 31/50\n",
            "391/391 [==============================] - 102s 262ms/step - loss: 0.1652 - accuracy: 0.9369 - val_loss: 0.6232 - val_accuracy: 0.8092\n",
            "Epoch 32/50\n",
            "391/391 [==============================] - 102s 261ms/step - loss: 0.0614 - accuracy: 0.9804 - val_loss: 0.7880 - val_accuracy: 0.7965\n",
            "Epoch 33/50\n",
            "391/391 [==============================] - 102s 261ms/step - loss: 0.0427 - accuracy: 0.9870 - val_loss: 0.9015 - val_accuracy: 0.8050\n",
            "Epoch 34/50\n",
            "391/391 [==============================] - 103s 263ms/step - loss: 0.0205 - accuracy: 0.9952 - val_loss: 0.9010 - val_accuracy: 0.8056\n",
            "Epoch 35/50\n",
            "391/391 [==============================] - 101s 259ms/step - loss: 0.0147 - accuracy: 0.9971 - val_loss: 1.0379 - val_accuracy: 0.8101\n",
            "Epoch 36/50\n",
            "391/391 [==============================] - 102s 261ms/step - loss: 0.0157 - accuracy: 0.9956 - val_loss: 0.9460 - val_accuracy: 0.8184\n",
            "Epoch 37/50\n",
            "391/391 [==============================] - 102s 262ms/step - loss: 0.0147 - accuracy: 0.9963 - val_loss: 1.0614 - val_accuracy: 0.8140\n",
            "Epoch 38/50\n",
            "391/391 [==============================] - 103s 263ms/step - loss: 0.0114 - accuracy: 0.9974 - val_loss: 1.0759 - val_accuracy: 0.8141\n",
            "Epoch 39/50\n",
            "391/391 [==============================] - 103s 262ms/step - loss: 0.0239 - accuracy: 0.9940 - val_loss: 1.0754 - val_accuracy: 0.7976\n",
            "Epoch 40/50\n",
            "391/391 [==============================] - 103s 264ms/step - loss: 0.0197 - accuracy: 0.9948 - val_loss: 1.0096 - val_accuracy: 0.8158\n",
            "Epoch 41/50\n",
            "391/391 [==============================] - 103s 263ms/step - loss: 0.0187 - accuracy: 0.9946 - val_loss: 0.9609 - val_accuracy: 0.8153\n",
            "Epoch 42/50\n",
            "391/391 [==============================] - 102s 261ms/step - loss: 0.0117 - accuracy: 0.9966 - val_loss: 0.9796 - val_accuracy: 0.8153\n",
            "Epoch 43/50\n",
            "391/391 [==============================] - 103s 263ms/step - loss: 0.0114 - accuracy: 0.9969 - val_loss: 1.1525 - val_accuracy: 0.7984\n",
            "Epoch 44/50\n",
            "391/391 [==============================] - 103s 263ms/step - loss: 0.0112 - accuracy: 0.9970 - val_loss: 1.1713 - val_accuracy: 0.8173\n",
            "Epoch 45/50\n",
            "391/391 [==============================] - 103s 264ms/step - loss: 0.0082 - accuracy: 0.9982 - val_loss: 1.1790 - val_accuracy: 0.8046\n",
            "Epoch 46/50\n",
            "391/391 [==============================] - 103s 262ms/step - loss: 0.0115 - accuracy: 0.9969 - val_loss: 1.1133 - val_accuracy: 0.7982\n",
            "Epoch 47/50\n",
            "391/391 [==============================] - 103s 262ms/step - loss: 0.0103 - accuracy: 0.9968 - val_loss: 1.1088 - val_accuracy: 0.8108\n",
            "Epoch 48/50\n",
            "391/391 [==============================] - 103s 263ms/step - loss: 0.0099 - accuracy: 0.9970 - val_loss: 0.9637 - val_accuracy: 0.8207\n",
            "Epoch 49/50\n",
            "391/391 [==============================] - 102s 261ms/step - loss: 0.0059 - accuracy: 0.9984 - val_loss: 1.1470 - val_accuracy: 0.8148\n",
            "Epoch 50/50\n",
            "391/391 [==============================] - 102s 262ms/step - loss: 0.0078 - accuracy: 0.9976 - val_loss: 1.1105 - val_accuracy: 0.8141\n"
          ],
          "name": "stdout"
        }
      ]
    },
    {
      "cell_type": "markdown",
      "metadata": {
        "id": "Q-64YxR6WhNE"
      },
      "source": [
        "## Compare Acuuracy and loss of single & multiple layer LSTM\n",
        "- more layers, smoother"
      ]
    },
    {
      "cell_type": "code",
      "metadata": {
        "id": "JeT7R8f2Hlgg",
        "outputId": "125faeb2-aa9e-4dfc-dcc9-da8c4076cdc8",
        "colab": {
          "base_uri": "https://localhost:8080/",
          "height": 279
        }
      },
      "source": [
        "plot_graphs(history1, 'accuracy') #심하게 출렁거림"
      ],
      "execution_count": 9,
      "outputs": [
        {
          "output_type": "display_data",
          "data": {
            "image/png": "[encoded data removed]",
            "text/plain": [
              "<Figure size 432x288 with 1 Axes>"
            ]
          },
          "metadata": {
            "tags": [],
            "needs_background": "light"
          }
        }
      ]
    },
    {
      "cell_type": "code",
      "metadata": {
        "id": "R_sX6ilIM515",
        "outputId": "e93e1142-4f88-44e3-e82f-ee3824471831",
        "colab": {
          "base_uri": "https://localhost:8080/",
          "height": 279
        }
      },
      "source": [
        "plot_graphs(history2, 'accuracy') "
      ],
      "execution_count": 10,
      "outputs": [
        {
          "output_type": "display_data",
          "data": {
            "image/png": "[encoded data removed]",
            "text/plain": [
              "<Figure size 432x288 with 1 Axes>"
            ]
          },
          "metadata": {
            "tags": [],
            "needs_background": "light"
          }
        }
      ]
    },
    {
      "cell_type": "code",
      "metadata": {
        "id": "qK3yjsNPHlqj",
        "outputId": "b53297ba-bb44-492d-bd9e-509ab75ed190",
        "colab": {
          "base_uri": "https://localhost:8080/",
          "height": 279
        }
      },
      "source": [
        "plot_graphs(history1, 'loss') #overfitting 정도가 더 심함"
      ],
      "execution_count": 11,
      "outputs": [
        {
          "output_type": "display_data",
          "data": {
            "image/png": "[encoded data removed]",
            "text/plain": [
              "<Figure size 432x288 with 1 Axes>"
            ]
          },
          "metadata": {
            "tags": [],
            "needs_background": "light"
          }
        }
      ]
    },
    {
      "cell_type": "code",
      "metadata": {
        "id": "RFEXtKtqNARB",
        "outputId": "8e9e11ae-c945-4571-d47f-5d9ea778a609",
        "colab": {
          "base_uri": "https://localhost:8080/",
          "height": 279
        }
      },
      "source": [
        "plot_graphs(history2, 'loss')"
      ],
      "execution_count": 12,
      "outputs": [
        {
          "output_type": "display_data",
          "data": {
            "image/png": "[encoded data removed]",
            "text/plain": [
              "<Figure size 432x288 with 1 Axes>"
            ]
          },
          "metadata": {
            "tags": [],
            "needs_background": "light"
          }
        }
      ]
    },
    {
      "cell_type": "code",
      "metadata": {
        "id": "2bl7UGmvCsYE",
        "outputId": "c3e89696-6560-46d9-d7c6-ec0895990bf3",
        "colab": {
          "base_uri": "https://localhost:8080/",
          "height": 683
        }
      },
      "source": [
        "model = tf.keras.Sequential([\n",
        "                             \n",
        "    tf.keras.layers.Embedding(tokenizer.vocab_size, 64),\n",
        "    tf.keras.layers.Conv1D(128, 5, activation='relu'), #( maxlength-5+1, 128)\n",
        "    tf.keras.layers.GlobalAveragePooling1D(),\n",
        "\n",
        "    tf.keras.layers.Dense(64, activation='relu'),\n",
        "    tf.keras.layers.Dense(1, activation='sigmoid')\n",
        "])\n",
        "\n",
        "\n",
        "model.summary()\n",
        "\n",
        "model.compile(loss='binary_crossentropy', optimizer='adam', metrics=['accuracy'])\n",
        "\n",
        "NUM_EPOCHS = 10\n",
        "history3 = model.fit(train_dataset, epochs=NUM_EPOCHS, validation_data=test_dataset)"
      ],
      "execution_count": 16,
      "outputs": [
        {
          "output_type": "stream",
          "text": [
            "Model: \"sequential_3\"\n",
            "_________________________________________________________________\n",
            "Layer (type)                 Output Shape              Param #   \n",
            "=================================================================\n",
            "embedding_3 (Embedding)      (None, None, 64)          523840    \n",
            "_________________________________________________________________\n",
            "conv1d (Conv1D)              (None, None, 128)         41088     \n",
            "_________________________________________________________________\n",
            "global_average_pooling1d_1 ( (None, 128)               0         \n",
            "_________________________________________________________________\n",
            "dense_6 (Dense)              (None, 64)                8256      \n",
            "_________________________________________________________________\n",
            "dense_7 (Dense)              (None, 1)                 65        \n",
            "=================================================================\n",
            "Total params: 573,249\n",
            "Trainable params: 573,249\n",
            "Non-trainable params: 0\n",
            "_________________________________________________________________\n",
            "Epoch 1/10\n",
            "391/391 [==============================] - 25s 65ms/step - loss: 0.4537 - accuracy: 0.7734 - val_loss: 0.3076 - val_accuracy: 0.8770\n",
            "Epoch 2/10\n",
            "391/391 [==============================] - 17s 43ms/step - loss: 0.2242 - accuracy: 0.9156 - val_loss: 0.2979 - val_accuracy: 0.8808\n",
            "Epoch 3/10\n",
            "391/391 [==============================] - 15s 39ms/step - loss: 0.1711 - accuracy: 0.9371 - val_loss: 0.3633 - val_accuracy: 0.8634\n",
            "Epoch 4/10\n",
            "391/391 [==============================] - 15s 38ms/step - loss: 0.1349 - accuracy: 0.9532 - val_loss: 0.3528 - val_accuracy: 0.8693\n",
            "Epoch 5/10\n",
            "391/391 [==============================] - 15s 37ms/step - loss: 0.1089 - accuracy: 0.9620 - val_loss: 0.4233 - val_accuracy: 0.8660\n",
            "Epoch 6/10\n",
            "391/391 [==============================] - 14s 37ms/step - loss: 0.0873 - accuracy: 0.9707 - val_loss: 0.4878 - val_accuracy: 0.8628\n",
            "Epoch 7/10\n",
            "391/391 [==============================] - 14s 37ms/step - loss: 0.0669 - accuracy: 0.9795 - val_loss: 0.5805 - val_accuracy: 0.8605\n",
            "Epoch 8/10\n",
            "391/391 [==============================] - 14s 36ms/step - loss: 0.0532 - accuracy: 0.9838 - val_loss: 0.6073 - val_accuracy: 0.8563\n",
            "Epoch 9/10\n",
            "391/391 [==============================] - 15s 37ms/step - loss: 0.0391 - accuracy: 0.9892 - val_loss: 0.7235 - val_accuracy: 0.8545\n",
            "Epoch 10/10\n",
            "391/391 [==============================] - 14s 36ms/step - loss: 0.0310 - accuracy: 0.9923 - val_loss: 0.8226 - val_accuracy: 0.8546\n"
          ],
          "name": "stdout"
        }
      ]
    },
    {
      "cell_type": "code",
      "metadata": {
        "id": "k8mCRXZ7IKnJ",
        "outputId": "1c3b4686-60fa-475e-d3de-d737d4b3858c",
        "colab": {
          "base_uri": "https://localhost:8080/",
          "height": 280
        }
      },
      "source": [
        "plot_graphs(history3, 'accuracy')  "
      ],
      "execution_count": 17,
      "outputs": [
        {
          "output_type": "display_data",
          "data": {
            "image/png": "[encoded data removed]",
            "text/plain": [
              "<Figure size 432x288 with 1 Axes>"
            ]
          },
          "metadata": {
            "tags": [],
            "needs_background": "light"
          }
        }
      ]
    },
    {
      "cell_type": "code",
      "metadata": {
        "id": "TC9hCzCWIMoN",
        "outputId": "b3eb898f-40e4-4e3f-c88d-83d76e66a0c4",
        "colab": {
          "base_uri": "https://localhost:8080/",
          "height": 279
        }
      },
      "source": [
        "plot_graphs(history3, 'loss')"
      ],
      "execution_count": 18,
      "outputs": [
        {
          "output_type": "display_data",
          "data": {
            "image/png": "[encoded data removed]",
            "text/plain": [
              "<Figure size 432x288 with 1 Axes>"
            ]
          },
          "metadata": {
            "tags": [],
            "needs_background": "light"
          }
        }
      ]
    },
    {
      "cell_type": "markdown",
      "metadata": {
        "id": "3QMgm3rnklwc"
      },
      "source": [
        "- /wo LSTM low acc\n",
        "- /w LSTM good val acc -> overfitting\n"
      ]
    },
    {
      "cell_type": "markdown",
      "metadata": {
        "id": "vAYfjwH4W5-m"
      },
      "source": [
        "**Why does sequence make a large difference when determining semantics of language?**\n",
        "\n",
        "Because the order in which words appear dictate their impact on the meaning of the sentence\n",
        "**How do Recurrent Neural Networks help you understand the impact of sequence on meaning?**\n",
        "\n",
        "They carry meaning from one cell to the next\n",
        "**How does an LSTM help understand meaning when words that qualify each other aren’t necessarily beside each other in a sentence?**\n",
        "\n",
        "Values from eariler words can be carried to later ones via a cell state\n",
        "**What keras layer type allows LSTMs to look forward and backward in a sentence?**\n",
        "\n",
        "Bidirectional\n",
        "**What’s the output shape of a bidirectional LSTM layer with 64 units?**\n",
        "\n",
        "(None, 128)\n",
        "**When stacking LSTMs, how do you instruct an LSTM to feed the next one in the sequence?**\n",
        "\n",
        "Ensure the return_sequences is set to True only on units that feed to another LSTM\n",
        "\n",
        "**If a sentence has 120 tokens in it, and a Conv1D with 128 filters with a Kernal size of 5 is passed over it, what’s the output shape?**\n",
        "(None,116,128)\n",
        "\n",
        "**What’s the best way to avoid overfitting in NLP datasets?**\n",
        "- None of the above(LSTMS,GRUs, Conv1D)"
      ]
    }
  ]
}