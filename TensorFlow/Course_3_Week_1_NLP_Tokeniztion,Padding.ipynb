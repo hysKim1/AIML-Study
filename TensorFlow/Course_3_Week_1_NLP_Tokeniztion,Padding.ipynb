{
  "nbformat": 4,
  "nbformat_minor": 0,
  "metadata": {
    "colab": {
      "name": "Course 3 - Week 1 - NLP:Tokeniztion,Padding",
      "provenance": [],
      "collapsed_sections": [],
      "toc_visible": true
    },
    "kernelspec": {
      "display_name": "Python 3",
      "name": "python3"
    }
  },
  "cells": [
    {
      "cell_type": "code",
      "metadata": {
        "id": "zX4Kg8DUTKWO"
      },
      "source": [
        "#@title Licensed under the Apache License, Version 2.0 (the \"License\");\n",
        "# you may not use this file except in compliance with the License.\n",
        "# You may obtain a copy of the License at\n",
        "#\n",
        "# https://www.apache.org/licenses/LICENSE-2.0\n",
        "#\n",
        "# Unless required by applicable law or agreed to in writing, software\n",
        "# distributed under the License is distributed on an \"AS IS\" BASIS,\n",
        "# WITHOUT WARRANTIES OR CONDITIONS OF ANY KIND, either express or implied.\n",
        "# See the License for the specific language governing permissions and\n",
        "# limitations under the License."
      ],
      "execution_count": null,
      "outputs": []
    },
    {
      "cell_type": "markdown",
      "metadata": {
        "id": "view-in-github"
      },
      "source": [
        "<a href=\"https://colab.research.google.com/github/lmoroney/dlaicourse/blob/master/TensorFlow%20In%20Practice/Course%203%20-%20NLP/Course%203%20-%20Week%201%20-%20Lesson%201.ipynb\" target=\"_parent\"><img src=\"https://colab.research.google.com/assets/colab-badge.svg\" alt=\"Open In Colab\"/></a>"
      ]
    },
    {
      "cell_type": "markdown",
      "metadata": {
        "id": "rX8mhOLljYeM"
      },
      "source": [
        "##### Copyright 2019 The TensorFlow Authors."
      ]
    },
    {
      "cell_type": "code",
      "metadata": {
        "cellView": "form",
        "id": "BZSlp3DAjdYf"
      },
      "source": [
        "#@title Licensed under the Apache License, Version 2.0 (the \"License\");\n",
        "# you may not use this file except in compliance with the License.\n",
        "# You may obtain a copy of the License at\n",
        "#\n",
        "# https://www.apache.org/licenses/LICENSE-2.0\n",
        "#\n",
        "# Unless required by applicable law or agreed to in writing, software\n",
        "# distributed under the License is distributed on an \"AS IS\" BASIS,\n",
        "# WITHOUT WARRANTIES OR CONDITIONS OF ANY KIND, either express or implied.\n",
        "# See the License for the specific language governing permissions and\n",
        "# limitations under the License."
      ],
      "execution_count": null,
      "outputs": []
    },
    {
      "cell_type": "markdown",
      "metadata": {
        "id": "JmM5OKS71x6S"
      },
      "source": [
        "텍스트 인코딩 방법\n",
        "1. ASCII로 encoding \n",
        "- 예. Listen  == silent encoding된 숫자로만으로는 둘이 같다.\n",
        "2. Token \n",
        "- 단어마다 숫자로 embedding(label embedding)\n",
        "- 예. I love my dog = [1,2,3,4]\n",
        "- {I:1, love:2, my:3,dog:4}\n"
      ]
    },
    {
      "cell_type": "code",
      "metadata": {
        "id": "zaCMcjMQifQc",
        "outputId": "41ba0ff2-0d26-4cfb-b98f-da7567dd3e5e",
        "colab": {
          "base_uri": "https://localhost:8080/",
          "height": 71
        }
      },
      "source": [
        "#Text 토큰화:sentences -> token(turn in to numbers)\n",
        "from tensorflow.keras.preprocessing.text import Tokenizer\n",
        "\n",
        "sentences = [\n",
        "    'i love my dog',\n",
        "    'I, love my cat',\n",
        "    'You love my dog!',\n",
        "    'Do you think my cats are cute'\n",
        "]#마지막 문장은 길이가 다름\n",
        "#100 the most common words  -> punctuation(commas, !,space) ignored, case-insensitive \n",
        "tokenizer = Tokenizer(num_words = 100)\n",
        "tokenizer.fit_on_texts(sentences)\n",
        "\n",
        "word_index = tokenizer.word_index #{'word': int }dictionary to look up which word goest with which number\n",
        "#texts_to_sequences: 인덱스 기반으로 문장을 값으로 encoding\n",
        "sequences = tokenizer.texts_to_sequences(sentences)\n",
        "print(word_index)\n",
        "print(sequences)"
      ],
      "execution_count": 6,
      "outputs": [
        {
          "output_type": "stream",
          "text": [
            "{'my': 1, 'love': 2, 'i': 3, 'dog': 4, 'you': 5, 'cat': 6, 'do': 7, 'think': 8, 'cats': 9, 'are': 10, 'cute': 11}\n",
            "[[3, 2, 1, 4], [3, 2, 1, 6], [5, 2, 1, 4], [7, 5, 8, 1, 9, 10, 11]]\n"
          ],
          "name": "stdout"
        }
      ]
    },
    {
      "cell_type": "code",
      "metadata": {
        "id": "H-sz3jFMgqRX",
        "outputId": "a6c11e0d-1e76-4f19-ab6e-c07bd58ce04d",
        "colab": {
          "base_uri": "https://localhost:8080/",
          "height": 34
        }
      },
      "source": [
        "test_data= [\n",
        "            'I really love my cats', \n",
        "            ' My cats love me!'\n",
        "]\n",
        "\n",
        "#unseen words위에 나오지 않은 really, cats 는 없어서 무시됨\n",
        "test_seq=tokenizer.texts_to_sequences(test_data)\n",
        "print(test_seq)"
      ],
      "execution_count": 5,
      "outputs": [
        {
          "output_type": "stream",
          "text": [
            "[[3, 1, 2], [2, 1]]\n"
          ],
          "name": "stdout"
        }
      ]
    },
    {
      "cell_type": "markdown",
      "metadata": {
        "id": "05cH-_XRiMYR"
      },
      "source": [
        "#### OOV token\n",
        "- replacing unseen words by OOV token"
      ]
    },
    {
      "cell_type": "code",
      "metadata": {
        "id": "bE_B4j1fh6l0",
        "outputId": "48baf573-1895-40c1-e570-e3d470722aba",
        "colab": {
          "base_uri": "https://localhost:8080/",
          "height": 34
        }
      },
      "source": [
        "#OOV(out of vocabulary) 토큰 : training, test 데이터 모두 보여줌(ㅈ)\n",
        "tokenizer = Tokenizer(num_words = 100, oov_token=\"<OOV>\")\n",
        "tokenizer.fit_on_texts(sentences)\n",
        "word_index = tokenizer.word_index\n",
        "\n",
        "sequences = tokenizer.texts_to_sequences(sentences)\n",
        "\n",
        "test_data= [\n",
        "            'I really love my kittens', \n",
        "            ' My cats love me!'\n",
        "]\n",
        "# really,kittens, me는 OOV로 대체됨\n",
        "test_seq=tokenizer.texts_to_sequences(test_data)\n",
        "print(test_seq)"
      ],
      "execution_count": 13,
      "outputs": [
        {
          "output_type": "stream",
          "text": [
            "[[4, 1, 3, 2, 1], [2, 10, 3, 1]]\n"
          ],
          "name": "stdout"
        }
      ]
    },
    {
      "cell_type": "code",
      "metadata": {
        "id": "wJmuPAc0jIdb",
        "outputId": "3b1c7f75-75ba-4943-a63e-40199cba297e",
        "colab": {
          "base_uri": "https://localhost:8080/",
          "height": 54
        }
      },
      "source": [
        "print(word_index)"
      ],
      "execution_count": 14,
      "outputs": [
        {
          "output_type": "stream",
          "text": [
            "{'<OOV>': 1, 'my': 2, 'love': 3, 'i': 4, 'dog': 5, 'you': 6, 'cat': 7, 'do': 8, 'think': 9, 'cats': 10, 'are': 11, 'cute': 12}\n"
          ],
          "name": "stdout"
        }
      ]
    },
    {
      "cell_type": "code",
      "metadata": {
        "id": "_P4QozJVjLrA",
        "outputId": "3e75b480-73de-484b-be49-6f8d44a79739",
        "colab": {
          "base_uri": "https://localhost:8080/",
          "height": 207
        }
      },
      "source": [
        "### padding\n",
        "import tensorflow as tf\n",
        "from tensorflow import keras\n",
        "from tensorflow.keras.preprocessing.text import Tokenizer\n",
        "from tensorflow.keras.preprocessing.sequence import pad_sequences\n",
        "\n",
        "\n",
        "tokenizer = Tokenizer(num_words = 100, oov_token=\"<OOV>\")\n",
        "tokenizer.fit_on_texts(sentences)\n",
        "word_index = tokenizer.word_index\n",
        "\n",
        "sequences = tokenizer.texts_to_sequences(sentences)\n",
        "\n",
        "padded = pad_sequences(sequences, maxlen=5)\n",
        "print(\"\\nWord Index = \" , word_index)\n",
        "print(\"\\nSequences = \" , sequences)\n",
        "print(\"\\nPadded Sequences:\")\n",
        "print(padded) # 길이 다른 벡터->최대 길이가 5인 행렬 (긴문장은 앞부분부터 잘림 )"
      ],
      "execution_count": 9,
      "outputs": [
        {
          "output_type": "stream",
          "text": [
            "\n",
            "Word Index =  {'<OOV>': 1, 'my': 2, 'love': 3, 'i': 4, 'dog': 5, 'you': 6, 'cat': 7, 'do': 8, 'think': 9, 'cats': 10, 'are': 11, 'cute': 12}\n",
            "\n",
            "Sequences =  [[4, 3, 2, 5], [4, 3, 2, 7], [6, 3, 2, 5], [8, 6, 9, 2, 10, 11, 12]]\n",
            "\n",
            "Padded Sequences:\n",
            "[[ 0  4  3  2  5]\n",
            " [ 0  4  3  2  7]\n",
            " [ 0  6  3  2  5]\n",
            " [ 9  2 10 11 12]]\n"
          ],
          "name": "stdout"
        }
      ]
    },
    {
      "cell_type": "code",
      "metadata": {
        "id": "1vKFMP57kJWN",
        "outputId": "17e84c2c-014f-47d9-b2e4-b4e3e8c72a69",
        "colab": {
          "base_uri": "https://localhost:8080/",
          "height": 207
        }
      },
      "source": [
        "padded = pad_sequences(sequences, maxlen=10, padding='post',truncating='post')\n",
        "print(\"\\nWord Index = \" , word_index)\n",
        "print(\"\\nSequences = \" , sequences)\n",
        "print(\"\\nPadded Sequences:\")\n",
        "print(padded) #  길이 다른 벡터->길이가 10인 행렬\n"
      ],
      "execution_count": 12,
      "outputs": [
        {
          "output_type": "stream",
          "text": [
            "\n",
            "Word Index =  {'<OOV>': 1, 'my': 2, 'love': 3, 'i': 4, 'dog': 5, 'you': 6, 'cat': 7, 'do': 8, 'think': 9, 'cats': 10, 'are': 11, 'cute': 12}\n",
            "\n",
            "Sequences =  [[4, 3, 2, 5], [4, 3, 2, 7], [6, 3, 2, 5], [8, 6, 9, 2, 10, 11, 12]]\n",
            "\n",
            "Padded Sequences:\n",
            "[[ 4  3  2  5  0  0  0  0  0  0]\n",
            " [ 4  3  2  7  0  0  0  0  0  0]\n",
            " [ 6  3  2  5  0  0  0  0  0  0]\n",
            " [ 8  6  9  2 10 11 12  0  0  0]]\n"
          ],
          "name": "stdout"
        }
      ]
    },
    {
      "cell_type": "code",
      "metadata": {
        "id": "4cUgUfA3jwxL",
        "outputId": "3fbf0f24-2bdb-4273-8409-5aa1a62f6060",
        "colab": {
          "base_uri": "https://localhost:8080/",
          "height": 119
        }
      },
      "source": [
        "# Try with words that the tokenizer wasn't fit to\n",
        "test_data = [\n",
        "    'i really love my dog',\n",
        "    'my dog loves my manatee'\n",
        "]\n",
        "\n",
        "test_seq = tokenizer.texts_to_sequences(test_data)\n",
        "print(\"\\nTest Sequence = \", test_seq)\n",
        "padded = pad_sequences(test_seq, maxlen=10)\n",
        "print(\"\\nPadded Test Sequence: \")\n",
        "print(padded)"
      ],
      "execution_count": 10,
      "outputs": [
        {
          "output_type": "stream",
          "text": [
            "\n",
            "Test Sequence =  [[4, 1, 3, 2, 5], [2, 5, 1, 2, 1]]\n",
            "\n",
            "Padded Test Sequence: \n",
            "[[0 0 0 0 0 4 1 3 2 5]\n",
            " [0 0 0 0 0 2 5 1 2 1]]\n"
          ],
          "name": "stdout"
        }
      ]
    },
    {
      "cell_type": "markdown",
      "metadata": {
        "id": "JwkQaZ0SzH8q"
      },
      "source": [
        "**What is the name of the object used to tokenize sentences?**\n",
        "Tokenizer\n",
        "\n",
        "**What is the name of the method used to tokenize a list of sentences?**\n",
        "\n",
        "tokenizer**.fit_on_texts**(sentences)\n",
        "\n",
        "**Once you have the corpus tokenized, what’s the method used to encode a list of sentences to use those tokens?** \n",
        "\n",
        "sequences = tokenizer**.texts_to_sequences**(sentences)\n",
        "\n",
        "**When initializing the tokenizer, how to you specify a token to use for unknown words?**\n",
        "\n",
        "oov_token= < Token >\n",
        "\n",
        "**If you don’t use a token for out of vocabulary words, what happens at encoding?**\n",
        "\n",
        "the word isn't encoded, and is skipped in the sequence\n",
        "\n",
        "**If you have a number of sequences of different lengths, how do you ensure that they are understood when fed into a neural network?**\n",
        "\n",
        "Use the pad_sequences object from tensorflow.keras.preprocessing.sequence namespace\n",
        "\n",
        "**If you have a number of sequences of different length, and call pad_sequences on them, what’s the default result?**\n",
        "\n",
        "they will get padded to the length of the longest sequences by adding zeros to the beginning of shorter ones\n",
        "\n",
        "**When padding sequences, if you want the padding to be at the end of the sequence, how do you do it?**\n",
        "Pass padding='post' to pad_sequences when initializing it."
      ]
    }
  ]
}